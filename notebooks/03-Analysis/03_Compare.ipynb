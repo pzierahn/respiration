{
 "cells": [
  {
   "metadata": {},
   "cell_type": "code",
   "source": [
    "import pandas as pd\n",
    "import respiration.utils as utils\n",
    "\n",
    "analysis_dir = utils.dir_path('outputs', 'analysis')\n",
    "\n",
    "metrics_file = utils.join_paths(analysis_dir, 'metrics.csv')\n",
    "metrics = pd.read_csv(metrics_file)\n",
    "\n",
    "metrics_avg_file = utils.join_paths(analysis_dir, 'metrics_average.csv')\n",
    "metrics_average = pd.read_csv(metrics_avg_file)"
   ],
   "id": "723b645d87e372be",
   "outputs": [],
   "execution_count": null
  },
  {
   "metadata": {},
   "cell_type": "code",
   "source": "figure_dir = utils.dir_path('outputs', 'figures', mkdir=True)",
   "id": "3d877f299ebbd8f0",
   "outputs": [],
   "execution_count": null
  },
  {
   "metadata": {},
   "cell_type": "code",
   "source": [
    "model_selection = [\n",
    "    \"raft_small\",\n",
    "    \"raft_large\",\n",
    "    \"lucas_kanade\",\n",
    "    \"pixel_intensity_grey\",\n",
    "    \"FlowNet2S\",  # Best on PSD\n",
    "    \"FlowNet2CS\",  # Best on average\n",
    "    \"big_small\",\n",
    "    \"mtts_can\",\n",
    "    \"UBFC_cross_RhythmFormer\",\n",
    "    \"SCAMPS_TSCAN\",\n",
    "    \"SCAMPS_DeepPhys\",\n",
    "    \"PURE_EfficientPhys\",\n",
    "    \"random\",\n",
    "    \"SimpleViT_20240821_115511\",  # Best Normal on Average\n",
    "    # \"SimpleViT_20240729_195756\",\n",
    "    # \"SimpleViT_20240728_172805\",\n",
    "    # # \"RF_20240902_210159\",  # Winner PSD\n",
    "    # \"RF_20240903_051739\",  # Winner PK\n",
    "    # # \"RF_20240904_001421\",  # Face Winner psd\n",
    "    # \"RF_20240904_001421\",  # Face Winner pk\n",
    "    \"RF_20240902_210159\",  # Best Normal on Average\n",
    "    \"RF_20240904_001421\",  # Best Face on Average\n",
    "]"
   ],
   "id": "4eebb2665c9b5202",
   "outputs": [],
   "execution_count": null
  },
  {
   "metadata": {},
   "cell_type": "code",
   "source": [
    "# Add an empty column to the metrics_average dataframe\n",
    "metrics_average['color'] = ''\n",
    "\n",
    "for row in metrics_average.itertuples():\n",
    "    model = row.model\n",
    "\n",
    "    color = model\n",
    "\n",
    "    if model.startswith('raft_') or model.startswith('FlowNet2') or model.startswith('lucas_kanade') or model.startswith('pixel_intensity'):\n",
    "        color = 'Optical Flow'\n",
    "        \n",
    "    if model.startswith('RF_') or model.startswith('SimpleViT'):\n",
    "        color = 'Normal'\n",
    "\n",
    "    if model in ['big_small', 'mtts_can']:\n",
    "        color = 'Pretrained'\n",
    "\n",
    "    if model in ['UBFC_cross_RhythmFormer', 'SCAMPS_TSCAN', 'SCAMPS_DeepPhys', 'PURE_EfficientPhys']:\n",
    "        color = 'rPPG'\n",
    "\n",
    "    metrics_average.at[row.Index, 'color'] = color"
   ],
   "id": "9b35d2da5edcd566",
   "outputs": [],
   "execution_count": null
  },
  {
   "metadata": {},
   "cell_type": "code",
   "source": [
    "# Plot the MAE and PCC for the psd method\n",
    "import seaborn as sns\n",
    "import matplotlib.pyplot as plt\n",
    "\n",
    "fig = plt.figure(figsize=(12, 6))\n",
    "\n",
    "points = metrics_average[metrics_average['model'].isin(model_selection)]\n",
    "\n",
    "# Scatter the MAE and PCC for the different models\n",
    "sns.scatterplot(\n",
    "    data=points,\n",
    "    x='mae',\n",
    "    y='pcc',\n",
    "    s=250,\n",
    "    style='model',\n",
    "    hue='color',\n",
    ")\n",
    "\n",
    "plt.xlabel('MAE (BPM)')\n",
    "plt.ylabel('Correlation')\n",
    "plt.title('MAE and Pearson Correlation for the different models')\n",
    "plt.tight_layout()\n",
    "\n",
    "# Set the dimensions of the plot\n",
    "# plt.xlim(0, 8)\n",
    "# plt.ylim(0, 1)\n",
    "\n",
    "# Place the legend outside the plot\n",
    "plt.legend(loc='center left', bbox_to_anchor=(1, 0.5))\n",
    "\n",
    "plt.show()"
   ],
   "id": "32fe4d71b2b2b895",
   "outputs": [],
   "execution_count": null
  }
 ],
 "metadata": {
  "kernelspec": {
   "display_name": "Python 3",
   "language": "python",
   "name": "python3"
  },
  "language_info": {
   "codemirror_mode": {
    "name": "ipython",
    "version": 2
   },
   "file_extension": ".py",
   "mimetype": "text/x-python",
   "name": "python",
   "nbconvert_exporter": "python",
   "pygments_lexer": "ipython2",
   "version": "2.7.6"
  }
 },
 "nbformat": 4,
 "nbformat_minor": 5
}
