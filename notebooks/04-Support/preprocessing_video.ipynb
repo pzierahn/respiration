{
 "cells": [
  {
   "metadata": {},
   "cell_type": "markdown",
   "source": "# Preprocessing Video",
   "id": "217b4faa2df308ba"
  },
  {
   "cell_type": "code",
   "id": "initial_id",
   "metadata": {
    "collapsed": true
   },
   "source": [
    "from respiration.dataset import VitalCamSet\n",
    "\n",
    "dataset = VitalCamSet()\n",
    "\n",
    "subject = 'Proband01'\n",
    "setting = '101_natural_lighting'"
   ],
   "outputs": [],
   "execution_count": null
  },
  {
   "metadata": {},
   "cell_type": "code",
   "source": "frames, _ = dataset.get_video_rgb(subject, setting, 1)",
   "id": "68dc1977579cd0f9",
   "outputs": [],
   "execution_count": null
  },
  {
   "metadata": {},
   "cell_type": "code",
   "source": [
    "import respiration.utils as utils\n",
    "\n",
    "image_sizes = [\n",
    "    (72, 72),\n",
    "    (128, 128),\n",
    "    (256, 256),\n",
    "]\n",
    "\n",
    "scaled_frames = []\n",
    "\n",
    "for image_size in image_sizes:\n",
    "    preprocessed_frames = utils.preprocess_frames(frames, image_size)\n",
    "    frame = preprocessed_frames[0].squeeze().permute(1, 2, 0).numpy()\n",
    "    scaled_frames.append(frame)"
   ],
   "id": "b3a405bfc6a719b1",
   "outputs": [],
   "execution_count": null
  },
  {
   "metadata": {},
   "cell_type": "code",
   "source": [
    "import matplotlib.pyplot as plt\n",
    "\n",
    "fig, axes = plt.subplots(1, len(image_sizes), figsize=(10, 5))\n",
    "\n",
    "for ax, frame, image_size in zip(axes, scaled_frames, image_sizes):\n",
    "    ax.imshow(frame)\n",
    "    ax.set_title(f'Image size: {image_size}')\n",
    "    \n",
    "plt.show()"
   ],
   "id": "54836e655a3098cd",
   "outputs": [],
   "execution_count": null
  }
 ],
 "metadata": {
  "kernelspec": {
   "display_name": "Python 3",
   "language": "python",
   "name": "python3"
  },
  "language_info": {
   "codemirror_mode": {
    "name": "ipython",
    "version": 2
   },
   "file_extension": ".py",
   "mimetype": "text/x-python",
   "name": "python",
   "nbconvert_exporter": "python",
   "pygments_lexer": "ipython2",
   "version": "2.7.6"
  }
 },
 "nbformat": 4,
 "nbformat_minor": 5
}
