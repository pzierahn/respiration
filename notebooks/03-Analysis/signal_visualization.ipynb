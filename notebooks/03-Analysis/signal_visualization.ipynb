{
 "cells": [
  {
   "metadata": {},
   "cell_type": "markdown",
   "source": [
    "# Evaluation\n",
    "\n",
    "Steps:\n",
    "1. Harmonize the predictions to have the same format\n",
    "2. Extract the frequencies using a sliding window approach\n",
    "3. Evaluate the performance of the models\n",
    "4. Visualize the results"
   ],
   "id": "858d2eaef54d2b36"
  },
  {
   "metadata": {},
   "cell_type": "markdown",
   "source": "## Step 1: Harmonize the predictions",
   "id": "d5de492f4255dbcf"
  },
  {
   "cell_type": "code",
   "id": "db3bfc6b2e01322a",
   "metadata": {
    "collapsed": true,
    "ExecuteTime": {
     "end_time": "2024-08-04T16:53:23.718351Z",
     "start_time": "2024-08-04T16:53:22.559510Z"
    }
   },
   "source": [
    "import numpy as np\n",
    "import pandas as pd\n",
    "import respiration.utils as utils\n",
    "\n",
    "signals_dir = utils.dir_path('outputs', 'signals')"
   ],
   "outputs": [],
   "execution_count": 1
  },
  {
   "metadata": {
    "ExecuteTime": {
     "end_time": "2024-08-04T16:53:24.461335Z",
     "start_time": "2024-08-04T16:53:23.719046Z"
    }
   },
   "cell_type": "code",
   "source": [
    "raft_file = utils.join_paths(signals_dir, 'raft_predictions.csv')\n",
    "raft_predictions = pd.read_csv(raft_file)\n",
    "raft_predictions['signal'] = raft_predictions['signal_v'].apply(eval).apply(np.array)\n",
    "\n",
    "# Only keep the chest roi predictions\n",
    "raft_predictions = raft_predictions[raft_predictions['roi'] == 'chest']\n",
    "\n",
    "# Only keep the columns that are needed\n",
    "raft_predictions = raft_predictions[['subject', 'setting', 'model', 'signal']]\n",
    "\n",
    "raft_predictions.head()"
   ],
   "id": "9e7ad8144746a824",
   "outputs": [
    {
     "data": {
      "text/plain": [
       "      subject               setting       model  \\\n",
       "1   Proband01  101_natural_lighting  raft_large   \n",
       "4   Proband01  101_natural_lighting  raft_small   \n",
       "7   Proband02  101_natural_lighting  raft_large   \n",
       "10  Proband02  101_natural_lighting  raft_small   \n",
       "13  Proband03  101_natural_lighting  raft_large   \n",
       "\n",
       "                                               signal  \n",
       "1   [-0.046315472573041916, -0.08250490576028824, ...  \n",
       "4   [-0.031725313514471054, -0.021138720214366913,...  \n",
       "7   [0.004266717471182346, -0.023671478033065796, ...  \n",
       "10  [-0.01642800122499466, 0.0195891335606575, 0.0...  \n",
       "13  [0.0041928417049348354, -0.011556083336472511,...  "
      ],
      "text/html": [
       "<div>\n",
       "<style scoped>\n",
       "    .dataframe tbody tr th:only-of-type {\n",
       "        vertical-align: middle;\n",
       "    }\n",
       "\n",
       "    .dataframe tbody tr th {\n",
       "        vertical-align: top;\n",
       "    }\n",
       "\n",
       "    .dataframe thead th {\n",
       "        text-align: right;\n",
       "    }\n",
       "</style>\n",
       "<table border=\"1\" class=\"dataframe\">\n",
       "  <thead>\n",
       "    <tr style=\"text-align: right;\">\n",
       "      <th></th>\n",
       "      <th>subject</th>\n",
       "      <th>setting</th>\n",
       "      <th>model</th>\n",
       "      <th>signal</th>\n",
       "    </tr>\n",
       "  </thead>\n",
       "  <tbody>\n",
       "    <tr>\n",
       "      <th>1</th>\n",
       "      <td>Proband01</td>\n",
       "      <td>101_natural_lighting</td>\n",
       "      <td>raft_large</td>\n",
       "      <td>[-0.046315472573041916, -0.08250490576028824, ...</td>\n",
       "    </tr>\n",
       "    <tr>\n",
       "      <th>4</th>\n",
       "      <td>Proband01</td>\n",
       "      <td>101_natural_lighting</td>\n",
       "      <td>raft_small</td>\n",
       "      <td>[-0.031725313514471054, -0.021138720214366913,...</td>\n",
       "    </tr>\n",
       "    <tr>\n",
       "      <th>7</th>\n",
       "      <td>Proband02</td>\n",
       "      <td>101_natural_lighting</td>\n",
       "      <td>raft_large</td>\n",
       "      <td>[0.004266717471182346, -0.023671478033065796, ...</td>\n",
       "    </tr>\n",
       "    <tr>\n",
       "      <th>10</th>\n",
       "      <td>Proband02</td>\n",
       "      <td>101_natural_lighting</td>\n",
       "      <td>raft_small</td>\n",
       "      <td>[-0.01642800122499466, 0.0195891335606575, 0.0...</td>\n",
       "    </tr>\n",
       "    <tr>\n",
       "      <th>13</th>\n",
       "      <td>Proband03</td>\n",
       "      <td>101_natural_lighting</td>\n",
       "      <td>raft_large</td>\n",
       "      <td>[0.0041928417049348354, -0.011556083336472511,...</td>\n",
       "    </tr>\n",
       "  </tbody>\n",
       "</table>\n",
       "</div>"
      ]
     },
     "execution_count": 2,
     "metadata": {},
     "output_type": "execute_result"
    }
   ],
   "execution_count": 2
  },
  {
   "metadata": {
    "ExecuteTime": {
     "end_time": "2024-08-04T16:53:26.566733Z",
     "start_time": "2024-08-04T16:53:24.462170Z"
    }
   },
   "cell_type": "code",
   "source": [
    "flownet_file = utils.join_paths(signals_dir, 'flownet_predictions.csv')\n",
    "flownet_predictions = pd.read_csv(flownet_file)\n",
    "flownet_predictions['signal'] = flownet_predictions['signal_v'].apply(eval).apply(np.array)\n",
    "\n",
    "# Only keep the chest roi predictions\n",
    "flownet_predictions = flownet_predictions[flownet_predictions['roi'] == 'chest']\n",
    "\n",
    "# Only keep the columns that are needed\n",
    "flownet_predictions = flownet_predictions[['subject', 'setting', 'model', 'signal']]\n",
    "\n",
    "flownet_predictions.head()"
   ],
   "id": "2a413445397940c2",
   "outputs": [
    {
     "data": {
      "text/plain": [
       "      subject               setting        model  \\\n",
       "1   Proband01  101_natural_lighting     FlowNet2   \n",
       "4   Proband01  101_natural_lighting    FlowNet2C   \n",
       "7   Proband01  101_natural_lighting   FlowNet2CS   \n",
       "10  Proband01  101_natural_lighting  FlowNet2CSS   \n",
       "13  Proband01  101_natural_lighting    FlowNet2S   \n",
       "\n",
       "                                               signal  \n",
       "1   [-0.00023249644436873496, -0.00023353847791440...  \n",
       "4   [-62.82395553588867, -62.83050537109375, -62.7...  \n",
       "7   [-48.91574478149414, -48.912803649902344, -48....  \n",
       "10  [-31.059289932250977, -31.22064208984375, -31....  \n",
       "13  [-0.43838709592819214, -0.4331112504005432, -0...  "
      ],
      "text/html": [
       "<div>\n",
       "<style scoped>\n",
       "    .dataframe tbody tr th:only-of-type {\n",
       "        vertical-align: middle;\n",
       "    }\n",
       "\n",
       "    .dataframe tbody tr th {\n",
       "        vertical-align: top;\n",
       "    }\n",
       "\n",
       "    .dataframe thead th {\n",
       "        text-align: right;\n",
       "    }\n",
       "</style>\n",
       "<table border=\"1\" class=\"dataframe\">\n",
       "  <thead>\n",
       "    <tr style=\"text-align: right;\">\n",
       "      <th></th>\n",
       "      <th>subject</th>\n",
       "      <th>setting</th>\n",
       "      <th>model</th>\n",
       "      <th>signal</th>\n",
       "    </tr>\n",
       "  </thead>\n",
       "  <tbody>\n",
       "    <tr>\n",
       "      <th>1</th>\n",
       "      <td>Proband01</td>\n",
       "      <td>101_natural_lighting</td>\n",
       "      <td>FlowNet2</td>\n",
       "      <td>[-0.00023249644436873496, -0.00023353847791440...</td>\n",
       "    </tr>\n",
       "    <tr>\n",
       "      <th>4</th>\n",
       "      <td>Proband01</td>\n",
       "      <td>101_natural_lighting</td>\n",
       "      <td>FlowNet2C</td>\n",
       "      <td>[-62.82395553588867, -62.83050537109375, -62.7...</td>\n",
       "    </tr>\n",
       "    <tr>\n",
       "      <th>7</th>\n",
       "      <td>Proband01</td>\n",
       "      <td>101_natural_lighting</td>\n",
       "      <td>FlowNet2CS</td>\n",
       "      <td>[-48.91574478149414, -48.912803649902344, -48....</td>\n",
       "    </tr>\n",
       "    <tr>\n",
       "      <th>10</th>\n",
       "      <td>Proband01</td>\n",
       "      <td>101_natural_lighting</td>\n",
       "      <td>FlowNet2CSS</td>\n",
       "      <td>[-31.059289932250977, -31.22064208984375, -31....</td>\n",
       "    </tr>\n",
       "    <tr>\n",
       "      <th>13</th>\n",
       "      <td>Proband01</td>\n",
       "      <td>101_natural_lighting</td>\n",
       "      <td>FlowNet2S</td>\n",
       "      <td>[-0.43838709592819214, -0.4331112504005432, -0...</td>\n",
       "    </tr>\n",
       "  </tbody>\n",
       "</table>\n",
       "</div>"
      ]
     },
     "execution_count": 3,
     "metadata": {},
     "output_type": "execute_result"
    }
   ],
   "execution_count": 3
  },
  {
   "metadata": {
    "ExecuteTime": {
     "end_time": "2024-08-04T16:53:26.766860Z",
     "start_time": "2024-08-04T16:53:26.567387Z"
    }
   },
   "cell_type": "code",
   "source": [
    "pretrained_file = utils.join_paths(signals_dir, 'pretrained_predictions.csv')\n",
    "pretrained_predictions = pd.read_csv(pretrained_file)\n",
    "pretrained_predictions['signal'] = pretrained_predictions['signal'].apply(eval).apply(np.array)\n",
    "\n",
    "# Only keep the columns that are needed\n",
    "pretrained_predictions = pretrained_predictions[['subject', 'setting', 'model', 'signal']]\n",
    "\n",
    "pretrained_predictions.head()"
   ],
   "id": "initial_id",
   "outputs": [
    {
     "data": {
      "text/plain": [
       "     subject               setting      model  \\\n",
       "0  Proband01  101_natural_lighting   mtts_can   \n",
       "1  Proband01  101_natural_lighting  big_small   \n",
       "2  Proband02  101_natural_lighting   mtts_can   \n",
       "3  Proband02  101_natural_lighting  big_small   \n",
       "4  Proband03  101_natural_lighting   mtts_can   \n",
       "\n",
       "                                              signal  \n",
       "0  [0.5543686151504517, 0.4143042266368866, 0.193...  \n",
       "1  [-0.06490246951580048, -0.0634026825428009, -0...  \n",
       "2  [0.27873915433883667, -0.143912672996521, 0.35...  \n",
       "3  [-0.6646443009376526, -0.7338840365409851, -0....  \n",
       "4  [-0.07861271500587463, -0.34626856446266174, -...  "
      ],
      "text/html": [
       "<div>\n",
       "<style scoped>\n",
       "    .dataframe tbody tr th:only-of-type {\n",
       "        vertical-align: middle;\n",
       "    }\n",
       "\n",
       "    .dataframe tbody tr th {\n",
       "        vertical-align: top;\n",
       "    }\n",
       "\n",
       "    .dataframe thead th {\n",
       "        text-align: right;\n",
       "    }\n",
       "</style>\n",
       "<table border=\"1\" class=\"dataframe\">\n",
       "  <thead>\n",
       "    <tr style=\"text-align: right;\">\n",
       "      <th></th>\n",
       "      <th>subject</th>\n",
       "      <th>setting</th>\n",
       "      <th>model</th>\n",
       "      <th>signal</th>\n",
       "    </tr>\n",
       "  </thead>\n",
       "  <tbody>\n",
       "    <tr>\n",
       "      <th>0</th>\n",
       "      <td>Proband01</td>\n",
       "      <td>101_natural_lighting</td>\n",
       "      <td>mtts_can</td>\n",
       "      <td>[0.5543686151504517, 0.4143042266368866, 0.193...</td>\n",
       "    </tr>\n",
       "    <tr>\n",
       "      <th>1</th>\n",
       "      <td>Proband01</td>\n",
       "      <td>101_natural_lighting</td>\n",
       "      <td>big_small</td>\n",
       "      <td>[-0.06490246951580048, -0.0634026825428009, -0...</td>\n",
       "    </tr>\n",
       "    <tr>\n",
       "      <th>2</th>\n",
       "      <td>Proband02</td>\n",
       "      <td>101_natural_lighting</td>\n",
       "      <td>mtts_can</td>\n",
       "      <td>[0.27873915433883667, -0.143912672996521, 0.35...</td>\n",
       "    </tr>\n",
       "    <tr>\n",
       "      <th>3</th>\n",
       "      <td>Proband02</td>\n",
       "      <td>101_natural_lighting</td>\n",
       "      <td>big_small</td>\n",
       "      <td>[-0.6646443009376526, -0.7338840365409851, -0....</td>\n",
       "    </tr>\n",
       "    <tr>\n",
       "      <th>4</th>\n",
       "      <td>Proband03</td>\n",
       "      <td>101_natural_lighting</td>\n",
       "      <td>mtts_can</td>\n",
       "      <td>[-0.07861271500587463, -0.34626856446266174, -...</td>\n",
       "    </tr>\n",
       "  </tbody>\n",
       "</table>\n",
       "</div>"
      ]
     },
     "execution_count": 4,
     "metadata": {},
     "output_type": "execute_result"
    }
   ],
   "execution_count": 4
  },
  {
   "metadata": {
    "ExecuteTime": {
     "end_time": "2024-08-04T16:53:27.132557Z",
     "start_time": "2024-08-04T16:53:26.767288Z"
    }
   },
   "cell_type": "code",
   "source": [
    "lucas_kanade_file = utils.join_paths(signals_dir, 'lucas_kanade.csv')\n",
    "lucas_kanade = pd.read_csv(lucas_kanade_file)\n",
    "lucas_kanade['signal'] = lucas_kanade['signal'].apply(eval).apply(np.array)\n",
    "\n",
    "# Rename column method to model\n",
    "lucas_kanade.rename(columns={'method': 'model'}, inplace=True)\n",
    "\n",
    "# Remove all the rows that have a signal with a length of 0\n",
    "lucas_kanade = lucas_kanade[lucas_kanade['grey'] == False]\n",
    "\n",
    "# Only keep the columns that are needed\n",
    "lucas_kanade = lucas_kanade[['subject', 'setting', 'model', 'signal']]\n",
    "\n",
    "lucas_kanade.head()"
   ],
   "id": "f995d2bcc90e1731",
   "outputs": [
    {
     "data": {
      "text/plain": [
       "     subject               setting              model  \\\n",
       "0  Proband01  101_natural_lighting  lucas_kanade_cgof   \n",
       "1  Proband01  101_natural_lighting       lucas_kanade   \n",
       "4  Proband02  101_natural_lighting  lucas_kanade_cgof   \n",
       "5  Proband02  101_natural_lighting       lucas_kanade   \n",
       "8  Proband03  101_natural_lighting  lucas_kanade_cgof   \n",
       "\n",
       "                                              signal  \n",
       "0  [566.1892881912896, 566.1583861238988, 566.090...  \n",
       "1  [569.9464284117253, 569.8949780022082, 569.838...  \n",
       "4  [575.59385902618, 575.574281238526, 575.574272...  \n",
       "5  [575.5011444858751, 575.4824881353312, 575.475...  \n",
       "8  [560.2775401023979, 560.277917737341, 560.2593...  "
      ],
      "text/html": [
       "<div>\n",
       "<style scoped>\n",
       "    .dataframe tbody tr th:only-of-type {\n",
       "        vertical-align: middle;\n",
       "    }\n",
       "\n",
       "    .dataframe tbody tr th {\n",
       "        vertical-align: top;\n",
       "    }\n",
       "\n",
       "    .dataframe thead th {\n",
       "        text-align: right;\n",
       "    }\n",
       "</style>\n",
       "<table border=\"1\" class=\"dataframe\">\n",
       "  <thead>\n",
       "    <tr style=\"text-align: right;\">\n",
       "      <th></th>\n",
       "      <th>subject</th>\n",
       "      <th>setting</th>\n",
       "      <th>model</th>\n",
       "      <th>signal</th>\n",
       "    </tr>\n",
       "  </thead>\n",
       "  <tbody>\n",
       "    <tr>\n",
       "      <th>0</th>\n",
       "      <td>Proband01</td>\n",
       "      <td>101_natural_lighting</td>\n",
       "      <td>lucas_kanade_cgof</td>\n",
       "      <td>[566.1892881912896, 566.1583861238988, 566.090...</td>\n",
       "    </tr>\n",
       "    <tr>\n",
       "      <th>1</th>\n",
       "      <td>Proband01</td>\n",
       "      <td>101_natural_lighting</td>\n",
       "      <td>lucas_kanade</td>\n",
       "      <td>[569.9464284117253, 569.8949780022082, 569.838...</td>\n",
       "    </tr>\n",
       "    <tr>\n",
       "      <th>4</th>\n",
       "      <td>Proband02</td>\n",
       "      <td>101_natural_lighting</td>\n",
       "      <td>lucas_kanade_cgof</td>\n",
       "      <td>[575.59385902618, 575.574281238526, 575.574272...</td>\n",
       "    </tr>\n",
       "    <tr>\n",
       "      <th>5</th>\n",
       "      <td>Proband02</td>\n",
       "      <td>101_natural_lighting</td>\n",
       "      <td>lucas_kanade</td>\n",
       "      <td>[575.5011444858751, 575.4824881353312, 575.475...</td>\n",
       "    </tr>\n",
       "    <tr>\n",
       "      <th>8</th>\n",
       "      <td>Proband03</td>\n",
       "      <td>101_natural_lighting</td>\n",
       "      <td>lucas_kanade_cgof</td>\n",
       "      <td>[560.2775401023979, 560.277917737341, 560.2593...</td>\n",
       "    </tr>\n",
       "  </tbody>\n",
       "</table>\n",
       "</div>"
      ]
     },
     "execution_count": 5,
     "metadata": {},
     "output_type": "execute_result"
    }
   ],
   "execution_count": 5
  },
  {
   "metadata": {
    "ExecuteTime": {
     "end_time": "2024-08-04T16:53:27.335805Z",
     "start_time": "2024-08-04T16:53:27.133076Z"
    }
   },
   "cell_type": "code",
   "source": [
    "pixel_intensity_file = utils.join_paths(signals_dir, 'pixel_intensity.csv')\n",
    "pixel_intensity = pd.read_csv(pixel_intensity_file)\n",
    "pixel_intensity['signal'] = pixel_intensity['signal'].apply(eval).apply(np.array)\n",
    "\n",
    "# Rename column method to model\n",
    "pixel_intensity.rename(columns={'method': 'model'}, inplace=True)\n",
    "\n",
    "# Only keep the columns that are needed\n",
    "pixel_intensity = pixel_intensity[['subject', 'setting', 'model', 'signal']]\n",
    "\n",
    "pixel_intensity.head()"
   ],
   "id": "20bae0c2d2b60800",
   "outputs": [
    {
     "data": {
      "text/plain": [
       "     subject               setting                 model  \\\n",
       "0  Proband01  101_natural_lighting   pixel_intensity_rgb   \n",
       "1  Proband01  101_natural_lighting  pixel_intensity_grey   \n",
       "2  Proband02  101_natural_lighting   pixel_intensity_rgb   \n",
       "3  Proband02  101_natural_lighting  pixel_intensity_grey   \n",
       "4  Proband03  101_natural_lighting   pixel_intensity_rgb   \n",
       "\n",
       "                                              signal  \n",
       "0  [147.73177944862155, 147.68380952380954, 147.7...  \n",
       "1  [144.23864661654136, 144.1996992481203, 144.24...  \n",
       "2  [194.89094821602112, 194.8521449396085, 195.08...  \n",
       "3  [192.59745939192004, 192.5506039150354, 192.77...  \n",
       "4  [31.049242424242426, 31.09947964493419, 32.294...  "
      ],
      "text/html": [
       "<div>\n",
       "<style scoped>\n",
       "    .dataframe tbody tr th:only-of-type {\n",
       "        vertical-align: middle;\n",
       "    }\n",
       "\n",
       "    .dataframe tbody tr th {\n",
       "        vertical-align: top;\n",
       "    }\n",
       "\n",
       "    .dataframe thead th {\n",
       "        text-align: right;\n",
       "    }\n",
       "</style>\n",
       "<table border=\"1\" class=\"dataframe\">\n",
       "  <thead>\n",
       "    <tr style=\"text-align: right;\">\n",
       "      <th></th>\n",
       "      <th>subject</th>\n",
       "      <th>setting</th>\n",
       "      <th>model</th>\n",
       "      <th>signal</th>\n",
       "    </tr>\n",
       "  </thead>\n",
       "  <tbody>\n",
       "    <tr>\n",
       "      <th>0</th>\n",
       "      <td>Proband01</td>\n",
       "      <td>101_natural_lighting</td>\n",
       "      <td>pixel_intensity_rgb</td>\n",
       "      <td>[147.73177944862155, 147.68380952380954, 147.7...</td>\n",
       "    </tr>\n",
       "    <tr>\n",
       "      <th>1</th>\n",
       "      <td>Proband01</td>\n",
       "      <td>101_natural_lighting</td>\n",
       "      <td>pixel_intensity_grey</td>\n",
       "      <td>[144.23864661654136, 144.1996992481203, 144.24...</td>\n",
       "    </tr>\n",
       "    <tr>\n",
       "      <th>2</th>\n",
       "      <td>Proband02</td>\n",
       "      <td>101_natural_lighting</td>\n",
       "      <td>pixel_intensity_rgb</td>\n",
       "      <td>[194.89094821602112, 194.8521449396085, 195.08...</td>\n",
       "    </tr>\n",
       "    <tr>\n",
       "      <th>3</th>\n",
       "      <td>Proband02</td>\n",
       "      <td>101_natural_lighting</td>\n",
       "      <td>pixel_intensity_grey</td>\n",
       "      <td>[192.59745939192004, 192.5506039150354, 192.77...</td>\n",
       "    </tr>\n",
       "    <tr>\n",
       "      <th>4</th>\n",
       "      <td>Proband03</td>\n",
       "      <td>101_natural_lighting</td>\n",
       "      <td>pixel_intensity_rgb</td>\n",
       "      <td>[31.049242424242426, 31.09947964493419, 32.294...</td>\n",
       "    </tr>\n",
       "  </tbody>\n",
       "</table>\n",
       "</div>"
      ]
     },
     "execution_count": 6,
     "metadata": {},
     "output_type": "execute_result"
    }
   ],
   "execution_count": 6
  },
  {
   "metadata": {
    "ExecuteTime": {
     "end_time": "2024-08-04T16:53:28.311164Z",
     "start_time": "2024-08-04T16:53:27.336496Z"
    }
   },
   "cell_type": "code",
   "source": [
    "r_ppg_path = utils.join_paths(signals_dir, 'r_ppg_predictions.csv')\n",
    "\n",
    "r_ppg_prediction = pd.read_csv(r_ppg_path)\n",
    "r_ppg_prediction['signal'] = r_ppg_prediction['signal'].apply(eval).apply(np.array)\n",
    "\n",
    "# Only keep the columns that are needed\n",
    "r_ppg_prediction = r_ppg_prediction[['subject', 'setting', 'model', 'signal']]\n",
    "r_ppg_prediction.head()"
   ],
   "id": "d4fba7688e368e8d",
   "outputs": [
    {
     "data": {
      "text/plain": [
       "     subject               setting                   model  \\\n",
       "0  Proband01  101_natural_lighting  BP4D_PseudoLabel_TSCAN   \n",
       "1  Proband01  101_natural_lighting           MA-UBFC_tscan   \n",
       "2  Proband01  101_natural_lighting              PURE_TSCAN   \n",
       "3  Proband01  101_natural_lighting            SCAMPS_TSCAN   \n",
       "4  Proband01  101_natural_lighting         UBFC-rPPG_TSCAN   \n",
       "\n",
       "                                              signal  \n",
       "0  [0.1003175675868988, 0.4112994968891144, 0.678...  \n",
       "1  [-0.5689785480499268, -0.3492545187473297, -0....  \n",
       "2  [0.2524776756763458, -0.23906010389328003, -0....  \n",
       "3  [1.1077316999435425, 0.7577620148658752, -1.23...  \n",
       "4  [-0.0640445351600647, -0.2270553708076477, -0....  "
      ],
      "text/html": [
       "<div>\n",
       "<style scoped>\n",
       "    .dataframe tbody tr th:only-of-type {\n",
       "        vertical-align: middle;\n",
       "    }\n",
       "\n",
       "    .dataframe tbody tr th {\n",
       "        vertical-align: top;\n",
       "    }\n",
       "\n",
       "    .dataframe thead th {\n",
       "        text-align: right;\n",
       "    }\n",
       "</style>\n",
       "<table border=\"1\" class=\"dataframe\">\n",
       "  <thead>\n",
       "    <tr style=\"text-align: right;\">\n",
       "      <th></th>\n",
       "      <th>subject</th>\n",
       "      <th>setting</th>\n",
       "      <th>model</th>\n",
       "      <th>signal</th>\n",
       "    </tr>\n",
       "  </thead>\n",
       "  <tbody>\n",
       "    <tr>\n",
       "      <th>0</th>\n",
       "      <td>Proband01</td>\n",
       "      <td>101_natural_lighting</td>\n",
       "      <td>BP4D_PseudoLabel_TSCAN</td>\n",
       "      <td>[0.1003175675868988, 0.4112994968891144, 0.678...</td>\n",
       "    </tr>\n",
       "    <tr>\n",
       "      <th>1</th>\n",
       "      <td>Proband01</td>\n",
       "      <td>101_natural_lighting</td>\n",
       "      <td>MA-UBFC_tscan</td>\n",
       "      <td>[-0.5689785480499268, -0.3492545187473297, -0....</td>\n",
       "    </tr>\n",
       "    <tr>\n",
       "      <th>2</th>\n",
       "      <td>Proband01</td>\n",
       "      <td>101_natural_lighting</td>\n",
       "      <td>PURE_TSCAN</td>\n",
       "      <td>[0.2524776756763458, -0.23906010389328003, -0....</td>\n",
       "    </tr>\n",
       "    <tr>\n",
       "      <th>3</th>\n",
       "      <td>Proband01</td>\n",
       "      <td>101_natural_lighting</td>\n",
       "      <td>SCAMPS_TSCAN</td>\n",
       "      <td>[1.1077316999435425, 0.7577620148658752, -1.23...</td>\n",
       "    </tr>\n",
       "    <tr>\n",
       "      <th>4</th>\n",
       "      <td>Proband01</td>\n",
       "      <td>101_natural_lighting</td>\n",
       "      <td>UBFC-rPPG_TSCAN</td>\n",
       "      <td>[-0.0640445351600647, -0.2270553708076477, -0....</td>\n",
       "    </tr>\n",
       "  </tbody>\n",
       "</table>\n",
       "</div>"
      ]
     },
     "execution_count": 7,
     "metadata": {},
     "output_type": "execute_result"
    }
   ],
   "execution_count": 7
  },
  {
   "metadata": {
    "ExecuteTime": {
     "end_time": "2024-08-04T16:53:28.400713Z",
     "start_time": "2024-08-04T16:53:28.311652Z"
    }
   },
   "cell_type": "code",
   "source": [
    "transformer_path = utils.join_paths(signals_dir, 'transformer_predictions.csv')\n",
    "\n",
    "transformer_prediction = pd.read_csv(transformer_path)\n",
    "transformer_prediction['signal'] = transformer_prediction['signal'].apply(eval).apply(np.array)\n",
    "\n",
    "# Add a tf_ prefix to the model names\n",
    "transformer_prediction['model'] = 'tf_' + transformer_prediction['model']\n",
    "\n",
    "# Only keep the columns that are needed\n",
    "transformer_prediction = transformer_prediction[['subject', 'setting', 'model', 'signal']]\n",
    "transformer_prediction.head()"
   ],
   "id": "3ff4d484569eeff",
   "outputs": [
    {
     "data": {
      "text/plain": [
       "     subject               setting               model  \\\n",
       "0  Proband21  101_natural_lighting  tf_20240728_114332   \n",
       "1  Proband22  101_natural_lighting  tf_20240728_114332   \n",
       "2  Proband23  101_natural_lighting  tf_20240728_114332   \n",
       "3  Proband24  101_natural_lighting  tf_20240728_114332   \n",
       "4  Proband25  101_natural_lighting  tf_20240728_114332   \n",
       "\n",
       "                                              signal  \n",
       "0  [80.26251220703125, 80.6565933227539, 83.67977...  \n",
       "1  [78.12396240234375, 75.29678344726562, 75.0180...  \n",
       "2  [70.64225006103516, 70.77820587158203, 69.4540...  \n",
       "3  [75.56920623779297, 75.68268585205078, 75.6368...  \n",
       "4  [81.59939575195312, 80.83991241455078, 81.3827...  "
      ],
      "text/html": [
       "<div>\n",
       "<style scoped>\n",
       "    .dataframe tbody tr th:only-of-type {\n",
       "        vertical-align: middle;\n",
       "    }\n",
       "\n",
       "    .dataframe tbody tr th {\n",
       "        vertical-align: top;\n",
       "    }\n",
       "\n",
       "    .dataframe thead th {\n",
       "        text-align: right;\n",
       "    }\n",
       "</style>\n",
       "<table border=\"1\" class=\"dataframe\">\n",
       "  <thead>\n",
       "    <tr style=\"text-align: right;\">\n",
       "      <th></th>\n",
       "      <th>subject</th>\n",
       "      <th>setting</th>\n",
       "      <th>model</th>\n",
       "      <th>signal</th>\n",
       "    </tr>\n",
       "  </thead>\n",
       "  <tbody>\n",
       "    <tr>\n",
       "      <th>0</th>\n",
       "      <td>Proband21</td>\n",
       "      <td>101_natural_lighting</td>\n",
       "      <td>tf_20240728_114332</td>\n",
       "      <td>[80.26251220703125, 80.6565933227539, 83.67977...</td>\n",
       "    </tr>\n",
       "    <tr>\n",
       "      <th>1</th>\n",
       "      <td>Proband22</td>\n",
       "      <td>101_natural_lighting</td>\n",
       "      <td>tf_20240728_114332</td>\n",
       "      <td>[78.12396240234375, 75.29678344726562, 75.0180...</td>\n",
       "    </tr>\n",
       "    <tr>\n",
       "      <th>2</th>\n",
       "      <td>Proband23</td>\n",
       "      <td>101_natural_lighting</td>\n",
       "      <td>tf_20240728_114332</td>\n",
       "      <td>[70.64225006103516, 70.77820587158203, 69.4540...</td>\n",
       "    </tr>\n",
       "    <tr>\n",
       "      <th>3</th>\n",
       "      <td>Proband24</td>\n",
       "      <td>101_natural_lighting</td>\n",
       "      <td>tf_20240728_114332</td>\n",
       "      <td>[75.56920623779297, 75.68268585205078, 75.6368...</td>\n",
       "    </tr>\n",
       "    <tr>\n",
       "      <th>4</th>\n",
       "      <td>Proband25</td>\n",
       "      <td>101_natural_lighting</td>\n",
       "      <td>tf_20240728_114332</td>\n",
       "      <td>[81.59939575195312, 80.83991241455078, 81.3827...</td>\n",
       "    </tr>\n",
       "  </tbody>\n",
       "</table>\n",
       "</div>"
      ]
     },
     "execution_count": 8,
     "metadata": {},
     "output_type": "execute_result"
    }
   ],
   "execution_count": 8
  },
  {
   "metadata": {
    "ExecuteTime": {
     "end_time": "2024-08-04T16:53:28.498699Z",
     "start_time": "2024-08-04T16:53:28.401619Z"
    }
   },
   "cell_type": "code",
   "source": [
    "#\n",
    "# The random signal is used as a baseline to see how well the models perform against a random predictions\n",
    "#\n",
    "random_path = utils.join_paths(signals_dir, 'random_predictions.csv')\n",
    "\n",
    "random_prediction = pd.read_csv(random_path)\n",
    "random_prediction['signal'] = random_prediction['signal'].apply(eval).apply(np.array)\n",
    "\n",
    "# Only keep the columns that are needed\n",
    "random_prediction = random_prediction[['subject', 'setting', 'model', 'signal']]\n",
    "random_prediction.head()"
   ],
   "id": "c980aed7c7a98e46",
   "outputs": [
    {
     "data": {
      "text/plain": [
       "     subject               setting   model  \\\n",
       "0  Proband01  101_natural_lighting  random   \n",
       "1  Proband02  101_natural_lighting  random   \n",
       "2  Proband03  101_natural_lighting  random   \n",
       "3  Proband04  101_natural_lighting  random   \n",
       "4  Proband05  101_natural_lighting  random   \n",
       "\n",
       "                                              signal  \n",
       "0  [0.3745401188473625, 0.9507143064099162, 0.731...  \n",
       "1  [0.14122354337314946, 0.5708774168394762, 0.18...  \n",
       "2  [0.36901773241117275, 0.13551687356075404, 0.5...  \n",
       "3  [0.35121701963848806, 0.8372399995154594, 0.06...  \n",
       "4  [0.0381536059353772, 0.42981769814138193, 0.06...  "
      ],
      "text/html": [
       "<div>\n",
       "<style scoped>\n",
       "    .dataframe tbody tr th:only-of-type {\n",
       "        vertical-align: middle;\n",
       "    }\n",
       "\n",
       "    .dataframe tbody tr th {\n",
       "        vertical-align: top;\n",
       "    }\n",
       "\n",
       "    .dataframe thead th {\n",
       "        text-align: right;\n",
       "    }\n",
       "</style>\n",
       "<table border=\"1\" class=\"dataframe\">\n",
       "  <thead>\n",
       "    <tr style=\"text-align: right;\">\n",
       "      <th></th>\n",
       "      <th>subject</th>\n",
       "      <th>setting</th>\n",
       "      <th>model</th>\n",
       "      <th>signal</th>\n",
       "    </tr>\n",
       "  </thead>\n",
       "  <tbody>\n",
       "    <tr>\n",
       "      <th>0</th>\n",
       "      <td>Proband01</td>\n",
       "      <td>101_natural_lighting</td>\n",
       "      <td>random</td>\n",
       "      <td>[0.3745401188473625, 0.9507143064099162, 0.731...</td>\n",
       "    </tr>\n",
       "    <tr>\n",
       "      <th>1</th>\n",
       "      <td>Proband02</td>\n",
       "      <td>101_natural_lighting</td>\n",
       "      <td>random</td>\n",
       "      <td>[0.14122354337314946, 0.5708774168394762, 0.18...</td>\n",
       "    </tr>\n",
       "    <tr>\n",
       "      <th>2</th>\n",
       "      <td>Proband03</td>\n",
       "      <td>101_natural_lighting</td>\n",
       "      <td>random</td>\n",
       "      <td>[0.36901773241117275, 0.13551687356075404, 0.5...</td>\n",
       "    </tr>\n",
       "    <tr>\n",
       "      <th>3</th>\n",
       "      <td>Proband04</td>\n",
       "      <td>101_natural_lighting</td>\n",
       "      <td>random</td>\n",
       "      <td>[0.35121701963848806, 0.8372399995154594, 0.06...</td>\n",
       "    </tr>\n",
       "    <tr>\n",
       "      <th>4</th>\n",
       "      <td>Proband05</td>\n",
       "      <td>101_natural_lighting</td>\n",
       "      <td>random</td>\n",
       "      <td>[0.0381536059353772, 0.42981769814138193, 0.06...</td>\n",
       "    </tr>\n",
       "  </tbody>\n",
       "</table>\n",
       "</div>"
      ]
     },
     "execution_count": 9,
     "metadata": {},
     "output_type": "execute_result"
    }
   ],
   "execution_count": 9
  },
  {
   "metadata": {
    "ExecuteTime": {
     "end_time": "2024-08-04T16:53:28.982563Z",
     "start_time": "2024-08-04T16:53:28.499175Z"
    }
   },
   "cell_type": "code",
   "source": [
    "rhythm_former_path = utils.join_paths(signals_dir, 'rhythm_former.csv')\n",
    "\n",
    "rhythm_former = pd.read_csv(rhythm_former_path)\n",
    "rhythm_former['signal'] = rhythm_former['signal'].apply(eval).apply(np.array)\n",
    "\n",
    "# Only keep the columns that are needed\n",
    "rhythm_former = rhythm_former[['subject', 'setting', 'model', 'signal']]\n",
    "rhythm_former.head()"
   ],
   "id": "ff91bd9f4150474f",
   "outputs": [
    {
     "data": {
      "text/plain": [
       "     subject               setting                    model  \\\n",
       "0  Proband01  101_natural_lighting  MMPD_intra_RhythmFormer   \n",
       "1  Proband02  101_natural_lighting  MMPD_intra_RhythmFormer   \n",
       "2  Proband03  101_natural_lighting  MMPD_intra_RhythmFormer   \n",
       "3  Proband04  101_natural_lighting  MMPD_intra_RhythmFormer   \n",
       "4  Proband05  101_natural_lighting  MMPD_intra_RhythmFormer   \n",
       "\n",
       "                                              signal  \n",
       "0  [6.164031982421875, 2.4254937171936035, 0.3721...  \n",
       "1  [6.900549411773682, 5.6790008544921875, 7.2168...  \n",
       "2  [-0.09313610196113586, -0.4720010757446289, 4....  \n",
       "3  [2.1658482551574707, 1.7018548250198364, 5.791...  \n",
       "4  [6.738060474395752, 5.562791347503662, 7.24396...  "
      ],
      "text/html": [
       "<div>\n",
       "<style scoped>\n",
       "    .dataframe tbody tr th:only-of-type {\n",
       "        vertical-align: middle;\n",
       "    }\n",
       "\n",
       "    .dataframe tbody tr th {\n",
       "        vertical-align: top;\n",
       "    }\n",
       "\n",
       "    .dataframe thead th {\n",
       "        text-align: right;\n",
       "    }\n",
       "</style>\n",
       "<table border=\"1\" class=\"dataframe\">\n",
       "  <thead>\n",
       "    <tr style=\"text-align: right;\">\n",
       "      <th></th>\n",
       "      <th>subject</th>\n",
       "      <th>setting</th>\n",
       "      <th>model</th>\n",
       "      <th>signal</th>\n",
       "    </tr>\n",
       "  </thead>\n",
       "  <tbody>\n",
       "    <tr>\n",
       "      <th>0</th>\n",
       "      <td>Proband01</td>\n",
       "      <td>101_natural_lighting</td>\n",
       "      <td>MMPD_intra_RhythmFormer</td>\n",
       "      <td>[6.164031982421875, 2.4254937171936035, 0.3721...</td>\n",
       "    </tr>\n",
       "    <tr>\n",
       "      <th>1</th>\n",
       "      <td>Proband02</td>\n",
       "      <td>101_natural_lighting</td>\n",
       "      <td>MMPD_intra_RhythmFormer</td>\n",
       "      <td>[6.900549411773682, 5.6790008544921875, 7.2168...</td>\n",
       "    </tr>\n",
       "    <tr>\n",
       "      <th>2</th>\n",
       "      <td>Proband03</td>\n",
       "      <td>101_natural_lighting</td>\n",
       "      <td>MMPD_intra_RhythmFormer</td>\n",
       "      <td>[-0.09313610196113586, -0.4720010757446289, 4....</td>\n",
       "    </tr>\n",
       "    <tr>\n",
       "      <th>3</th>\n",
       "      <td>Proband04</td>\n",
       "      <td>101_natural_lighting</td>\n",
       "      <td>MMPD_intra_RhythmFormer</td>\n",
       "      <td>[2.1658482551574707, 1.7018548250198364, 5.791...</td>\n",
       "    </tr>\n",
       "    <tr>\n",
       "      <th>4</th>\n",
       "      <td>Proband05</td>\n",
       "      <td>101_natural_lighting</td>\n",
       "      <td>MMPD_intra_RhythmFormer</td>\n",
       "      <td>[6.738060474395752, 5.562791347503662, 7.24396...</td>\n",
       "    </tr>\n",
       "  </tbody>\n",
       "</table>\n",
       "</div>"
      ]
     },
     "execution_count": 10,
     "metadata": {},
     "output_type": "execute_result"
    }
   ],
   "execution_count": 10
  },
  {
   "metadata": {
    "ExecuteTime": {
     "end_time": "2024-08-04T16:53:28.985594Z",
     "start_time": "2024-08-04T16:53:28.983027Z"
    }
   },
   "cell_type": "code",
   "source": [
    "predictions = pd.concat([\n",
    "    raft_predictions,\n",
    "    flownet_predictions,\n",
    "    pretrained_predictions,\n",
    "    lucas_kanade,\n",
    "    pixel_intensity,\n",
    "    r_ppg_prediction,\n",
    "    transformer_prediction,\n",
    "    random_prediction,\n",
    "    rhythm_former,\n",
    "])\n",
    "len(predictions)"
   ],
   "id": "26fd22df832dffa8",
   "outputs": [
    {
     "data": {
      "text/plain": [
       "812"
      ]
     },
     "execution_count": 11,
     "metadata": {},
     "output_type": "execute_result"
    }
   ],
   "execution_count": 11
  },
  {
   "metadata": {
    "ExecuteTime": {
     "end_time": "2024-08-04T16:53:28.996429Z",
     "start_time": "2024-08-04T16:53:28.985992Z"
    }
   },
   "cell_type": "code",
   "source": [
    "# Show all models\n",
    "predictions['model'].unique()"
   ],
   "id": "d82d14565cc8fd72",
   "outputs": [
    {
     "data": {
      "text/plain": [
       "array(['raft_large', 'raft_small', 'FlowNet2', 'FlowNet2C', 'FlowNet2CS',\n",
       "       'FlowNet2CSS', 'FlowNet2S', 'FlowNet2SD', 'mtts_can', 'big_small',\n",
       "       'lucas_kanade_cgof', 'lucas_kanade', 'pixel_intensity_rgb',\n",
       "       'pixel_intensity_grey', 'BP4D_PseudoLabel_TSCAN', 'MA-UBFC_tscan',\n",
       "       'PURE_TSCAN', 'SCAMPS_TSCAN', 'UBFC-rPPG_TSCAN',\n",
       "       'BP4D_PseudoLabel_DeepPhys', 'MA-UBFC_deepphys', 'PURE_DeepPhys',\n",
       "       'SCAMPS_DeepPhys', 'UBFC-rPPG_DeepPhys', 'tf_20240728_114332',\n",
       "       'tf_20240728_172805', 'tf_20240729_195756', 'tf_20240803_105616',\n",
       "       'random', 'MMPD_intra_RhythmFormer', 'PURE_cross_RhythmFormer',\n",
       "       'UBFC_cross_RhythmFormer', 'RF_20240726_104536',\n",
       "       'RF_20240726_155024', 'RF_20240726_171101', 'RF_20240726_212436',\n",
       "       'RF_20240727_170156', 'RF_20240731_113403', 'RF_20240801_124757',\n",
       "       'RF_20240801_195728', 'RF_20240802_155121', 'RF_20240803_164403'],\n",
       "      dtype=object)"
      ]
     },
     "execution_count": 12,
     "metadata": {},
     "output_type": "execute_result"
    }
   ],
   "execution_count": 12
  },
  {
   "metadata": {},
   "cell_type": "markdown",
   "source": "## Step 2: Extract the frequencies using a sliding window approach",
   "id": "37e70d5e3a50c222"
  },
  {
   "metadata": {
    "ExecuteTime": {
     "end_time": "2024-08-04T16:53:28.998599Z",
     "start_time": "2024-08-04T16:53:28.996815Z"
    }
   },
   "cell_type": "code",
   "source": [
    "from respiration.dataset import VitalCamSet\n",
    "\n",
    "dataset = VitalCamSet()"
   ],
   "id": "42dfbd471b70b5f9",
   "outputs": [],
   "execution_count": 13
  },
  {
   "metadata": {
    "ExecuteTime": {
     "end_time": "2024-08-04T16:53:29.000640Z",
     "start_time": "2024-08-04T16:53:28.999014Z"
    }
   },
   "cell_type": "code",
   "source": [
    "subject = 'Proband23'\n",
    "setting = '101_natural_lighting'"
   ],
   "id": "23a3569739b6f56e",
   "outputs": [],
   "execution_count": 14
  },
  {
   "metadata": {
    "ExecuteTime": {
     "end_time": "2024-08-04T16:53:29.018181Z",
     "start_time": "2024-08-04T16:53:29.001025Z"
    }
   },
   "cell_type": "code",
   "source": [
    "sampling_rate = 30\n",
    "lowpass = 0.1\n",
    "highpass = 0.5"
   ],
   "id": "a447e4d03c48556b",
   "outputs": [],
   "execution_count": 15
  },
  {
   "metadata": {
    "ExecuteTime": {
     "end_time": "2024-08-04T16:58:13.401670Z",
     "start_time": "2024-08-04T16:58:13.398024Z"
    }
   },
   "cell_type": "code",
   "source": [
    "from respiration.analysis import (\n",
    "    butterworth_filter,\n",
    "    normalize_signal,\n",
    "    detrend_tarvainen,\n",
    ")\n",
    "\n",
    "from scipy.signal import detrend\n",
    "\n",
    "models = [\n",
    "    # 'lucas_kanade',\n",
    "    'RF_20240802_155121',\n",
    "    # 'RF_20240726_104536',\n",
    "    # 'raft_small',\n",
    "    # 'pixel_intensity_grey',\n",
    "    # 'tf_20240729_195756',\n",
    "    # 'MMPD_intra_RhythmFormer',\n",
    "    # 'mtts_can',\n",
    "    # 'big_small',\n",
    "]\n",
    "\n",
    "signals = []\n",
    "\n",
    "for model in models:\n",
    "    prediction = predictions[\n",
    "        (predictions['subject'] == subject) &\n",
    "        (predictions['setting'] == setting) &\n",
    "        (predictions['model'] == model)].iloc[0]['signal']\n",
    "    \n",
    "    print(f'{model}: {prediction.shape}')\n",
    "\n",
    "    # Normalize the signals\n",
    "    prediction = normalize_signal(prediction)\n",
    "\n",
    "    # Filter the signals\n",
    "    prediction = butterworth_filter(prediction, sampling_rate, lowpass, highpass)\n",
    "\n",
    "    # Add the signals to the list\n",
    "    signals.append({\n",
    "        'label': model,\n",
    "        'signal': prediction,\n",
    "    })"
   ],
   "id": "6453d70d837bad2d",
   "outputs": [
    {
     "name": "stdout",
     "output_type": "stream",
     "text": [
      "RF_20240802_155121: (3456,)\n"
     ]
    }
   ],
   "execution_count": 31
  },
  {
   "metadata": {
    "ExecuteTime": {
     "end_time": "2024-08-04T16:58:13.414444Z",
     "start_time": "2024-08-04T16:58:13.404325Z"
    }
   },
   "cell_type": "code",
   "source": [
    "# Get the ground truth signal\n",
    "gt_signal = dataset.get_breathing_signal(subject, setting)\n",
    "gt_signal = normalize_signal(gt_signal)\n",
    "gt_signal = butterworth_filter(gt_signal, sampling_rate, lowpass, highpass)"
   ],
   "id": "159da1bea75c3e7f",
   "outputs": [],
   "execution_count": 32
  },
  {
   "metadata": {
    "ExecuteTime": {
     "end_time": "2024-08-04T16:58:24.125662Z",
     "start_time": "2024-08-04T16:58:24.058414Z"
    }
   },
   "cell_type": "code",
   "source": [
    "import matplotlib.pyplot as plt\n",
    "from respiration.analysis import (\n",
    "    find_crossing_points,\n",
    "    find_crossing_points_nfcp,\n",
    "    build_cross_curve,\n",
    ")\n",
    "\n",
    "from scipy.signal import find_peaks\n",
    "\n",
    "plt.figure(figsize=(20, 5))\n",
    "# plt.plot(gt_signal, label='gt', linestyle='--')\n",
    "\n",
    "# Add crossing points\n",
    "gt_signal_x = np.diff(gt_signal)\n",
    "\n",
    "prominence = 0.5\n",
    "distance = 0.1 * sampling_rate\n",
    "# distance = None\n",
    "gt_peaks, _ = find_peaks(gt_signal, prominence=prominence, distance=distance)\n",
    "plt.scatter(gt_peaks, gt_signal[gt_peaks], color='blue')\n",
    "print(f'peaks: {(len(gt_peaks) / (len(gt_signal) / sampling_rate)) * 60:.2f} bpm')\n",
    "\n",
    "# crossing_points, _ = signal.find_peaks(-gt_signal, prominence=1.0)\n",
    "# plt.scatter(crossing_points, gt_signal[crossing_points], color='blue')\n",
    "# crossing_points = find_crossing_points(gt_signal_x)\n",
    "# crossing_points = find_crossing_points_nfcp(gt_signal_x, sampling_rate)\n",
    "# plt.scatter(crossing_points, gt_signal[crossing_points], color='blue')\n",
    "# plt.plot(gt_signal_x, label='gt', linestyle='--')\n",
    "\n",
    "# gt_signal_cross = build_cross_curve(gt_signal, sampling_rate)\n",
    "# plt.plot(gt_signal_cross, label='gt_cross')\n",
    "\n",
    "for signal in signals:\n",
    "    # plt.plot(signal['signal'], label=signal['label'])\n",
    "    peaks, _ = find_peaks(signal['signal'], prominence=prominence, distance=distance)\n",
    "    \n",
    "    random_color = np.random.rand(3,)\n",
    "    plt.scatter(peaks, signal['signal'][peaks], color=random_color)\n",
    "    print(f'{signal[\"label\"]}: {(len(peaks) / (len(signal[\"signal\"]) / sampling_rate)) * 60:.2f} bpm')\n",
    "\n",
    "plt.legend()\n",
    "plt.show()"
   ],
   "id": "88f33b438d612c0c",
   "outputs": [
    {
     "name": "stdout",
     "output_type": "stream",
     "text": [
      "peaks: 9.50 bpm\n",
      "RF_20240802_155121: 11.46 bpm\n"
     ]
    },
    {
     "name": "stderr",
     "output_type": "stream",
     "text": [
      "/tmp/ipykernel_14280/1834859117.py:41: UserWarning: No artists with labels found to put in legend.  Note that artists whose label start with an underscore are ignored when legend() is called with no argument.\n",
      "  plt.legend()\n"
     ]
    },
    {
     "data": {
      "text/plain": [
       "<Figure size 2000x500 with 1 Axes>"
      ],
      "image/png": "[encoded data removed]"
     },
     "metadata": {},
     "output_type": "display_data"
    }
   ],
   "execution_count": 34
  }
 ],
 "metadata": {
  "kernelspec": {
   "display_name": "Python 3",
   "language": "python",
   "name": "python3"
  },
  "language_info": {
   "codemirror_mode": {
    "name": "ipython",
    "version": 2
   },
   "file_extension": ".py",
   "mimetype": "text/x-python",
   "name": "python",
   "nbconvert_exporter": "python",
   "pygments_lexer": "ipython2",
   "version": "2.7.6"
  }
 },
 "nbformat": 4,
 "nbformat_minor": 5
}
