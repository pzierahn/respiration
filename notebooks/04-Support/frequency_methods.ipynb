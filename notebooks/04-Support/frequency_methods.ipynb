{
 "cells": [
  {
   "metadata": {},
   "cell_type": "markdown",
   "source": "# Plot Frequency methods",
   "id": "858d2eaef54d2b36"
  },
  {
   "metadata": {},
   "cell_type": "code",
   "source": [
    "import pandas as pd\n",
    "import respiration.utils as utils\n",
    "\n",
    "analysis_dir = utils.dir_path('outputs', 'analysis')\n",
    "\n",
    "frequencies_file = utils.join_paths(analysis_dir, 'frequencies.csv')\n",
    "frequencies = pd.read_csv(frequencies_file)"
   ],
   "id": "723b645d87e372be",
   "outputs": [],
   "execution_count": null
  },
  {
   "metadata": {},
   "cell_type": "code",
   "source": "figure_dir = utils.dir_path('outputs', 'figures', 'raft', mkdir=True)",
   "id": "5a64e528d6f186ed",
   "outputs": [],
   "execution_count": null
  },
  {
   "metadata": {},
   "cell_type": "code",
   "source": [
    "subject = 'Proband11'\n",
    "setting = '101_natural_lighting'"
   ],
   "id": "d92c1b89ba89a8bc",
   "outputs": [],
   "execution_count": null
  },
  {
   "metadata": {},
   "cell_type": "code",
   "source": [
    "import matplotlib.pyplot as plt\n",
    "import respiration.utils as utils\n",
    "\n",
    "methods = ['psd', 'pk', 'cp', 'nfcp']\n",
    "\n",
    "fig, axs = plt.subplots(2, 2, figsize=(8, 8))\n",
    "\n",
    "for idx, method in enumerate(methods):\n",
    "    data = frequencies[(frequencies['subject'] == subject) &\n",
    "                       (frequencies['setting'] == setting) &\n",
    "                       (frequencies['method'] == method)]\n",
    "\n",
    "    ax = axs[idx // 2, idx % 2]\n",
    "    ax.hexbin(\n",
    "        data['ground_truth'] * 60,\n",
    "        data['prediction'] * 60,\n",
    "        gridsize=30,\n",
    "        cmap='viridis',\n",
    "        extent=[5, 30, 5, 30],\n",
    "    )\n",
    "\n",
    "    ax.set_title(method.upper())\n",
    "    ax.set_xlabel('Ground Truth (BPM)')\n",
    "    ax.set_ylabel('Prediction (BPM)')\n",
    "    ax.plot([5, 30], [5, 30], 'r--')\n",
    "\n",
    "    # Show the range 5 to 30 for the x- and y-axis\n",
    "    ax.set_xlim(5, 30)\n",
    "    ax.set_ylim(5, 30)\n",
    "\n",
    "plt.tight_layout()\n",
    "\n",
    "utils.savefig(fig, figure_dir, 'frequency_methods')\n",
    "\n",
    "plt.show()"
   ],
   "id": "e7346d89808888f3",
   "outputs": [],
   "execution_count": null
  }
 ],
 "metadata": {
  "kernelspec": {
   "display_name": "Python 3",
   "language": "python",
   "name": "python3"
  },
  "language_info": {
   "codemirror_mode": {
    "name": "ipython",
    "version": 2
   },
   "file_extension": ".py",
   "mimetype": "text/x-python",
   "name": "python",
   "nbconvert_exporter": "python",
   "pygments_lexer": "ipython2",
   "version": "2.7.6"
  }
 },
 "nbformat": 4,
 "nbformat_minor": 5
}
