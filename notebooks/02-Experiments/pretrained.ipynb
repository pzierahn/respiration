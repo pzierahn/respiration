{
 "cells": [
  {
   "cell_type": "markdown",
   "id": "29e8feb5a154ad",
   "metadata": {},
   "source": [
    "# Supervised\n",
    "\n",
    "This notebook extracts respiration signals, for each subject in the dataset, with the following models:\n",
    "- MTTS-CAN\n",
    "- BigSmall"
   ]
  },
  {
   "cell_type": "code",
   "id": "initial_id",
   "metadata": {
    "collapsed": true,
    "ExecuteTime": {
     "end_time": "2024-08-04T12:43:06.145783Z",
     "start_time": "2024-08-04T12:43:06.143043Z"
    }
   },
   "source": [
    "import os\n",
    "import numpy as np\n",
    "from respiration.dataset import VitalCamSet\n",
    "\n",
    "dataset = VitalCamSet()\n",
    "scenarios = dataset.get_scenarios(['101_natural_lighting'])\n",
    "scenarios"
   ],
   "outputs": [
    {
     "data": {
      "text/plain": [
       "[('Proband01', '101_natural_lighting'),\n",
       " ('Proband02', '101_natural_lighting'),\n",
       " ('Proband03', '101_natural_lighting'),\n",
       " ('Proband04', '101_natural_lighting'),\n",
       " ('Proband05', '101_natural_lighting'),\n",
       " ('Proband06', '101_natural_lighting'),\n",
       " ('Proband07', '101_natural_lighting'),\n",
       " ('Proband08', '101_natural_lighting'),\n",
       " ('Proband09', '101_natural_lighting'),\n",
       " ('Proband10', '101_natural_lighting'),\n",
       " ('Proband11', '101_natural_lighting'),\n",
       " ('Proband12', '101_natural_lighting'),\n",
       " ('Proband13', '101_natural_lighting'),\n",
       " ('Proband14', '101_natural_lighting'),\n",
       " ('Proband15', '101_natural_lighting'),\n",
       " ('Proband16', '101_natural_lighting'),\n",
       " ('Proband17', '101_natural_lighting'),\n",
       " ('Proband18', '101_natural_lighting'),\n",
       " ('Proband19', '101_natural_lighting'),\n",
       " ('Proband20', '101_natural_lighting'),\n",
       " ('Proband21', '101_natural_lighting'),\n",
       " ('Proband22', '101_natural_lighting'),\n",
       " ('Proband23', '101_natural_lighting'),\n",
       " ('Proband24', '101_natural_lighting'),\n",
       " ('Proband25', '101_natural_lighting'),\n",
       " ('Proband26', '101_natural_lighting')]"
      ]
     },
     "execution_count": 10,
     "metadata": {},
     "output_type": "execute_result"
    }
   ],
   "execution_count": 10
  },
  {
   "metadata": {},
   "cell_type": "markdown",
   "source": "## Conduct experiments",
   "id": "e47aef2d563c7065"
  },
  {
   "metadata": {
    "ExecuteTime": {
     "end_time": "2024-08-04T12:43:06.156819Z",
     "start_time": "2024-08-04T12:43:06.146319Z"
    }
   },
   "cell_type": "code",
   "source": [
    "from datetime import datetime\n",
    "\n",
    "manifest = {\n",
    "    'timestamp_start': datetime.now(),\n",
    "    'scenarios': scenarios,\n",
    "}"
   ],
   "id": "d6e2ab154d5334d9",
   "outputs": [],
   "execution_count": 11
  },
  {
   "cell_type": "code",
   "id": "2aba3e680aa178da",
   "metadata": {
    "ExecuteTime": {
     "end_time": "2024-08-04T12:56:11.181826Z",
     "start_time": "2024-08-04T12:43:06.157292Z"
    }
   },
   "source": [
    "import respiration.utils as utils\n",
    "import respiration.extractor.mtts_can as mtts_can\n",
    "import respiration.extractor.big_small as big_small\n",
    "\n",
    "device = utils.get_torch_device()\n",
    "\n",
    "frame_depth = 10\n",
    "mtts_model = mtts_can.load_model(frame_depth=frame_depth)\n",
    "big_small_model, _ = big_small.load_model(device=device)\n",
    "\n",
    "extracted_signals = []\n",
    "\n",
    "# TODO: Use batch processing\n",
    "for (subject, setting) in scenarios:\n",
    "    print(f'Processing {subject} - {setting}')\n",
    "\n",
    "    frames, meta = dataset.get_video_rgb(subject, setting)\n",
    "\n",
    "    #\n",
    "    # MTTS-CAN model to extract the signal\n",
    "    #\n",
    "\n",
    "    mtts_start = datetime.now()\n",
    "\n",
    "    resized, normalized = mtts_can.preprocess_video_frames(frames)\n",
    "    cutoff = mtts_can.calculate_cutoff(resized.shape[0], frame_depth)\n",
    "\n",
    "    resized = resized[:cutoff]\n",
    "    normalized = normalized[:cutoff]\n",
    "\n",
    "    _, respiration = mtts_model.predict(\n",
    "        (resized, normalized),\n",
    "        batch_size=100\n",
    "    )\n",
    "    extracted_signals.append({\n",
    "        'subject': subject,\n",
    "        'setting': setting,\n",
    "        'model': 'mtts_can',\n",
    "        'duration': datetime.now() - mtts_start,\n",
    "        'sampling_rate': meta.fps,\n",
    "        'signal': respiration.squeeze().tolist(),\n",
    "    })\n",
    "\n",
    "    #\n",
    "    # Use the BigSmall model to extract the signal\n",
    "    #\n",
    "\n",
    "    big_small_start = datetime.now()\n",
    "    big_small_raw = big_small.batch_process(big_small_model, frames, device)\n",
    "    extracted_signals.append({\n",
    "        'subject': subject,\n",
    "        'setting': setting,\n",
    "        'model': 'big_small',\n",
    "        'duration': datetime.now() - big_small_start,\n",
    "        'sampling_rate': meta.fps,\n",
    "        'signal': big_small_raw.tolist(),\n",
    "    })\n",
    "\n",
    "    # Garbage collect the frames\n",
    "    del frames"
   ],
   "outputs": [
    {
     "name": "stdout",
     "output_type": "stream",
     "text": [
      "Processing Proband01 - 101_natural_lighting\n",
      "\u001B[1m36/36\u001B[0m \u001B[32m━━━━━━━━━━━━━━━━━━━━\u001B[0m\u001B[37m\u001B[0m \u001B[1m1s\u001B[0m 10ms/step\n",
      "Processing Proband02 - 101_natural_lighting\n",
      "\u001B[1m36/36\u001B[0m \u001B[32m━━━━━━━━━━━━━━━━━━━━\u001B[0m\u001B[37m\u001B[0m \u001B[1m0s\u001B[0m 1ms/step \n",
      "Processing Proband03 - 101_natural_lighting\n",
      "\u001B[1m36/36\u001B[0m \u001B[32m━━━━━━━━━━━━━━━━━━━━\u001B[0m\u001B[37m\u001B[0m \u001B[1m0s\u001B[0m 1ms/step\n",
      "Processing Proband04 - 101_natural_lighting\n",
      "\u001B[1m36/36\u001B[0m \u001B[32m━━━━━━━━━━━━━━━━━━━━\u001B[0m\u001B[37m\u001B[0m \u001B[1m0s\u001B[0m 1ms/step\n",
      "Processing Proband05 - 101_natural_lighting\n",
      "\u001B[1m36/36\u001B[0m \u001B[32m━━━━━━━━━━━━━━━━━━━━\u001B[0m\u001B[37m\u001B[0m \u001B[1m0s\u001B[0m 1ms/step\n",
      "Processing Proband06 - 101_natural_lighting\n",
      "\u001B[1m36/36\u001B[0m \u001B[32m━━━━━━━━━━━━━━━━━━━━\u001B[0m\u001B[37m\u001B[0m \u001B[1m0s\u001B[0m 1ms/step \n",
      "Processing Proband07 - 101_natural_lighting\n",
      "\u001B[1m36/36\u001B[0m \u001B[32m━━━━━━━━━━━━━━━━━━━━\u001B[0m\u001B[37m\u001B[0m \u001B[1m0s\u001B[0m 1ms/step\n",
      "Processing Proband08 - 101_natural_lighting\n",
      "\u001B[1m36/36\u001B[0m \u001B[32m━━━━━━━━━━━━━━━━━━━━\u001B[0m\u001B[37m\u001B[0m \u001B[1m0s\u001B[0m 1ms/step \n",
      "Processing Proband09 - 101_natural_lighting\n",
      "\u001B[1m36/36\u001B[0m \u001B[32m━━━━━━━━━━━━━━━━━━━━\u001B[0m\u001B[37m\u001B[0m \u001B[1m0s\u001B[0m 1ms/step\n",
      "Processing Proband10 - 101_natural_lighting\n",
      "\u001B[1m36/36\u001B[0m \u001B[32m━━━━━━━━━━━━━━━━━━━━\u001B[0m\u001B[37m\u001B[0m \u001B[1m0s\u001B[0m 1ms/step \n",
      "Processing Proband11 - 101_natural_lighting\n",
      "\u001B[1m36/36\u001B[0m \u001B[32m━━━━━━━━━━━━━━━━━━━━\u001B[0m\u001B[37m\u001B[0m \u001B[1m0s\u001B[0m 1ms/step \n",
      "Processing Proband12 - 101_natural_lighting\n",
      "\u001B[1m36/36\u001B[0m \u001B[32m━━━━━━━━━━━━━━━━━━━━\u001B[0m\u001B[37m\u001B[0m \u001B[1m0s\u001B[0m 1ms/step\n",
      "Processing Proband13 - 101_natural_lighting\n",
      "\u001B[1m36/36\u001B[0m \u001B[32m━━━━━━━━━━━━━━━━━━━━\u001B[0m\u001B[37m\u001B[0m \u001B[1m0s\u001B[0m 1ms/step\n",
      "Processing Proband14 - 101_natural_lighting\n",
      "\u001B[1m36/36\u001B[0m \u001B[32m━━━━━━━━━━━━━━━━━━━━\u001B[0m\u001B[37m\u001B[0m \u001B[1m0s\u001B[0m 1ms/step \n",
      "Processing Proband15 - 101_natural_lighting\n",
      "\u001B[1m36/36\u001B[0m \u001B[32m━━━━━━━━━━━━━━━━━━━━\u001B[0m\u001B[37m\u001B[0m \u001B[1m0s\u001B[0m 1ms/step\n",
      "Processing Proband16 - 101_natural_lighting\n",
      "\u001B[1m36/36\u001B[0m \u001B[32m━━━━━━━━━━━━━━━━━━━━\u001B[0m\u001B[37m\u001B[0m \u001B[1m0s\u001B[0m 1ms/step\n",
      "Processing Proband17 - 101_natural_lighting\n",
      "\u001B[1m36/36\u001B[0m \u001B[32m━━━━━━━━━━━━━━━━━━━━\u001B[0m\u001B[37m\u001B[0m \u001B[1m0s\u001B[0m 1ms/step \n",
      "Processing Proband18 - 101_natural_lighting\n",
      "\u001B[1m36/36\u001B[0m \u001B[32m━━━━━━━━━━━━━━━━━━━━\u001B[0m\u001B[37m\u001B[0m \u001B[1m0s\u001B[0m 1ms/step\n",
      "Processing Proband19 - 101_natural_lighting\n",
      "\u001B[1m36/36\u001B[0m \u001B[32m━━━━━━━━━━━━━━━━━━━━\u001B[0m\u001B[37m\u001B[0m \u001B[1m0s\u001B[0m 1ms/step\n",
      "Processing Proband20 - 101_natural_lighting\n",
      "\u001B[1m36/36\u001B[0m \u001B[32m━━━━━━━━━━━━━━━━━━━━\u001B[0m\u001B[37m\u001B[0m \u001B[1m0s\u001B[0m 1ms/step\n",
      "Processing Proband21 - 101_natural_lighting\n",
      "\u001B[1m36/36\u001B[0m \u001B[32m━━━━━━━━━━━━━━━━━━━━\u001B[0m\u001B[37m\u001B[0m \u001B[1m0s\u001B[0m 1ms/step \n",
      "Processing Proband22 - 101_natural_lighting\n",
      "\u001B[1m36/36\u001B[0m \u001B[32m━━━━━━━━━━━━━━━━━━━━\u001B[0m\u001B[37m\u001B[0m \u001B[1m0s\u001B[0m 1ms/step \n",
      "Processing Proband23 - 101_natural_lighting\n",
      "\u001B[1m36/36\u001B[0m \u001B[32m━━━━━━━━━━━━━━━━━━━━\u001B[0m\u001B[37m\u001B[0m \u001B[1m0s\u001B[0m 1ms/step \n",
      "Processing Proband24 - 101_natural_lighting\n",
      "\u001B[1m36/36\u001B[0m \u001B[32m━━━━━━━━━━━━━━━━━━━━\u001B[0m\u001B[37m\u001B[0m \u001B[1m0s\u001B[0m 1ms/step \n",
      "Processing Proband25 - 101_natural_lighting\n",
      "\u001B[1m36/36\u001B[0m \u001B[32m━━━━━━━━━━━━━━━━━━━━\u001B[0m\u001B[37m\u001B[0m \u001B[1m0s\u001B[0m 1ms/step\n",
      "Processing Proband26 - 101_natural_lighting\n",
      "\u001B[1m36/36\u001B[0m \u001B[32m━━━━━━━━━━━━━━━━━━━━\u001B[0m\u001B[37m\u001B[0m \u001B[1m0s\u001B[0m 1ms/step \n"
     ]
    }
   ],
   "execution_count": 12
  },
  {
   "metadata": {
    "ExecuteTime": {
     "end_time": "2024-08-04T12:56:11.184406Z",
     "start_time": "2024-08-04T12:56:11.182814Z"
    }
   },
   "cell_type": "code",
   "source": "manifest['timestamp_finish'] = datetime.now()",
   "id": "4361f0aa4df2465",
   "outputs": [],
   "execution_count": 13
  },
  {
   "metadata": {
    "ExecuteTime": {
     "end_time": "2024-08-04T12:56:11.199182Z",
     "start_time": "2024-08-04T12:56:11.184798Z"
    }
   },
   "cell_type": "code",
   "source": [
    "import pandas as pd\n",
    "\n",
    "df = pd.DataFrame(extracted_signals)\n",
    "df.head()"
   ],
   "id": "e94ff7cb59c2a3ea",
   "outputs": [
    {
     "data": {
      "text/plain": [
       "     subject               setting      model               duration  \\\n",
       "0  Proband01  101_natural_lighting   mtts_can 0 days 00:00:03.832123   \n",
       "1  Proband01  101_natural_lighting  big_small 0 days 00:00:21.100647   \n",
       "2  Proband02  101_natural_lighting   mtts_can 0 days 00:00:03.012597   \n",
       "3  Proband02  101_natural_lighting  big_small 0 days 00:00:18.561170   \n",
       "4  Proband03  101_natural_lighting   mtts_can 0 days 00:00:02.981912   \n",
       "\n",
       "   sampling_rate                                             signal  \n",
       "0             30  [0.5543686151504517, 0.4143042266368866, 0.193...  \n",
       "1             30  [-0.06490246951580048, -0.0634026825428009, -0...  \n",
       "2             30  [0.27873915433883667, -0.143912672996521, 0.35...  \n",
       "3             30  [-0.6646443009376526, -0.7338840365409851, -0....  \n",
       "4             30  [-0.07861271500587463, -0.34626856446266174, -...  "
      ],
      "text/html": [
       "<div>\n",
       "<style scoped>\n",
       "    .dataframe tbody tr th:only-of-type {\n",
       "        vertical-align: middle;\n",
       "    }\n",
       "\n",
       "    .dataframe tbody tr th {\n",
       "        vertical-align: top;\n",
       "    }\n",
       "\n",
       "    .dataframe thead th {\n",
       "        text-align: right;\n",
       "    }\n",
       "</style>\n",
       "<table border=\"1\" class=\"dataframe\">\n",
       "  <thead>\n",
       "    <tr style=\"text-align: right;\">\n",
       "      <th></th>\n",
       "      <th>subject</th>\n",
       "      <th>setting</th>\n",
       "      <th>model</th>\n",
       "      <th>duration</th>\n",
       "      <th>sampling_rate</th>\n",
       "      <th>signal</th>\n",
       "    </tr>\n",
       "  </thead>\n",
       "  <tbody>\n",
       "    <tr>\n",
       "      <th>0</th>\n",
       "      <td>Proband01</td>\n",
       "      <td>101_natural_lighting</td>\n",
       "      <td>mtts_can</td>\n",
       "      <td>0 days 00:00:03.832123</td>\n",
       "      <td>30</td>\n",
       "      <td>[0.5543686151504517, 0.4143042266368866, 0.193...</td>\n",
       "    </tr>\n",
       "    <tr>\n",
       "      <th>1</th>\n",
       "      <td>Proband01</td>\n",
       "      <td>101_natural_lighting</td>\n",
       "      <td>big_small</td>\n",
       "      <td>0 days 00:00:21.100647</td>\n",
       "      <td>30</td>\n",
       "      <td>[-0.06490246951580048, -0.0634026825428009, -0...</td>\n",
       "    </tr>\n",
       "    <tr>\n",
       "      <th>2</th>\n",
       "      <td>Proband02</td>\n",
       "      <td>101_natural_lighting</td>\n",
       "      <td>mtts_can</td>\n",
       "      <td>0 days 00:00:03.012597</td>\n",
       "      <td>30</td>\n",
       "      <td>[0.27873915433883667, -0.143912672996521, 0.35...</td>\n",
       "    </tr>\n",
       "    <tr>\n",
       "      <th>3</th>\n",
       "      <td>Proband02</td>\n",
       "      <td>101_natural_lighting</td>\n",
       "      <td>big_small</td>\n",
       "      <td>0 days 00:00:18.561170</td>\n",
       "      <td>30</td>\n",
       "      <td>[-0.6646443009376526, -0.7338840365409851, -0....</td>\n",
       "    </tr>\n",
       "    <tr>\n",
       "      <th>4</th>\n",
       "      <td>Proband03</td>\n",
       "      <td>101_natural_lighting</td>\n",
       "      <td>mtts_can</td>\n",
       "      <td>0 days 00:00:02.981912</td>\n",
       "      <td>30</td>\n",
       "      <td>[-0.07861271500587463, -0.34626856446266174, -...</td>\n",
       "    </tr>\n",
       "  </tbody>\n",
       "</table>\n",
       "</div>"
      ]
     },
     "execution_count": 14,
     "metadata": {},
     "output_type": "execute_result"
    }
   ],
   "execution_count": 14
  },
  {
   "metadata": {
    "ExecuteTime": {
     "end_time": "2024-08-04T12:56:11.270095Z",
     "start_time": "2024-08-04T12:56:11.199877Z"
    }
   },
   "cell_type": "code",
   "source": [
    "output_dir = utils.dir_path('outputs', 'signals', mkdir=True)\n",
    "\n",
    "# Save the evaluation dataframe\n",
    "csv_path = os.path.join(output_dir, 'pretrained_predictions.csv')\n",
    "df.to_csv(csv_path, index=False)\n",
    "\n",
    "# Save the hyperparameters as prettified json\n",
    "json_path = os.path.join(output_dir, 'pretrained_manifest.json')\n",
    "utils.write_json(json_path, manifest)"
   ],
   "id": "3806544e615aa349",
   "outputs": [],
   "execution_count": 15
  }
 ],
 "metadata": {
  "kernelspec": {
   "display_name": "Python 3",
   "language": "python",
   "name": "python3"
  },
  "language_info": {
   "codemirror_mode": {
    "name": "ipython",
    "version": 2
   },
   "file_extension": ".py",
   "mimetype": "text/x-python",
   "name": "python",
   "nbconvert_exporter": "python",
   "pygments_lexer": "ipython2",
   "version": "2.7.6"
  }
 },
 "nbformat": 4,
 "nbformat_minor": 5
}
