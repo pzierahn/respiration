{
 "cells": [
  {
   "cell_type": "markdown",
   "id": "29e8feb5a154ad",
   "metadata": {},
   "source": [
    "# Data Exploration\n",
    "\n",
    "Show the first frame of each scenario for the first subject and all the subjects in a single figure."
   ]
  },
  {
   "cell_type": "code",
   "id": "initial_id",
   "metadata": {
    "collapsed": true
   },
   "source": [
    "from respiration.dataset import VitalCamSet\n",
    "\n",
    "dataset = VitalCamSet()\n",
    "scenarios = dataset.get_scenarios(['101_natural_lighting'])\n",
    "scenarios"
   ],
   "outputs": [],
   "execution_count": null
  },
  {
   "metadata": {},
   "cell_type": "code",
   "source": [
    "import respiration.utils as utils\n",
    "\n",
    "figure_dir = utils.dir_path('outputs', 'figures', 'data_exploration', mkdir=True)"
   ],
   "id": "7fa84fca44ade9ab",
   "outputs": [],
   "execution_count": null
  },
  {
   "cell_type": "markdown",
   "id": "15fe3c711c95659a",
   "metadata": {},
   "source": [
    "## Display the first frame of each scenario for the first subject"
   ]
  },
  {
   "cell_type": "code",
   "id": "2aba3e680aa178da",
   "metadata": {},
   "source": [
    "import cv2\n",
    "import matplotlib.pyplot as plt\n",
    "\n",
    "# Create a figure with 2 rows and 5 columns\n",
    "fig, axs = plt.subplots(2, 5, figsize=(20, 10))\n",
    "\n",
    "for idx, scenario in enumerate(dataset.get_settings()):\n",
    "    video_path = dataset.get_video_path('Proband16', scenario)\n",
    "\n",
    "    # Read the first frame of the video\n",
    "    cap = cv2.VideoCapture(video_path)\n",
    "    ret, frame = cap.read()\n",
    "    cap.release()\n",
    "\n",
    "    # Plot the frame\n",
    "    ax = axs[idx // 5, idx % 5]\n",
    "    ax.imshow(cv2.cvtColor(frame, cv2.COLOR_BGR2RGB))\n",
    "    ax.set_title(scenario)\n",
    "\n",
    "plt.suptitle('Proband16')\n",
    "plt.show()"
   ],
   "outputs": [],
   "execution_count": null
  },
  {
   "cell_type": "markdown",
   "id": "f0838405a47d51e8",
   "metadata": {},
   "source": [
    "## Display all the subjects in a single figure"
   ]
  },
  {
   "cell_type": "code",
   "id": "ebf56117bd0a6b86",
   "metadata": {},
   "source": [
    "subjects = dataset.get_subjects()\n",
    "\n",
    "frames_per_row = 6\n",
    "row_count = len(subjects) // frames_per_row + 1\n",
    "\n",
    "# Create a figure for each subject, display not more than 5 scenarios per row\n",
    "fig, axs = plt.subplots(row_count, frames_per_row, figsize=(20, 5 * row_count))\n",
    "\n",
    "for idx, subject in enumerate(subjects):\n",
    "    scenario = scenarios[0]\n",
    "    video_path = dataset.get_video_path(subject, '101_natural_lighting')\n",
    "\n",
    "    # Read the first frame of the video\n",
    "    cap = cv2.VideoCapture(video_path)\n",
    "    ret, frame = cap.read()\n",
    "    cap.release()\n",
    "\n",
    "    # Plot the frame\n",
    "    if row_count == 1:\n",
    "        ax = axs[idx % frames_per_row]\n",
    "    else:\n",
    "        ax = axs[idx // frames_per_row, idx % frames_per_row]\n",
    "\n",
    "    ax.imshow(cv2.cvtColor(frame, cv2.COLOR_BGR2RGB))\n",
    "    ax.set_title(subject)\n",
    "\n",
    "fig.tight_layout()\n",
    "plt.show()"
   ],
   "outputs": [],
   "execution_count": null
  },
  {
   "metadata": {},
   "cell_type": "code",
   "source": [
    "from respiration.utils import preprocess_frames\n",
    "\n",
    "frames_ori, _ = dataset.get_video_rgb('Proband12', '101_natural_lighting', num_frames=10)\n",
    "frames = preprocess_frames(frames_ori, (128 * 2, 128 * 2))\n",
    "print(frames.shape)\n",
    "\n",
    "frame = frames.cpu().numpy().squeeze()[0].transpose(1, 2, 0)\n",
    "print(frame.shape)\n",
    "\n",
    "# Display the first frame of the first scenario\n",
    "_, ax = plt.subplots(1, 2, figsize=(10, 10))\n",
    "\n",
    "ax[0].imshow(frame)\n",
    "ax[0].set_title('Preprocessed')\n",
    "\n",
    "frame_ori = frames_ori[0]\n",
    "ax[1].imshow(frame_ori)\n",
    "ax[1].set_title('Original')\n",
    "\n",
    "plt.tight_layout()\n",
    "\n",
    "# Save the figure\n",
    "utils.savefig(plt.gcf(), figure_dir, 'preprocessed_frame')\n",
    "\n",
    "plt.show()"
   ],
   "id": "643705152fb18f96",
   "outputs": [],
   "execution_count": null
  },
  {
   "metadata": {},
   "cell_type": "code",
   "source": "subject = 'Proband12'",
   "id": "f5b2fbb8e7ba2ffa",
   "outputs": [],
   "execution_count": null
  },
  {
   "metadata": {},
   "cell_type": "code",
   "source": [
    "# Create a figure that contains the 101_natural_lighting and the 303_normalized_face scenarios\n",
    "fig, axs = plt.subplots(1, 2, figsize=(10, 10))\n",
    "\n",
    "# Display the first frame of the 101_natural_lighting scenario\n",
    "frames_natural, _ = dataset.get_video_rgb(subject, '101_natural_lighting', num_frames=1)\n",
    "axs[0].imshow(frames_natural[0])\n",
    "axs[0].set_title(f'{subject} - 101_natural_lighting')\n",
    "\n",
    "# Display the first frame of the 303_normalized_face scenario\n",
    "frames_face, _ = dataset.get_video_rgb(subject, '303_normalized_face', num_frames=1)\n",
    "axs[1].imshow(frames_face[0])\n",
    "axs[1].set_title(f'{subject} - 303_normalized_face')\n",
    "\n",
    "plt.tight_layout()\n",
    "\n",
    "# Save the figure\n",
    "utils.savefig(fig, figure_dir, 'scenarios_comparison')\n",
    "\n",
    "plt.show()"
   ],
   "id": "7f00f2b11b03196a",
   "outputs": [],
   "execution_count": null
  },
  {
   "metadata": {},
   "cell_type": "code",
   "source": [
    "# Export both frames in separate files\n",
    "plt.imshow(frames_natural[0])\n",
    "plt.title(f'{subject} - 101_natural_lighting')\n",
    "utils.savefig(plt.gcf(), figure_dir, '101_natural_lighting')"
   ],
   "id": "eb8bcb381a05ee6f",
   "outputs": [],
   "execution_count": null
  },
  {
   "metadata": {},
   "cell_type": "code",
   "source": [
    "plt.imshow(frames_face[0])\n",
    "plt.title(f'{subject} - 303_normalized_face')\n",
    "utils.savefig(plt.gcf(), figure_dir, '303_normalized_face')"
   ],
   "id": "57214ebdfa7b31dd",
   "outputs": [],
   "execution_count": null
  }
 ],
 "metadata": {
  "kernelspec": {
   "display_name": "Python 3",
   "language": "python",
   "name": "python3"
  },
  "language_info": {
   "codemirror_mode": {
    "name": "ipython",
    "version": 2
   },
   "file_extension": ".py",
   "mimetype": "text/x-python",
   "name": "python",
   "nbconvert_exporter": "python",
   "pygments_lexer": "ipython2",
   "version": "2.7.6"
  }
 },
 "nbformat": 4,
 "nbformat_minor": 5
}
