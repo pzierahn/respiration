{
 "cells": [
  {
   "metadata": {},
   "cell_type": "markdown",
   "source": [
    "# Evaluation\n",
    "\n",
    "Steps:\n",
    "1. Harmonize the predictions to have the same format\n",
    "2. Extract the frequencies using a sliding window approach\n",
    "3. Evaluate the performance of the models\n",
    "4. Visualize the results"
   ],
   "id": "858d2eaef54d2b36"
  },
  {
   "metadata": {},
   "cell_type": "markdown",
   "source": "## Step 1: Harmonize the predictions",
   "id": "d5de492f4255dbcf"
  },
  {
   "cell_type": "code",
   "id": "db3bfc6b2e01322a",
   "metadata": {
    "collapsed": true
   },
   "source": [
    "import numpy as np\n",
    "import pandas as pd\n",
    "import respiration.utils as utils\n",
    "\n",
    "signals_dir = utils.dir_path('outputs', 'signals')"
   ],
   "outputs": [],
   "execution_count": null
  },
  {
   "metadata": {},
   "cell_type": "code",
   "source": [
    "raft_file = utils.join_paths(signals_dir, 'raft_predictions.csv')\n",
    "raft_predictions = pd.read_csv(raft_file)\n",
    "raft_predictions['signal'] = raft_predictions['signal_v'].apply(eval).apply(np.array)\n",
    "\n",
    "# Only keep the chest roi predictions\n",
    "raft_predictions = raft_predictions[raft_predictions['roi'] == 'chest']\n",
    "\n",
    "# Only keep the columns that are needed\n",
    "raft_predictions = raft_predictions[['subject', 'setting', 'model', 'signal']]\n",
    "\n",
    "raft_predictions.head()"
   ],
   "id": "9e7ad8144746a824",
   "outputs": [],
   "execution_count": null
  },
  {
   "metadata": {},
   "cell_type": "code",
   "source": [
    "flownet_file = utils.join_paths(signals_dir, 'flownet_predictions.csv')\n",
    "flownet_predictions = pd.read_csv(flownet_file)\n",
    "flownet_predictions['signal'] = flownet_predictions['signal_v'].apply(eval).apply(np.array)\n",
    "\n",
    "# Only keep the chest roi predictions\n",
    "flownet_predictions = flownet_predictions[flownet_predictions['roi'] == 'chest']\n",
    "\n",
    "# Only keep the columns that are needed\n",
    "flownet_predictions = flownet_predictions[['subject', 'setting', 'model', 'signal']]\n",
    "\n",
    "flownet_predictions.head()"
   ],
   "id": "2a413445397940c2",
   "outputs": [],
   "execution_count": null
  },
  {
   "metadata": {},
   "cell_type": "code",
   "source": [
    "pretrained_file = utils.join_paths(signals_dir, 'pretrained_predictions.csv')\n",
    "pretrained_predictions = pd.read_csv(pretrained_file)\n",
    "pretrained_predictions['signal'] = pretrained_predictions['signal'].apply(eval).apply(np.array)\n",
    "\n",
    "# Only keep the columns that are needed\n",
    "pretrained_predictions = pretrained_predictions[['subject', 'setting', 'model', 'signal']]\n",
    "\n",
    "pretrained_predictions.head()"
   ],
   "id": "initial_id",
   "outputs": [],
   "execution_count": null
  },
  {
   "metadata": {},
   "cell_type": "code",
   "source": [
    "lucas_kanade_file = utils.join_paths(signals_dir, 'lucas_kanade.csv')\n",
    "lucas_kanade = pd.read_csv(lucas_kanade_file)\n",
    "lucas_kanade['signal'] = lucas_kanade['signal'].apply(eval).apply(np.array)\n",
    "\n",
    "# Rename column method to model\n",
    "lucas_kanade.rename(columns={'method': 'model'}, inplace=True)\n",
    "\n",
    "# Remove all the rows that have a signal with a length of 0\n",
    "lucas_kanade = lucas_kanade[lucas_kanade['grey'] == False]\n",
    "\n",
    "# Only keep the columns that are needed\n",
    "lucas_kanade = lucas_kanade[['subject', 'setting', 'model', 'signal']]\n",
    "\n",
    "lucas_kanade.head()"
   ],
   "id": "f995d2bcc90e1731",
   "outputs": [],
   "execution_count": null
  },
  {
   "metadata": {},
   "cell_type": "code",
   "source": [
    "pixel_intensity_file = utils.join_paths(signals_dir, 'pixel_intensity.csv')\n",
    "pixel_intensity = pd.read_csv(pixel_intensity_file)\n",
    "pixel_intensity['signal'] = pixel_intensity['signal'].apply(eval).apply(np.array)\n",
    "\n",
    "# Rename column method to model\n",
    "pixel_intensity.rename(columns={'method': 'model'}, inplace=True)\n",
    "\n",
    "# Only keep the columns that are needed\n",
    "pixel_intensity = pixel_intensity[['subject', 'setting', 'model', 'signal']]\n",
    "\n",
    "pixel_intensity.head()"
   ],
   "id": "20bae0c2d2b60800",
   "outputs": [],
   "execution_count": null
  },
  {
   "metadata": {},
   "cell_type": "code",
   "source": [
    "r_ppg_path = utils.join_paths(signals_dir, 'r_ppg_predictions.csv')\n",
    "\n",
    "r_ppg_prediction = pd.read_csv(r_ppg_path)\n",
    "r_ppg_prediction['signal'] = r_ppg_prediction['signal'].apply(eval).apply(np.array)\n",
    "\n",
    "# Only keep the columns that are needed\n",
    "r_ppg_prediction = r_ppg_prediction[['subject', 'setting', 'model', 'signal']]\n",
    "r_ppg_prediction.head()"
   ],
   "id": "d4fba7688e368e8d",
   "outputs": [],
   "execution_count": null
  },
  {
   "metadata": {},
   "cell_type": "code",
   "source": [
    "transformer_path = utils.join_paths(signals_dir, 'transformer_predictions.csv')\n",
    "\n",
    "transformer_prediction = pd.read_csv(transformer_path)\n",
    "transformer_prediction['signal'] = transformer_prediction['signal'].apply(eval).apply(np.array)\n",
    "\n",
    "# Add a tf_ prefix to the model names\n",
    "transformer_prediction['model'] = 'tf_' + transformer_prediction['model']\n",
    "\n",
    "# Only keep the columns that are needed\n",
    "transformer_prediction = transformer_prediction[['subject', 'setting', 'model', 'signal']]\n",
    "transformer_prediction.head()"
   ],
   "id": "3ff4d484569eeff",
   "outputs": [],
   "execution_count": null
  },
  {
   "metadata": {},
   "cell_type": "code",
   "source": [
    "#\n",
    "# The random signal is used as a baseline to see how well the models perform against a random predictions\n",
    "#\n",
    "random_path = utils.join_paths(signals_dir, 'random_predictions.csv')\n",
    "\n",
    "random_prediction = pd.read_csv(random_path)\n",
    "random_prediction['signal'] = random_prediction['signal'].apply(eval).apply(np.array)\n",
    "\n",
    "# Only keep the columns that are needed\n",
    "random_prediction = random_prediction[['subject', 'setting', 'model', 'signal']]\n",
    "random_prediction.head()"
   ],
   "id": "c980aed7c7a98e46",
   "outputs": [],
   "execution_count": null
  },
  {
   "metadata": {},
   "cell_type": "code",
   "source": [
    "rhythm_former_path = utils.join_paths(signals_dir, 'rhythm_former.csv')\n",
    "\n",
    "rhythm_former = pd.read_csv(rhythm_former_path)\n",
    "rhythm_former['signal'] = rhythm_former['signal'].apply(eval).apply(np.array)\n",
    "\n",
    "# Only keep the columns that are needed\n",
    "rhythm_former = rhythm_former[['subject', 'setting', 'model', 'signal']]\n",
    "rhythm_former.head()"
   ],
   "id": "ff91bd9f4150474f",
   "outputs": [],
   "execution_count": null
  },
  {
   "metadata": {},
   "cell_type": "code",
   "source": [
    "predictions = pd.concat([\n",
    "    raft_predictions,\n",
    "    flownet_predictions,\n",
    "    pretrained_predictions,\n",
    "    lucas_kanade,\n",
    "    pixel_intensity,\n",
    "    r_ppg_prediction,\n",
    "    transformer_prediction,\n",
    "    random_prediction,\n",
    "    rhythm_former,\n",
    "])\n",
    "len(predictions)"
   ],
   "id": "26fd22df832dffa8",
   "outputs": [],
   "execution_count": null
  },
  {
   "metadata": {},
   "cell_type": "code",
   "source": [
    "# Show all models\n",
    "predictions['model'].unique()"
   ],
   "id": "d82d14565cc8fd72",
   "outputs": [],
   "execution_count": null
  },
  {
   "metadata": {},
   "cell_type": "markdown",
   "source": "## Step 2: Extract the frequencies using a sliding window approach",
   "id": "37e70d5e3a50c222"
  },
  {
   "metadata": {},
   "cell_type": "code",
   "source": [
    "from respiration.dataset import VitalCamSet\n",
    "\n",
    "dataset = VitalCamSet()"
   ],
   "id": "42dfbd471b70b5f9",
   "outputs": [],
   "execution_count": null
  },
  {
   "metadata": {},
   "cell_type": "code",
   "source": [
    "subject = 'Proband23'\n",
    "setting = '101_natural_lighting'"
   ],
   "id": "23a3569739b6f56e",
   "outputs": [],
   "execution_count": null
  },
  {
   "metadata": {},
   "cell_type": "code",
   "source": [
    "sampling_rate = 30\n",
    "lowpass = 0.1\n",
    "highpass = 0.5"
   ],
   "id": "a447e4d03c48556b",
   "outputs": [],
   "execution_count": null
  },
  {
   "metadata": {},
   "cell_type": "code",
   "source": [
    "from respiration.analysis import (\n",
    "    butterworth_filter,\n",
    "    normalize_signal,\n",
    "    detrend_tarvainen,\n",
    ")\n",
    "\n",
    "from scipy.signal import detrend\n",
    "\n",
    "models = [\n",
    "    # 'lucas_kanade',\n",
    "    'RF_20240802_155121',\n",
    "    # 'RF_20240726_104536',\n",
    "    # 'raft_small',\n",
    "    # 'pixel_intensity_grey',\n",
    "    # 'tf_20240729_195756',\n",
    "    # 'MMPD_intra_RhythmFormer',\n",
    "    # 'mtts_can',\n",
    "    # 'big_small',\n",
    "]\n",
    "\n",
    "signals = []\n",
    "\n",
    "for model in models:\n",
    "    prediction = predictions[\n",
    "        (predictions['subject'] == subject) &\n",
    "        (predictions['setting'] == setting) &\n",
    "        (predictions['model'] == model)].iloc[0]['signal']\n",
    "\n",
    "    print(f'{model}: {prediction.shape}')\n",
    "\n",
    "    # Normalize the signals\n",
    "    prediction = normalize_signal(prediction)\n",
    "\n",
    "    # Filter the signals\n",
    "    prediction = butterworth_filter(prediction, sampling_rate, lowpass, highpass)\n",
    "\n",
    "    # Add the signals to the list\n",
    "    signals.append({\n",
    "        'label': model,\n",
    "        'signal': prediction,\n",
    "    })"
   ],
   "id": "6453d70d837bad2d",
   "outputs": [],
   "execution_count": null
  },
  {
   "metadata": {},
   "cell_type": "code",
   "source": [
    "# Get the ground truth signal\n",
    "gt_signal = dataset.get_breathing_signal(subject, setting)\n",
    "gt_signal = normalize_signal(gt_signal)\n",
    "gt_signal = butterworth_filter(gt_signal, sampling_rate, lowpass, highpass)"
   ],
   "id": "159da1bea75c3e7f",
   "outputs": [],
   "execution_count": null
  },
  {
   "metadata": {},
   "cell_type": "code",
   "source": [
    "import matplotlib.pyplot as plt\n",
    "from respiration.analysis import (\n",
    "    find_crossing_points,\n",
    "    find_crossing_points_nfcp,\n",
    "    build_cross_curve,\n",
    ")\n",
    "\n",
    "from scipy.signal import find_peaks\n",
    "\n",
    "plt.figure(figsize=(20, 5))\n",
    "# plt.plot(gt_signal, label='gt', linestyle='--')\n",
    "\n",
    "# Add crossing points\n",
    "gt_signal_x = np.diff(gt_signal)\n",
    "\n",
    "prominence = 0.5\n",
    "distance = 0.1 * sampling_rate\n",
    "# distance = None\n",
    "gt_peaks, _ = find_peaks(gt_signal, prominence=prominence, distance=distance)\n",
    "plt.scatter(gt_peaks, gt_signal[gt_peaks], color='blue')\n",
    "print(f'peaks: {(len(gt_peaks) / (len(gt_signal) / sampling_rate)) * 60:.2f} bpm')\n",
    "\n",
    "# crossing_points, _ = signal.find_peaks(-gt_signal, prominence=1.0)\n",
    "# plt.scatter(crossing_points, gt_signal[crossing_points], color='blue')\n",
    "# crossing_points = find_crossing_points(gt_signal_x)\n",
    "# crossing_points = find_crossing_points_nfcp(gt_signal_x, sampling_rate)\n",
    "# plt.scatter(crossing_points, gt_signal[crossing_points], color='blue')\n",
    "# plt.plot(gt_signal_x, label='gt', linestyle='--')\n",
    "\n",
    "# gt_signal_cross = build_cross_curve(gt_signal, sampling_rate)\n",
    "# plt.plot(gt_signal_cross, label='gt_cross')\n",
    "\n",
    "for signal in signals:\n",
    "    # plt.plot(signal['signal'], label=signal['label'])\n",
    "    peaks, _ = find_peaks(signal['signal'], prominence=prominence, distance=distance)\n",
    "\n",
    "    random_color = np.random.rand(3, )\n",
    "    plt.scatter(peaks, signal['signal'][peaks], color=random_color)\n",
    "    print(f'{signal[\"label\"]}: {(len(peaks) / (len(signal[\"signal\"]) / sampling_rate)) * 60:.2f} bpm')\n",
    "\n",
    "plt.legend()\n",
    "plt.show()"
   ],
   "id": "88f33b438d612c0c",
   "outputs": [],
   "execution_count": null
  },
  {
   "metadata": {},
   "cell_type": "code",
   "source": [
    "_, axs = plt.subplots(2, 1, figsize=(20, 10))\n",
    "\n",
    "signal_x = signals[0]['signal']\n",
    "gt_signal = gt_signal[:len(signal_x)]\n",
    "\n",
    "peaks_gt, _ = find_peaks(gt_signal, prominence=prominence, distance=distance)\n",
    "peaks_gt_x, _ = find_peaks(-gt_signal, prominence=prominence, distance=distance)\n",
    "# peaks_x, _ = find_peaks(signal_x, prominence=prominence, distance=distance)\n",
    "\n",
    "axs[0].plot(gt_signal)\n",
    "axs[0].set_title('Ground Truth (GT)')\n",
    "axs[0].scatter(peaks_gt, gt_signal[peaks_gt], color='blue')\n",
    "axs[0].scatter(peaks_gt_x, gt_signal[peaks_gt_x], color='green')\n",
    "\n",
    "# Add vertical lines every 30 seconds\n",
    "for inx in range(0, len(gt_signal), sampling_rate * 30):\n",
    "    axs[0].axvline(x=inx, color='red', linestyle='--')\n",
    "\n",
    "axs[1].plot(signal_x)\n",
    "axs[1].set_title(f'Predictions {signals[0][\"label\"]}')\n",
    "axs[1].scatter(peaks_gt, signal_x[peaks_gt], color='blue')\n",
    "axs[1].scatter(peaks_gt_x, signal_x[peaks_gt_x], color='green')\n",
    "\n",
    "# Add vertical lines every 30 seconds\n",
    "for inx in range(0, len(signal_x), sampling_rate * 30):\n",
    "    axs[1].axvline(x=inx, color='red', linestyle='--')\n",
    "    \n",
    "# Add a legend\n",
    "axs[0].legend(['signal', 'peaks', 'troughs'])\n",
    "axs[1].legend(['signal', 'peaks-GT', 'troughs-GT'])"
   ],
   "id": "412792ca4663aeea",
   "outputs": [],
   "execution_count": null
  }
 ],
 "metadata": {
  "kernelspec": {
   "display_name": "Python 3",
   "language": "python",
   "name": "python3"
  },
  "language_info": {
   "codemirror_mode": {
    "name": "ipython",
    "version": 2
   },
   "file_extension": ".py",
   "mimetype": "text/x-python",
   "name": "python",
   "nbconvert_exporter": "python",
   "pygments_lexer": "ipython2",
   "version": "2.7.6"
  }
 },
 "nbformat": 4,
 "nbformat_minor": 5
}
