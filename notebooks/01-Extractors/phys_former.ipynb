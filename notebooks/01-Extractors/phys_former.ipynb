{
 "cells": [
  {
   "metadata": {},
   "cell_type": "markdown",
   "source": "# Extract Respiration Signal with PhysFormer",
   "id": "52f6c1718f03adc8"
  },
  {
   "metadata": {},
   "cell_type": "code",
   "source": [
    "from respiration.dataset import VitalCamSet\n",
    "\n",
    "dataset = VitalCamSet()\n",
    "\n",
    "subject = 'Proband15'\n",
    "scenario = '101_natural_lighting'"
   ],
   "id": "4b78c47457679ff0",
   "outputs": [],
   "execution_count": null
  },
  {
   "metadata": {},
   "cell_type": "code",
   "source": [
    "frames, meta = dataset.get_video_rgb(\n",
    "    subject,\n",
    "    scenario,\n",
    "    num_frames=30 * 12,\n",
    "    show_progress=True,\n",
    ")"
   ],
   "id": "a61011c940742495",
   "outputs": [],
   "execution_count": null
  },
  {
   "metadata": {},
   "cell_type": "code",
   "source": [
    "import torch\n",
    "import respiration.utils as utils\n",
    "from respiration.extractor.phys_former import *\n",
    "\n",
    "device = utils.get_torch_device()\n",
    "\n",
    "model_checkpoint = utils.file_path('data', 'phys_former', 'MMPD_intra_RhythmFormer.pth')\n",
    "# model_checkpoint = utils.file_path('data', 'phys_former', 'PURE_cross_RhythmFormer.pth')\n",
    "# model_checkpoint = utils.file_path('data', 'phys_former', 'UBFC_cross_RhythmFormer.pth')\n",
    "\n",
    "model = PhysFormer(\n",
    "    image_size=(160, 128, 128),\n",
    "    patches=(4, 4, 4),\n",
    "    dim=96,\n",
    "    ff_dim=144,\n",
    "    num_heads=4,\n",
    "    num_layers=12,\n",
    "    dropout_rate=0.1,\n",
    "    theta=0.7,\n",
    ")\n",
    "# Fix model loading: Some key have an extra 'module.' prefix\n",
    "model = torch.nn.DataParallel(model)\n",
    "# model.to(device)\n",
    "\n",
    "key_matching = model.load_state_dict(torch.load(model_checkpoint, map_location=device))\n",
    "\n",
    "key_matching"
   ],
   "id": "c4dc5f528d1e36c8",
   "outputs": [],
   "execution_count": null
  },
  {
   "metadata": {},
   "cell_type": "code",
   "source": "device",
   "id": "1eed9e0521a1b7a8",
   "outputs": [],
   "execution_count": null
  }
 ],
 "metadata": {
  "kernelspec": {
   "display_name": "Python 3",
   "language": "python",
   "name": "python3"
  },
  "language_info": {
   "codemirror_mode": {
    "name": "ipython",
    "version": 2
   },
   "file_extension": ".py",
   "mimetype": "text/x-python",
   "name": "python",
   "nbconvert_exporter": "python",
   "pygments_lexer": "ipython2",
   "version": "2.7.6"
  }
 },
 "nbformat": 4,
 "nbformat_minor": 5
}
