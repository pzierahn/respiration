{
 "cells": [
  {
   "metadata": {},
   "cell_type": "markdown",
   "source": "# Export RAFT Model",
   "id": "4fca709e3eaa9b"
  },
  {
   "metadata": {},
   "cell_type": "code",
   "source": [
    "import torch\n",
    "from torchvision.models.optical_flow import (\n",
    "    raft_small,\n",
    "    Raft_Small_Weights,\n",
    ")\n",
    "\n",
    "\n",
    "class RaftDefuck(torch.nn.Module):\n",
    "    def __init__(self):\n",
    "        super().__init__()\n",
    "        self.model = raft_small(Raft_Small_Weights.C_T_V2)\n",
    "\n",
    "    def forward(self, frames):\n",
    "        return self.model(frames[0], frames[1])"
   ],
   "id": "ebca0291ffe9490a",
   "outputs": [],
   "execution_count": null
  },
  {
   "metadata": {},
   "cell_type": "code",
   "source": [
    "import torch\n",
    "import zipfile\n",
    "import respiration.utils as utils\n",
    "\n",
    "model = RaftDefuck()\n",
    "model = torch.jit.script(model)\n",
    "\n",
    "# Save the model\n",
    "filename = utils.file_path(\"assets/raft_defuck.pt\")\n",
    "torch.jit.save(model, filename)\n",
    "\n",
    "with zipfile.ZipFile(filename, \"a\", compression=zipfile.ZIP_DEFLATED) as zipf:\n",
    "    # Add the version file\n",
    "    with zipf.open(\"raft_defuck/version\", \"w\") as f:\n",
    "        f.write(\"1\".encode(\"utf-8\"))\n",
    "    zipf.close()"
   ],
   "id": "18853b658f15076d",
   "outputs": [],
   "execution_count": null
  },
  {
   "metadata": {},
   "cell_type": "code",
   "source": [
    "# Read the assets/test.mp4 file\n",
    "import cv2\n",
    "import numpy as np\n",
    "\n",
    "video = cv2.VideoCapture(utils.file_path(\"assets/test.mp4\"))\n",
    "frames = []\n",
    "while True:\n",
    "    ret, frame = video.read()\n",
    "    if not ret:\n",
    "        break\n",
    "\n",
    "    # Convert the frame to RGB\n",
    "    frame = cv2.cvtColor(frame, cv2.COLOR_BGR2RGB)\n",
    "    frames.append(frame)\n",
    "video.release()\n",
    "frames = np.array(frames)"
   ],
   "id": "49e1cd8f0e182e56",
   "outputs": [],
   "execution_count": null
  },
  {
   "metadata": {},
   "cell_type": "code",
   "source": [
    "# Show the first frame\n",
    "import matplotlib.pyplot as plt\n",
    "\n",
    "plt.imshow(frames[0])"
   ],
   "id": "f3488ffedf01e821",
   "outputs": [],
   "execution_count": null
  },
  {
   "metadata": {},
   "cell_type": "code",
   "source": "len(frames)",
   "id": "85cc37f433c72203",
   "outputs": [],
   "execution_count": null
  },
  {
   "metadata": {},
   "cell_type": "code",
   "source": "frames = frames[:6]",
   "id": "68cdb8e2ce7adb18",
   "outputs": [],
   "execution_count": null
  },
  {
   "metadata": {},
   "cell_type": "code",
   "source": [
    "# Run a forward pass on the model\n",
    "import torch\n",
    "\n",
    "model = torch.jit.load(utils.file_path(\"assets/raft_small.pt\"))\n",
    "model = model.eval()\n",
    "\n",
    "# Convert the frames to tensor\n",
    "frames = torch.from_numpy(frames).permute(0, 3, 1, 2).float()"
   ],
   "id": "8e1e0d132b55b3f7",
   "outputs": [],
   "execution_count": null
  },
  {
   "metadata": {},
   "cell_type": "code",
   "source": "frames.shape",
   "id": "532a356a2eb9773d",
   "outputs": [],
   "execution_count": null
  },
  {
   "metadata": {},
   "cell_type": "code",
   "source": [
    "stack = torch.stack([frames[:-1], frames[1:]], dim=0)\n",
    "stack.shape"
   ],
   "id": "6bfdecf6de608988",
   "outputs": [],
   "execution_count": null
  },
  {
   "metadata": {},
   "cell_type": "code",
   "source": [
    "# Squeeze the stack into a single dimension\n",
    "frames_bin = stack.reshape(-1)\n",
    "\n",
    "# Print type and size of the stack\n",
    "print(frames_bin.dtype, frames_bin.size())"
   ],
   "id": "7bc8617bfb75f03b",
   "outputs": [],
   "execution_count": null
  },
  {
   "metadata": {},
   "cell_type": "code",
   "source": [
    "# Write stack_x to a file in binary format\n",
    "filename = utils.file_path(\"assets/frames.bin\")\n",
    "frames_bin.numpy().tofile(filename)"
   ],
   "id": "601cfd5113b94827",
   "outputs": [],
   "execution_count": null
  },
  {
   "metadata": {},
   "cell_type": "code",
   "source": [
    "import struct\n",
    "\n",
    "# Check if the file was written correctly\n",
    "with open(filename, \"rb\") as file:\n",
    "    for inx in range(10):\n",
    "        data = file.read(4)\n",
    "        print(frames_bin[inx])\n",
    "        print(struct.unpack(\"f\", data))"
   ],
   "id": "563e048c461d96b",
   "outputs": [],
   "execution_count": null
  },
  {
   "metadata": {},
   "cell_type": "code",
   "source": [
    "# Run the model\n",
    "with torch.no_grad():\n",
    "    flow = model(stack)"
   ],
   "id": "c21739d8054de56e",
   "outputs": [],
   "execution_count": null
  },
  {
   "metadata": {},
   "cell_type": "code",
   "source": "frames.shape",
   "id": "23d08fed66234f67",
   "outputs": [],
   "execution_count": null
  },
  {
   "metadata": {},
   "cell_type": "code",
   "source": [
    "flow = np.array(flow)\n",
    "flow.shape"
   ],
   "id": "1494617f39499381",
   "outputs": [],
   "execution_count": null
  }
 ],
 "metadata": {
  "kernelspec": {
   "display_name": "Python 3",
   "language": "python",
   "name": "python3"
  },
  "language_info": {
   "codemirror_mode": {
    "name": "ipython",
    "version": 2
   },
   "file_extension": ".py",
   "mimetype": "text/x-python",
   "name": "python",
   "nbconvert_exporter": "python",
   "pygments_lexer": "ipython2",
   "version": "2.7.6"
  }
 },
 "nbformat": 4,
 "nbformat_minor": 5
}
