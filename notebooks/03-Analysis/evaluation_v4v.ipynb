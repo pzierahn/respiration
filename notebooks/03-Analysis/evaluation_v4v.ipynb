{
 "cells": [
  {
   "metadata": {},
   "cell_type": "markdown",
   "source": "# V4V Experiment Evaluation",
   "id": "3ad11e00eaaca59d"
  },
  {
   "metadata": {},
   "cell_type": "code",
   "source": [
    "import numpy as np\n",
    "import pandas as pd\n",
    "import respiration.utils as utils\n",
    "\n",
    "signals_dir = utils.dir_path('outputs', 'signals')"
   ],
   "id": "bff7e0e0360faef8",
   "outputs": [],
   "execution_count": null
  },
  {
   "cell_type": "code",
   "id": "initial_id",
   "metadata": {
    "collapsed": true
   },
   "source": [
    "rhythm_former_path = utils.join_paths(signals_dir, 'rhythm_former_v4v.csv')\n",
    "\n",
    "rhythm_former = pd.read_csv(rhythm_former_path)\n",
    "rhythm_former['signal'] = rhythm_former['signal'].apply(eval).apply(np.array)\n",
    "\n",
    "# Only keep the columns that are needed\n",
    "rhythm_former.head()"
   ],
   "outputs": [],
   "execution_count": null
  },
  {
   "metadata": {},
   "cell_type": "code",
   "source": [
    "from respiration.analysis import frequency_from_psd\n",
    "\n",
    "sampling_rate = 30\n",
    "lowpass = 0.1\n",
    "highpass = 0.5\n",
    "\n",
    "rhythm_former['predicted_rr'] = rhythm_former['signal'].apply(\n",
    "    lambda x: frequency_from_psd(x, sampling_rate, lowpass, highpass) * 60,\n",
    ")"
   ],
   "id": "2be8d569688ce5bb",
   "outputs": [],
   "execution_count": null
  },
  {
   "metadata": {},
   "cell_type": "code",
   "source": "rhythm_former.head()",
   "id": "71f52eda8e457ec2",
   "outputs": [],
   "execution_count": null
  },
  {
   "metadata": {},
   "cell_type": "code",
   "source": [
    "from respiration.dataset import V4VDataset\n",
    "\n",
    "dataset = V4VDataset()\n",
    "metadata = pd.DataFrame(dataset.get_metadata())\n",
    "\n",
    "# Remove all HR rows\n",
    "metadata = metadata[metadata['vital'] != 'HR']\n",
    "\n",
    "# Rename the signal to gt_signal\n",
    "metadata = metadata.rename(columns={'signal': 'gt_signal'})\n",
    "\n",
    "# Add the average respiration rate to the metadata\n",
    "metadata['gt_rr'] = metadata['gt_signal'].apply(lambda x: x.mean())\n",
    "\n",
    "metadata.head()"
   ],
   "id": "ee11e1089fcffdb2",
   "outputs": [],
   "execution_count": null
  },
  {
   "metadata": {},
   "cell_type": "code",
   "source": [
    "# Merge the two dataframes\n",
    "merged = pd.merge(rhythm_former, metadata, on='video')\n",
    "merged.head()"
   ],
   "id": "c12d266d51ebff60",
   "outputs": [],
   "execution_count": null
  },
  {
   "metadata": {},
   "cell_type": "code",
   "source": [
    "# Calculate the MAE for each model\n",
    "from sklearn.metrics import mean_absolute_error\n",
    "\n",
    "for model in merged['model'].unique():\n",
    "    model_data = merged[merged['model'] == model]\n",
    "    mae = mean_absolute_error(model_data['predicted_rr'], model_data['gt_rr'])\n",
    "    print(f'{model}: {mae}')"
   ],
   "id": "9538ed43bb24f6b5",
   "outputs": [],
   "execution_count": null
  }
 ],
 "metadata": {
  "kernelspec": {
   "display_name": "Python 3",
   "language": "python",
   "name": "python3"
  },
  "language_info": {
   "codemirror_mode": {
    "name": "ipython",
    "version": 2
   },
   "file_extension": ".py",
   "mimetype": "text/x-python",
   "name": "python",
   "nbconvert_exporter": "python",
   "pygments_lexer": "ipython2",
   "version": "2.7.6"
  }
 },
 "nbformat": 4,
 "nbformat_minor": 5
}
