{
 "cells": [
  {
   "metadata": {},
   "cell_type": "markdown",
   "source": "# Show the effect of preprocessing steps",
   "id": "a3fae31ff55ec0bb"
  },
  {
   "metadata": {},
   "cell_type": "code",
   "source": [
    "from respiration.dataset import VitalCamSet\n",
    "\n",
    "test_subject = 'Proband16'\n",
    "test_setting = '101_natural_lighting'\n",
    "\n",
    "dataset = VitalCamSet()\n",
    "ground_truth_signal = dataset.get_breathing_signal(test_subject, test_setting)"
   ],
   "id": "3a0d238ca05210a9",
   "outputs": [],
   "execution_count": null
  },
  {
   "metadata": {},
   "cell_type": "code",
   "source": [
    "import matplotlib.pyplot as plt\n",
    "\n",
    "fig = plt.figure(figsize=(20, 5))\n",
    "plt.title('Ground Truth')\n",
    "plt.plot(ground_truth_signal, label='Ground Truth')"
   ],
   "id": "de5ac15274208dff",
   "outputs": [],
   "execution_count": null
  },
  {
   "metadata": {},
   "cell_type": "code",
   "source": [
    "from scipy.signal import detrend\n",
    "\n",
    "gt_detrend = detrend(ground_truth_signal)"
   ],
   "id": "6f0c4e3cfa15f3d4",
   "outputs": [],
   "execution_count": null
  },
  {
   "metadata": {},
   "cell_type": "code",
   "source": [
    "import matplotlib.pyplot as plt\n",
    "\n",
    "plt.figure(figsize=(20, 5))\n",
    "plt.title('Ground Truth (detrended)')\n",
    "plt.plot(gt_detrend, label='Ground Truth (detrended)')"
   ],
   "id": "9321d4f9b1187d39",
   "outputs": [],
   "execution_count": null
  },
  {
   "metadata": {},
   "cell_type": "code",
   "source": [
    "import respiration.analysis as analysis\n",
    "\n",
    "gt_normalized = analysis.normalize_signal(gt_detrend)"
   ],
   "id": "a1563b79d7bcfeb9",
   "outputs": [],
   "execution_count": null
  },
  {
   "metadata": {},
   "cell_type": "code",
   "source": [
    "import matplotlib.pyplot as plt\n",
    "\n",
    "plt.figure(figsize=(20, 5))\n",
    "plt.title('Ground Truth (normalized)')\n",
    "plt.plot(gt_normalized, label='Ground Truth (normalized)')"
   ],
   "id": "f3e71210b6c12531",
   "outputs": [],
   "execution_count": null
  },
  {
   "metadata": {},
   "cell_type": "code",
   "source": [
    "gt_filtered = analysis.butterworth_filter(gt_normalized, 30, 0.08, 0.6)\n",
    "gt_filtered = analysis.normalize_signal(gt_filtered)"
   ],
   "id": "b1c0c2ba3b2bd5ed",
   "outputs": [],
   "execution_count": null
  },
  {
   "metadata": {},
   "cell_type": "code",
   "source": [
    "import matplotlib.pyplot as plt\n",
    "\n",
    "plt.figure(figsize=(20, 5))\n",
    "\n",
    "plt.title('Ground Truth (filtered)')\n",
    "plt.plot(gt_filtered, label='Ground Truth')"
   ],
   "id": "72c2387d6d2a3f1c",
   "outputs": [],
   "execution_count": null
  }
 ],
 "metadata": {
  "kernelspec": {
   "display_name": "Python 3",
   "language": "python",
   "name": "python3"
  },
  "language_info": {
   "codemirror_mode": {
    "name": "ipython",
    "version": 2
   },
   "file_extension": ".py",
   "mimetype": "text/x-python",
   "name": "python",
   "nbconvert_exporter": "python",
   "pygments_lexer": "ipython2",
   "version": "2.7.6"
  }
 },
 "nbformat": 4,
 "nbformat_minor": 5
}
