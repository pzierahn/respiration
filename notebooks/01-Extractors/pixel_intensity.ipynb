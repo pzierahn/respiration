{
 "cells": [
  {
   "metadata": {},
   "cell_type": "markdown",
   "source": [
    "# Pixel Intensity\n",
    "\n",
    "This notebook demonstrates how to calculate the respiratory rate from the average pixel intensity in the chest region of a video."
   ],
   "id": "d1a950d145ab9d09"
  },
  {
   "metadata": {},
   "cell_type": "code",
   "source": [
    "from respiration.dataset import VitalCamSet\n",
    "\n",
    "dataset = VitalCamSet()\n",
    "\n",
    "subject = 'Proband16'\n",
    "scenario = '101_natural_lighting'\n",
    "\n",
    "num_frames = 30 * 20  # 20 seconds of video\n",
    "frames, video_params = dataset.get_video_gray(subject, scenario, num_frames=num_frames)"
   ],
   "id": "c2a016b1feb2436c",
   "outputs": [],
   "execution_count": null
  },
  {
   "metadata": {},
   "cell_type": "markdown",
   "source": "",
   "id": "7df52606dd34fea5"
  },
  {
   "metadata": {},
   "cell_type": "markdown",
   "source": "## Calculate the average pixel intensity in the chest region",
   "id": "d8aa5640c525d9f3"
  },
  {
   "metadata": {},
   "cell_type": "code",
   "source": [
    "import respiration.roi as roi\n",
    "import respiration.extractor.pixel_intensity as pixel_intensity\n",
    "\n",
    "chest_roi = roi.detect_chest(frames[0])\n",
    "\n",
    "# Calculate the average pixel intensity in the chest region\n",
    "average_pixels = pixel_intensity.average_pixel_intensity(frames, chest_roi)"
   ],
   "id": "5e5dbfa56a4f39e",
   "outputs": [],
   "execution_count": null
  },
  {
   "metadata": {},
   "cell_type": "code",
   "source": [
    "import matplotlib.pyplot as plt\n",
    "\n",
    "# Plot the average pixel intensity in the chest region with matplotlib\n",
    "plt.figure(figsize=(20, 5))\n",
    "plt.plot(average_pixels)\n",
    "plt.title('Average pixel intensity in the chest region')\n",
    "plt.xlabel('Frame')\n",
    "plt.ylabel('Average pixel intensity')\n",
    "plt.show()"
   ],
   "id": "e1b4f6d5ebba2db0",
   "outputs": [],
   "execution_count": null
  },
  {
   "metadata": {},
   "cell_type": "code",
   "source": [
    "ground_truth = dataset.get_breathing_signal(subject, scenario)\n",
    "\n",
    "# Plot the average pixel intensity and the ground truth breathing signal in two subplots\n",
    "fig, axs = plt.subplots(2, 1, figsize=(20, 10))\n",
    "\n",
    "axs[0].plot(average_pixels)\n",
    "axs[0].set_title('Average pixel intensity in the chest region')\n",
    "axs[0].set_xlabel('Frame')\n",
    "axs[0].set_ylabel('Average pixel intensity')\n",
    "\n",
    "axs[1].plot(ground_truth[:len(average_pixels)])\n",
    "axs[1].set_title('Ground truth breathing signal')\n",
    "axs[1].set_xlabel('Frame')\n",
    "axs[1].set_ylabel('Breathing signal')\n",
    "plt.show()"
   ],
   "id": "8ab7dfe8b23a7405",
   "outputs": [],
   "execution_count": null
  }
 ],
 "metadata": {
  "kernelspec": {
   "display_name": "Python 3",
   "language": "python",
   "name": "python3"
  },
  "language_info": {
   "codemirror_mode": {
    "name": "ipython",
    "version": 2
   },
   "file_extension": ".py",
   "mimetype": "text/x-python",
   "name": "python",
   "nbconvert_exporter": "python",
   "pygments_lexer": "ipython2",
   "version": "2.7.6"
  }
 },
 "nbformat": 4,
 "nbformat_minor": 5
}
