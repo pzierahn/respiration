{
 "cells": [
  {
   "cell_type": "markdown",
   "id": "29e8feb5a154ad",
   "metadata": {},
   "source": [
    "# Pixel intensity\n",
    "\n",
    "Extracts respiration signals with the pixel intensity method. The pixel intensity method calculates the average pixel intensity within a region of interest (ROI) over time. The ROI is defined by a bounding box in the chest area of the subject. The bounding box is determined by the subjects face and shoulder positions in the first frame of the video."
   ]
  },
  {
   "cell_type": "code",
   "id": "initial_id",
   "metadata": {
    "collapsed": true
   },
   "source": [
    "import os\n",
    "from respiration.dataset import VitalCamSet\n",
    "\n",
    "dataset = VitalCamSet()\n",
    "scenarios = dataset.get_scenarios(['101_natural_lighting'])\n",
    "scenarios"
   ],
   "outputs": [],
   "execution_count": null
  },
  {
   "metadata": {},
   "cell_type": "code",
   "source": [
    "from datetime import datetime\n",
    "\n",
    "manifest = {\n",
    "    'timestamp_start': datetime.now(),\n",
    "    'scenarios': scenarios,\n",
    "}"
   ],
   "id": "d6e2ab154d5334d9",
   "outputs": [],
   "execution_count": null
  },
  {
   "cell_type": "code",
   "id": "2aba3e680aa178da",
   "metadata": {},
   "source": [
    "import cv2\n",
    "import respiration.roi as roi\n",
    "import respiration.utils as utils\n",
    "import respiration.extractor.pixel_intensity as pixel_intensity\n",
    "\n",
    "from tqdm.auto import tqdm\n",
    "\n",
    "extracted_signals = []\n",
    "\n",
    "for (subject, setting) in tqdm(scenarios):\n",
    "    print(f'Processing {subject} - {setting}')\n",
    "\n",
    "    frames, params = dataset.get_video_rgb(subject, setting)\n",
    "\n",
    "    # Transform the first frame to grayscale\n",
    "    grey_frame = cv2.cvtColor(frames[0], cv2.COLOR_RGB2GRAY)\n",
    "    face = roi.detect_chest(grey_frame)\n",
    "\n",
    "    # Extract the signal from the RGB frames\n",
    "    pi_start = datetime.now()\n",
    "    pi_signal_rgb = pixel_intensity.average_pixel_intensity_rgb(frames, roi=face)\n",
    "    extracted_signals.append({\n",
    "        'subject': subject,\n",
    "        'setting': setting,\n",
    "        'method': 'pixel_intensity_rgb',\n",
    "        'duration': datetime.now() - pi_start,\n",
    "        'sampling_rate': params.fps,\n",
    "        'signal': pi_signal_rgb.tolist(),\n",
    "    })\n",
    "\n",
    "    # Extract the signal from the grayscale frames\n",
    "    frames = utils.rgb_to_grey(frames)\n",
    "    pi_start = datetime.now()\n",
    "    pi_signal_rgb = pixel_intensity.average_pixel_intensity(frames, roi=face)\n",
    "    extracted_signals.append({\n",
    "        'subject': subject,\n",
    "        'setting': setting,\n",
    "        'method': 'pixel_intensity_grey',\n",
    "        'duration': datetime.now() - pi_start,\n",
    "        'sampling_rate': params.fps,\n",
    "        'signal': pi_signal_rgb.tolist(),\n",
    "    })\n",
    "\n",
    "    # Garbage collect the frames\n",
    "    del frames"
   ],
   "outputs": [],
   "execution_count": null
  },
  {
   "metadata": {},
   "cell_type": "code",
   "source": "manifest['timestamp_finish'] = datetime.now()",
   "id": "4361f0aa4df2465",
   "outputs": [],
   "execution_count": null
  },
  {
   "metadata": {},
   "cell_type": "code",
   "source": [
    "import pandas as pd\n",
    "\n",
    "df = pd.DataFrame(extracted_signals)\n",
    "df.head()"
   ],
   "id": "e94ff7cb59c2a3ea",
   "outputs": [],
   "execution_count": null
  },
  {
   "metadata": {},
   "cell_type": "code",
   "source": [
    "import respiration.utils as utils\n",
    "\n",
    "output_dir = utils.dir_path('outputs', 'signals', mkdir=True)\n",
    "\n",
    "# Save the evaluation dataframe\n",
    "csv_path = os.path.join(output_dir, 'pixel_intensity.csv')\n",
    "df.to_csv(csv_path, index=False)\n",
    "\n",
    "# Save the hyperparameters as prettified json\n",
    "json_path = os.path.join(output_dir, 'pixel_intensity_manifest.json')\n",
    "utils.write_json(json_path, manifest)"
   ],
   "id": "3806544e615aa349",
   "outputs": [],
   "execution_count": null
  }
 ],
 "metadata": {
  "kernelspec": {
   "display_name": "Python 3",
   "language": "python",
   "name": "python3"
  },
  "language_info": {
   "codemirror_mode": {
    "name": "ipython",
    "version": 2
   },
   "file_extension": ".py",
   "mimetype": "text/x-python",
   "name": "python",
   "nbconvert_exporter": "python",
   "pygments_lexer": "ipython2",
   "version": "2.7.6"
  }
 },
 "nbformat": 4,
 "nbformat_minor": 5
}
