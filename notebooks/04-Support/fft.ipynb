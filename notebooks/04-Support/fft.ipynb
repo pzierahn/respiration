{
 "cells": [
  {
   "metadata": {},
   "cell_type": "markdown",
   "source": [
    "# Fast Fourier Transform (FFT)\n",
    "\n",
    "Understand the basics of the Fast Fourier Transform (FFT) and how to compute the power spectral density (PSD) of a time series signal."
   ],
   "id": "3ad83e7a6015af9b"
  },
  {
   "cell_type": "code",
   "id": "initial_id",
   "metadata": {
    "collapsed": true,
    "ExecuteTime": {
     "end_time": "2024-09-02T07:32:58.811209Z",
     "start_time": "2024-09-02T07:32:57.926464Z"
    }
   },
   "source": [
    "import torch\n",
    "\n",
    "# Create a random tensor of length 5\n",
    "time_series = torch.randn(3600 // 10)\n",
    "sampling_rate = 30\n",
    "freq_range = (0.1, 0.5)\n",
    "\n",
    "# Calculate the frequency step size from the sampling rate\n",
    "freq_step = sampling_rate / time_series.shape[0]\n",
    "num_freqs = round((freq_range[1] - freq_range[0]) / freq_step)\n",
    "print(f'Step size: {freq_step:.2f}')\n",
    "print(f'Num freqs: {num_freqs:.2f}')\n",
    "\n",
    "# Compute the power spectral density (PSD) using periodogram\n",
    "psd = (torch.fft.fft(time_series).abs() ** 2) / time_series.shape[0]\n",
    "\n",
    "psd = psd[:len(psd) // 2]\n",
    "freq = torch.fft.fftfreq(time_series.shape[0], 1 / sampling_rate)[:len(psd)]\n",
    "\n",
    "step_size = freq[1] - freq[0]\n",
    "print(f'Frequency step size: {step_size:.2f} Hz ({step_size * sampling_rate:.2f} BPM)')\n",
    "\n",
    "# Number of frequencies between the range [0.1, 0.5] Hz in the PSD\n",
    "num_freqs = ((freq >= freq_range[0]) & (freq <= freq_range[1])).sum().item()\n",
    "print(f'Number of frequencies: {num_freqs}')"
   ],
   "outputs": [
    {
     "name": "stdout",
     "output_type": "stream",
     "text": [
      "Step size: 0.08\n",
      "Num freqs: 5.00\n",
      "Frequency step size: 0.08 Hz (2.50 BPM)\n",
      "Number of frequencies: 5\n"
     ]
    }
   ],
   "execution_count": 1
  },
  {
   "metadata": {
    "ExecuteTime": {
     "end_time": "2024-09-02T07:32:59.135153Z",
     "start_time": "2024-09-02T07:32:58.911128Z"
    }
   },
   "cell_type": "code",
   "source": [
    "# Plot the PSD\n",
    "import matplotlib.pyplot as plt\n",
    "\n",
    "plt.figure()\n",
    "plt.plot(freq, psd)\n",
    "plt.xlabel('Frequency (Hz)')\n",
    "plt.ylabel('Power')\n",
    "\n",
    "# Only show the range [0.1, 0.5] Hz\n",
    "plt.xlim(freq_range)\n",
    "plt.ylim(0, psd.max())\n",
    "\n",
    "plt.show()"
   ],
   "id": "171f800fba4291fb",
   "outputs": [
    {
     "data": {
      "text/plain": [
       "<Figure size 640x480 with 1 Axes>"
      ],
      "image/png": "[encoded data removed]"
     },
     "metadata": {},
     "output_type": "display_data"
    }
   ],
   "execution_count": 2
  }
 ],
 "metadata": {
  "kernelspec": {
   "display_name": "Python 3",
   "language": "python",
   "name": "python3"
  },
  "language_info": {
   "codemirror_mode": {
    "name": "ipython",
    "version": 2
   },
   "file_extension": ".py",
   "mimetype": "text/x-python",
   "name": "python",
   "nbconvert_exporter": "python",
   "pygments_lexer": "ipython2",
   "version": "2.7.6"
  }
 },
 "nbformat": 4,
 "nbformat_minor": 5
}
