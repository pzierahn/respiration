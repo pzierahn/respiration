{
 "cells": [
  {
   "metadata": {},
   "cell_type": "markdown",
   "source": "# Lucas-Kanade Analysis",
   "id": "ab8bdee78031cc65"
  },
  {
   "cell_type": "code",
   "id": "initial_id",
   "metadata": {
    "collapsed": true
   },
   "source": [
    "import numpy as np\n",
    "import pandas as pd\n",
    "import respiration.utils as utils\n",
    "\n",
    "evaluation_dir = utils.dir_path('outputs', 'signals')\n",
    "\n",
    "predictions_file = utils.join_paths(evaluation_dir, 'lucas_kanade.csv')\n",
    "predictions = pd.read_csv(predictions_file)\n",
    "predictions['signal'] = predictions['signal'].apply(eval).apply(np.array)\n",
    "predictions['duration'] = pd.to_timedelta(predictions['duration'])\n",
    "predictions.head()"
   ],
   "outputs": [],
   "execution_count": null
  },
  {
   "metadata": {},
   "cell_type": "markdown",
   "source": "## Compare the predictions to the ground truth",
   "id": "dac9f58f30a88636"
  },
  {
   "metadata": {},
   "cell_type": "code",
   "source": [
    "from respiration.dataset import VitalCamSet\n",
    "\n",
    "dataset = VitalCamSet()"
   ],
   "id": "8ccf1401b5dd3fc8",
   "outputs": [],
   "execution_count": null
  },
  {
   "metadata": {},
   "cell_type": "code",
   "source": [
    "import respiration.analysis as analysis\n",
    "\n",
    "methods = predictions['method'].unique()\n",
    "use_cgof = [True, False]\n",
    "grey = [True, False]\n",
    "\n",
    "analysis_results = []\n",
    "\n",
    "for method in methods:\n",
    "    for g in grey:\n",
    "        signals = predictions[\n",
    "            (predictions['method'] == method) &\n",
    "            (predictions['grey'] == g)]\n",
    "\n",
    "        experiment_analysis = analysis.Analysis()\n",
    "\n",
    "        for idx, row in signals.iterrows():\n",
    "            subject, setting = row['subject'], row['setting']\n",
    "            prediction = row['signal']\n",
    "            gt_signal = dataset.get_breathing_signal(subject, setting)\n",
    "            experiment_analysis.add_data(prediction, gt_signal, 30)\n",
    "\n",
    "        metrics = experiment_analysis.compute_metrics()\n",
    "        for entry in metrics:\n",
    "            analysis_results.append({\n",
    "                'model': method,\n",
    "                'grey': g,\n",
    "                'metric': entry['metric'],\n",
    "                'method': entry['method'],\n",
    "                'value': entry['value'],\n",
    "            })\n",
    "\n",
    "analysis_results = pd.DataFrame(analysis_results)"
   ],
   "id": "6881d1ee98c555b",
   "outputs": [],
   "execution_count": null
  },
  {
   "metadata": {},
   "cell_type": "code",
   "source": [
    "# Only shoe MAE and pk\n",
    "analysis_results[\n",
    "    (analysis_results['metric'] == 'Correlation')\n",
    "    # (analysis_results['method'] == 'pk')\n",
    "    ]"
   ],
   "id": "b99a814936e3e863",
   "outputs": [],
   "execution_count": null
  }
 ],
 "metadata": {
  "kernelspec": {
   "display_name": "Python 3",
   "language": "python",
   "name": "python3"
  },
  "language_info": {
   "codemirror_mode": {
    "name": "ipython",
    "version": 2
   },
   "file_extension": ".py",
   "mimetype": "text/x-python",
   "name": "python",
   "nbconvert_exporter": "python",
   "pygments_lexer": "ipython2",
   "version": "2.7.6"
  }
 },
 "nbformat": 4,
 "nbformat_minor": 5
}
