{
 "cells": [
  {
   "metadata": {},
   "cell_type": "markdown",
   "source": [
    "# Evaluation\n",
    "\n",
    "Steps:\n",
    "1. Harmonize the predictions to have the same format\n",
    "2. Extract the frequencies using a sliding window approach\n",
    "3. Evaluate the performance of the models\n",
    "4. Visualize the results"
   ],
   "id": "858d2eaef54d2b36"
  },
  {
   "metadata": {},
   "cell_type": "markdown",
   "source": "## Step 1: Harmonize the predictions",
   "id": "d5de492f4255dbcf"
  },
  {
   "cell_type": "code",
   "id": "db3bfc6b2e01322a",
   "metadata": {
    "collapsed": true
   },
   "source": [
    "import numpy as np\n",
    "import pandas as pd\n",
    "import respiration.utils as utils\n",
    "\n",
    "signals_dir = utils.dir_path('outputs', 'signals')"
   ],
   "outputs": [],
   "execution_count": null
  },
  {
   "metadata": {},
   "cell_type": "code",
   "source": [
    "raft_file = utils.join_paths(signals_dir, 'raft_predictions.csv')\n",
    "raft_predictions = pd.read_csv(raft_file)\n",
    "raft_predictions['signal'] = raft_predictions['signal_v'].apply(eval).apply(np.array)\n",
    "\n",
    "# Only keep the chest roi predictions\n",
    "raft_predictions = raft_predictions[raft_predictions['roi'] == 'chest']\n",
    "\n",
    "# Only keep the columns that are needed\n",
    "raft_predictions = raft_predictions[['subject', 'setting', 'model', 'signal']]\n",
    "\n",
    "raft_predictions.head()"
   ],
   "id": "9e7ad8144746a824",
   "outputs": [],
   "execution_count": null
  },
  {
   "metadata": {},
   "cell_type": "code",
   "source": [
    "flownet_file = utils.join_paths(signals_dir, 'flownet_predictions.csv')\n",
    "flownet_predictions = pd.read_csv(flownet_file)\n",
    "flownet_predictions['signal'] = flownet_predictions['signal_v'].apply(eval).apply(np.array)\n",
    "\n",
    "# Only keep the chest roi predictions\n",
    "flownet_predictions = flownet_predictions[flownet_predictions['roi'] == 'chest']\n",
    "\n",
    "# Only keep the columns that are needed\n",
    "flownet_predictions = flownet_predictions[['subject', 'setting', 'model', 'signal']]\n",
    "\n",
    "flownet_predictions.head()"
   ],
   "id": "2a413445397940c2",
   "outputs": [],
   "execution_count": null
  },
  {
   "metadata": {},
   "cell_type": "code",
   "source": [
    "pretrained_file = utils.join_paths(signals_dir, 'pretrained_predictions.csv')\n",
    "pretrained_predictions = pd.read_csv(pretrained_file)\n",
    "pretrained_predictions['signal'] = pretrained_predictions['signal'].apply(eval).apply(np.array)\n",
    "\n",
    "# Only keep the columns that are needed\n",
    "pretrained_predictions = pretrained_predictions[['subject', 'setting', 'model', 'signal']]\n",
    "\n",
    "pretrained_predictions.head()"
   ],
   "id": "initial_id",
   "outputs": [],
   "execution_count": null
  },
  {
   "metadata": {},
   "cell_type": "code",
   "source": [
    "lucas_kanade_file = utils.join_paths(signals_dir, 'lucas_kanade.csv')\n",
    "lucas_kanade = pd.read_csv(lucas_kanade_file)\n",
    "lucas_kanade['signal'] = lucas_kanade['signal'].apply(eval).apply(np.array)\n",
    "\n",
    "# Rename column method to model\n",
    "lucas_kanade.rename(columns={'method': 'model'}, inplace=True)\n",
    "\n",
    "# Remove all the rows that have a signal with a length of 0\n",
    "lucas_kanade = lucas_kanade[lucas_kanade['grey'] == False]\n",
    "\n",
    "# Only keep the columns that are needed\n",
    "lucas_kanade = lucas_kanade[['subject', 'setting', 'model', 'signal']]\n",
    "\n",
    "lucas_kanade.head()"
   ],
   "id": "f995d2bcc90e1731",
   "outputs": [],
   "execution_count": null
  },
  {
   "metadata": {},
   "cell_type": "code",
   "source": [
    "pixel_intensity_file = utils.join_paths(signals_dir, 'pixel_intensity.csv')\n",
    "pixel_intensity = pd.read_csv(pixel_intensity_file)\n",
    "pixel_intensity['signal'] = pixel_intensity['signal'].apply(eval).apply(np.array)\n",
    "\n",
    "# Rename column method to model\n",
    "pixel_intensity.rename(columns={'method': 'model'}, inplace=True)\n",
    "\n",
    "# Only keep the columns that are needed\n",
    "pixel_intensity = lucas_kanade[['subject', 'setting', 'model', 'signal']]\n",
    "\n",
    "pixel_intensity.head()"
   ],
   "id": "20bae0c2d2b60800",
   "outputs": [],
   "execution_count": null
  },
  {
   "metadata": {},
   "cell_type": "code",
   "source": [
    "r_ppg_path = utils.join_paths(signals_dir, 'r_ppg_predictions.csv')\n",
    "\n",
    "r_ppg_prediction = pd.read_csv(r_ppg_path)\n",
    "r_ppg_prediction['signal'] = r_ppg_prediction['signal'].apply(eval).apply(np.array)\n",
    "\n",
    "# Only keep the columns that are needed\n",
    "r_ppg_prediction = r_ppg_prediction[['subject', 'setting', 'model', 'signal']]\n",
    "r_ppg_prediction.head()"
   ],
   "id": "d4fba7688e368e8d",
   "outputs": [],
   "execution_count": null
  },
  {
   "metadata": {},
   "cell_type": "code",
   "source": [
    "transformer_path = utils.join_paths(signals_dir, 'transformer_predictions.csv')\n",
    "\n",
    "transformer_prediction = pd.read_csv(transformer_path)\n",
    "transformer_prediction['signal'] = transformer_prediction['signal'].apply(eval).apply(np.array)\n",
    "\n",
    "# Add a tf_ prefix to the model names\n",
    "transformer_prediction['model'] = 'tf_' + transformer_prediction['model']\n",
    "\n",
    "# Only keep the columns that are needed\n",
    "transformer_prediction = transformer_prediction[['subject', 'setting', 'model', 'signal']]\n",
    "transformer_prediction.head()"
   ],
   "id": "3ff4d484569eeff",
   "outputs": [],
   "execution_count": null
  },
  {
   "metadata": {},
   "cell_type": "code",
   "source": [
    "#\n",
    "# The random signal is used as a baseline to see how well the models perform against a random predictions\n",
    "#\n",
    "random_path = utils.join_paths(signals_dir, 'random_predictions.csv')\n",
    "\n",
    "random_prediction = pd.read_csv(random_path)\n",
    "random_prediction['signal'] = random_prediction['signal'].apply(eval).apply(np.array)\n",
    "\n",
    "# Only keep the columns that are needed\n",
    "random_prediction = random_prediction[['subject', 'setting', 'model', 'signal']]\n",
    "random_prediction.head()"
   ],
   "id": "c980aed7c7a98e46",
   "outputs": [],
   "execution_count": null
  },
  {
   "metadata": {},
   "cell_type": "code",
   "source": [
    "rhythm_former_path = utils.join_paths(signals_dir, 'rhythm_former.csv')\n",
    "\n",
    "rhythm_former = pd.read_csv(rhythm_former_path)\n",
    "rhythm_former['signal'] = rhythm_former['signal'].apply(eval).apply(np.array)\n",
    "\n",
    "# Only keep the columns that are needed\n",
    "rhythm_former = rhythm_former[['subject', 'setting', 'model', 'signal']]\n",
    "rhythm_former.head()"
   ],
   "id": "ff91bd9f4150474f",
   "outputs": [],
   "execution_count": null
  },
  {
   "metadata": {},
   "cell_type": "code",
   "source": [
    "predictions = pd.concat([\n",
    "    raft_predictions,\n",
    "    flownet_predictions,\n",
    "    pretrained_predictions,\n",
    "    lucas_kanade,\n",
    "    pixel_intensity,\n",
    "    r_ppg_prediction,\n",
    "    transformer_prediction,\n",
    "    random_prediction,\n",
    "    rhythm_former,\n",
    "])\n",
    "len(predictions)"
   ],
   "id": "26fd22df832dffa8",
   "outputs": [],
   "execution_count": null
  },
  {
   "metadata": {},
   "cell_type": "markdown",
   "source": "## Step 2: Extract the frequencies using a sliding window approach",
   "id": "37e70d5e3a50c222"
  },
  {
   "metadata": {},
   "cell_type": "code",
   "source": [
    "from respiration.dataset import VitalCamSet\n",
    "\n",
    "sample_rate = 30\n",
    "dataset = VitalCamSet()"
   ],
   "id": "42dfbd471b70b5f9",
   "outputs": [],
   "execution_count": null
  },
  {
   "metadata": {},
   "cell_type": "code",
   "source": [
    "from tqdm.auto import tqdm\n",
    "import respiration.analysis as analysis\n",
    "\n",
    "experiment_analysis = analysis.Analysis(\n",
    "    sample_rate=sample_rate,\n",
    ")\n",
    "\n",
    "for idx, row in tqdm(predictions.iterrows(), total=len(predictions)):\n",
    "    subject, setting = row['subject'], row['setting']\n",
    "    prediction = row['signal']\n",
    "    model = row['model']\n",
    "    gt_signal = dataset.get_breathing_signal(subject, setting)\n",
    "\n",
    "    # Cut the gt_signal to have the same length as the prediction\n",
    "    gt_signal = gt_signal[:len(prediction)]\n",
    "\n",
    "    experiment_analysis.add_data(model, prediction, gt_signal)"
   ],
   "id": "182a18fc797f0313",
   "outputs": [],
   "execution_count": null
  },
  {
   "metadata": {},
   "cell_type": "code",
   "source": "analysis_dir = utils.dir_path('outputs', 'analysis')",
   "id": "3670af9c6253b56a",
   "outputs": [],
   "execution_count": null
  },
  {
   "metadata": {},
   "cell_type": "code",
   "source": [
    "results_table = experiment_analysis.metrics_df()\n",
    "\n",
    "# Calculate the MAE and RMSE in beats per minute (bpm)\n",
    "results_table['MAE'] = results_table['MAE'].apply(lambda x: round(x * 60, 3))\n",
    "results_table['RMSE'] = results_table['RMSE'].apply(lambda x: round(x * 60, 3))\n",
    "\n",
    "results_table.to_csv(utils.join_paths(analysis_dir, 'metrics.csv'), index=False)\n",
    "results_table"
   ],
   "id": "2b2b3132ef86d75e",
   "outputs": [],
   "execution_count": null
  },
  {
   "metadata": {},
   "cell_type": "markdown",
   "source": "## Step 3: Score the performance of the models",
   "id": "efc48d8eb0af948b"
  },
  {
   "metadata": {},
   "cell_type": "code",
   "source": [
    "results_table_x = results_table.copy()\n",
    "\n",
    "# Calculate the PCC in absolute values\n",
    "results_table_x['PCC'] = results_table_x['PCC'].apply(lambda x: abs(x))\n",
    "\n",
    "# Remove the cp method, because we use the improved nfcp method\n",
    "results_table_x = results_table_x[(results_table_x['method'] == 'pk') |\n",
    "                                  (results_table_x['method'] == 'psd')]\n",
    "\n",
    "# Calculate the average RMSE for each model\n",
    "average_metric = results_table_x.groupby('model')['MAE'].mean().reset_index()\n",
    "average_metric['MAE'] = average_metric['MAE'].apply(lambda x: round(x, 3))\n",
    "average_metric['MAE_std'] = results_table_x.groupby('model')['MAE'].std().values\n",
    "\n",
    "# Add the averaged RMSE for each model\n",
    "average_metric['RMSE'] = results_table_x.groupby('model')['RMSE'].mean().values\n",
    "average_metric['RMSE'] = average_metric['RMSE'].apply(lambda x: round(x, 3))\n",
    "average_metric['RMSE_std'] = results_table_x.groupby('model')['RMSE'].std().values\n",
    "\n",
    "# Add the averaged PCC for each model\n",
    "average_metric['PCC'] = results_table_x.groupby('model')['PCC'].mean().values\n",
    "average_metric['PCC'] = average_metric['PCC'].apply(lambda x: round(x, 3))\n",
    "average_metric['p-value'] = results_table_x.groupby('model')['PCC-p-value'].mean().values\n",
    "average_metric['p-value'] = average_metric['p-value'].apply(lambda x: round(x, 3))\n",
    "\n",
    "# Store the results\n",
    "average_metric.to_csv(utils.join_paths(analysis_dir, 'average_metrics.csv'), index=False)\n",
    "\n",
    "average_metric"
   ],
   "id": "55a0e06135fdf3d2",
   "outputs": [],
   "execution_count": null
  },
  {
   "metadata": {},
   "cell_type": "code",
   "source": [
    "# Plot the MAE for the following models\n",
    "model_selection = [\n",
    "    \"lucas_kanade\",\n",
    "    \"FlowNet2CS\",\n",
    "    \"raft_small\",\n",
    "    \"raft_large\",\n",
    "    \"mtts_can\",\n",
    "    \"20240722_202357_RhythmFormer\",\n",
    "    \"tf_20240728_114332\",\n",
    "    \"tf_20240728_172805\",\n",
    "    \"RF_20240726_104536\",\n",
    "    \"MMPD_intra_RhythmFormer\",\n",
    "    \"SCAMPS_DeepPhys\",\n",
    "    \"big_small\",\n",
    "    \"random\",\n",
    "]\n",
    "\n",
    "xxx = results_table_x[results_table_x['model'].isin(model_selection)]\n",
    "\n",
    "# Sort the models by the average MAE\n",
    "xxx = xxx.sort_values('MAE')\n",
    "\n",
    "import seaborn as sns\n",
    "import matplotlib.pyplot as plt\n",
    "\n",
    "plt.figure(figsize=(10, 5))\n",
    "\n",
    "# Boxplot with std\n",
    "sns.boxplot(data=xxx, x='model', y='MAE')\n",
    "\n",
    "plt.xticks(rotation=45)\n",
    "plt.ylabel('MAE (bpm)')\n",
    "plt.xlabel('Model')\n",
    "plt.title('MAE of the different models')\n",
    "plt.tight_layout()\n",
    "\n",
    "plt.show()"
   ],
   "id": "81dfb8b260dc1e87",
   "outputs": [],
   "execution_count": null
  },
  {
   "metadata": {},
   "cell_type": "code",
   "source": [
    "model = \"RF_20240726_104536\"\n",
    "\n",
    "# Create a bland-altman plot for the following models\n",
    "fig, axs = plt.subplots(1, 4, figsize=(20, 5))\n",
    "\n",
    "for idx, metric in enumerate([\"psd\", \"pk\", \"cp\", \"nfcp\"]):\n",
    "    preds = experiment_analysis.prediction_metrics[model][metric]\n",
    "    gts = experiment_analysis.ground_truth_metrics[model][metric]\n",
    "\n",
    "    # Transform the values from Hz to beats per minute\n",
    "    preds = preds * 60\n",
    "    gts = gts * 60\n",
    "\n",
    "    # Scatter plot\n",
    "    axs[idx].scatter(gts, preds, label=metric)\n",
    "    axs[idx].set_title(f'{metric.upper()}')\n",
    "\n",
    "    pcc = np.corrcoef(gts, preds)[0, 1]\n",
    "    axs[idx].text(0.1, 0.9, f'PCC: {round(pcc, 3)}', transform=axs[idx].transAxes)\n",
    "    # Add a trend line\n",
    "    axs[idx].plot(np.unique(gts), np.poly1d(np.polyfit(gts, preds, 1))(np.unique(gts)), color='red')\n",
    "\n",
    "    # Show the range 0 to 35 for the x- and y-axis\n",
    "    axs[idx].set_xlim(0, 45)\n",
    "    axs[idx].set_ylim(0, 45)\n",
    "\n",
    "    # Name the x- and y-axis\n",
    "    axs[idx].set_xlabel('Ground truth (bpm)')\n",
    "    axs[idx].set_ylabel('Prediction (bpm)')\n",
    "\n",
    "plt.tight_layout()\n",
    "plt.show()"
   ],
   "id": "6faae9b5b1093544",
   "outputs": [],
   "execution_count": null
  }
 ],
 "metadata": {
  "kernelspec": {
   "display_name": "Python 3",
   "language": "python",
   "name": "python3"
  },
  "language_info": {
   "codemirror_mode": {
    "name": "ipython",
    "version": 2
   },
   "file_extension": ".py",
   "mimetype": "text/x-python",
   "name": "python",
   "nbconvert_exporter": "python",
   "pygments_lexer": "ipython2",
   "version": "2.7.6"
  }
 },
 "nbformat": 4,
 "nbformat_minor": 5
}
