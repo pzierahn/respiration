{
 "cells": [
  {
   "cell_type": "markdown",
   "id": "29e8feb5a154ad",
   "metadata": {},
   "source": [
    "# Unsupervised\n",
    "\n",
    "This notebook extracts respiration signals, for all subjects in the test dataset, with the following methods:\n",
    "- Pixel intensity\n",
    "- Optical flow"
   ]
  },
  {
   "cell_type": "code",
   "id": "initial_id",
   "metadata": {
    "collapsed": true
   },
   "source": [
    "import os\n",
    "from respiration.dataset import VitalCamSet\n",
    "\n",
    "dataset = VitalCamSet()\n",
    "scenarios = dataset.get_scenarios(['101_natural_lighting'])\n",
    "scenarios"
   ],
   "outputs": [],
   "execution_count": null
  },
  {
   "metadata": {},
   "cell_type": "code",
   "source": [
    "from datetime import datetime\n",
    "\n",
    "parameters = {\n",
    "    'quality_level': 0.1,\n",
    "    'quality_level_rv': 0.05,\n",
    "    'use_cgof': True,\n",
    "}\n",
    "\n",
    "manifest = {\n",
    "    'timestamp_start': datetime.now(),\n",
    "    'scenarios': scenarios,\n",
    "    'parameters': parameters,\n",
    "    'incomplete_rois': [],\n",
    "}"
   ],
   "id": "d6e2ab154d5334d9",
   "outputs": [],
   "execution_count": null
  },
  {
   "cell_type": "code",
   "id": "2aba3e680aa178da",
   "metadata": {},
   "source": [
    "from tqdm.auto import tqdm\n",
    "import respiration.roi as roi\n",
    "import respiration.extractor.pixel_intensity as pixel_intensity\n",
    "import respiration.extractor.lucas_kanade as lucas_kanade\n",
    "\n",
    "extracted_signals = []\n",
    "\n",
    "for (subject, setting) in tqdm(scenarios):\n",
    "    print(f'Processing {subject} - {setting}')\n",
    "\n",
    "    frames, params = dataset.get_video_gray(subject, setting)\n",
    "\n",
    "    areas = roi.get_roi_areas(frames[0])\n",
    "    if len(areas) < 3:\n",
    "        print(f'Warning: only {len(areas)} ROIs found for {subject} - {setting}')\n",
    "        manifest['incomplete_rois'].append({\n",
    "            'subject': subject,\n",
    "            'setting': setting,\n",
    "            'rois': [name for (_, name) in areas],\n",
    "        })\n",
    "\n",
    "    for (area, name) in areas:\n",
    "        #\n",
    "        # Calculate the average pixel intensity\n",
    "        #\n",
    "\n",
    "        pi_start = datetime.now()\n",
    "        pi_signal = pixel_intensity.average_pixel_intensity(frames, roi=area)\n",
    "        extracted_signals.append({\n",
    "            'subject': subject,\n",
    "            'setting': setting,\n",
    "            'method': 'pixel_intensity',\n",
    "            'roi': name,\n",
    "            'roi_area': list(area),\n",
    "            'duration': datetime.now() - pi_start,\n",
    "            'sampling_rate': params.fps,\n",
    "            'signal': pi_signal.tolist(),\n",
    "        })\n",
    "\n",
    "        #\n",
    "        # Calculate the optical flow\n",
    "        #\n",
    "\n",
    "        of_cgof_start = datetime.now()\n",
    "        of_signal_raw = lucas_kanade.extract_signal(\n",
    "            frames,\n",
    "            roi=area,\n",
    "            quality_level=parameters['quality_level'],\n",
    "            quality_level_rv=parameters['quality_level_rv'],\n",
    "            use_cgof=parameters['use_cgof'],\n",
    "        )\n",
    "\n",
    "        extracted_signals.append({\n",
    "            'subject': subject,\n",
    "            'setting': setting,\n",
    "            'method': 'lucas_kanade',\n",
    "            'roi': name,\n",
    "            'roi_area': list(area),\n",
    "            'duration': datetime.now() - of_cgof_start,\n",
    "            'sampling_rate': params.fps,\n",
    "            'signal': of_signal_raw.tolist(),\n",
    "        })\n",
    "\n",
    "    # Garbage collect the frames\n",
    "    del frames"
   ],
   "outputs": [],
   "execution_count": null
  },
  {
   "metadata": {},
   "cell_type": "code",
   "source": "manifest['timestamp_finish'] = datetime.now()",
   "id": "4361f0aa4df2465",
   "outputs": [],
   "execution_count": null
  },
  {
   "metadata": {},
   "cell_type": "code",
   "source": [
    "import pandas as pd\n",
    "\n",
    "df = pd.DataFrame(extracted_signals)\n",
    "df.head()"
   ],
   "id": "e94ff7cb59c2a3ea",
   "outputs": [],
   "execution_count": null
  },
  {
   "metadata": {},
   "cell_type": "code",
   "source": [
    "import respiration.utils as utils\n",
    "\n",
    "output_dir = utils.dir_path('outputs', 'signals', mkdir=True)\n",
    "\n",
    "# Save the evaluation dataframe\n",
    "csv_path = os.path.join(output_dir, 'unsupervised_predictions.csv')\n",
    "df.to_csv(csv_path, index=False)\n",
    "\n",
    "# Save the hyperparameters as prettified json\n",
    "json_path = os.path.join(output_dir, 'unsupervised_manifest.json')\n",
    "utils.write_json(json_path, manifest)"
   ],
   "id": "3806544e615aa349",
   "outputs": [],
   "execution_count": null
  }
 ],
 "metadata": {
  "kernelspec": {
   "display_name": "Python 3",
   "language": "python",
   "name": "python3"
  },
  "language_info": {
   "codemirror_mode": {
    "name": "ipython",
    "version": 2
   },
   "file_extension": ".py",
   "mimetype": "text/x-python",
   "name": "python",
   "nbconvert_exporter": "python",
   "pygments_lexer": "ipython2",
   "version": "2.7.6"
  }
 },
 "nbformat": 4,
 "nbformat_minor": 5
}
