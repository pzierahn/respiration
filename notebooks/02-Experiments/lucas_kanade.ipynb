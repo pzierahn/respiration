{
 "cells": [
  {
   "cell_type": "markdown",
   "id": "29e8feb5a154ad",
   "metadata": {},
   "source": [
    "# Lucas-Kanade Extractor\n",
    "\n",
    "Analysis of the Lucas Kanade optical flow method for extracting respiratory signals from the VitalCam dataset."
   ]
  },
  {
   "cell_type": "code",
   "id": "initial_id",
   "metadata": {
    "collapsed": true
   },
   "source": [
    "import os\n",
    "from respiration.dataset import VitalCamSet\n",
    "\n",
    "dataset = VitalCamSet()\n",
    "scenarios = dataset.get_scenarios(['101_natural_lighting'])"
   ],
   "outputs": [],
   "execution_count": null
  },
  {
   "metadata": {},
   "cell_type": "code",
   "source": [
    "from datetime import datetime\n",
    "\n",
    "parameters = {\n",
    "    'quality_level': 0.1,\n",
    "    'quality_level_rv': 0.05,\n",
    "}\n",
    "\n",
    "manifest = {\n",
    "    'timestamp_start': datetime.now(),\n",
    "    'scenarios': scenarios,\n",
    "    'parameters': parameters,\n",
    "}"
   ],
   "id": "d6e2ab154d5334d9",
   "outputs": [],
   "execution_count": null
  },
  {
   "cell_type": "code",
   "id": "2aba3e680aa178da",
   "metadata": {},
   "source": [
    "from tqdm.auto import tqdm\n",
    "import cv2\n",
    "import respiration.roi as roi\n",
    "import respiration.utils as utils\n",
    "import respiration.extractor.lucas_kanade as lucas_kanade\n",
    "\n",
    "extracted_signals = []\n",
    "\n",
    "for (subject, setting) in tqdm(scenarios):\n",
    "    print(f'Processing {subject} - {setting}')\n",
    "\n",
    "    frames, params = dataset.get_video_rgb(subject, setting)\n",
    "\n",
    "    # Convert the first frame to grey \n",
    "    first_frame = cv2.cvtColor(frames[0], cv2.COLOR_RGB2GRAY)\n",
    "    chest_area = roi.detect_chest(first_frame)\n",
    "\n",
    "    for grey in [False, True]:\n",
    "        if grey:\n",
    "            frames = utils.rgb_to_grey(frames)\n",
    "\n",
    "        for use_cgof in [True, False]:\n",
    "            start = datetime.now()\n",
    "\n",
    "            if grey:\n",
    "                of_signal_raw = lucas_kanade.extract_signal_grey(\n",
    "                    frames,\n",
    "                    roi=chest_area,\n",
    "                    quality_level=parameters['quality_level'],\n",
    "                    quality_level_rv=parameters['quality_level_rv'],\n",
    "                    use_cgof=use_cgof,\n",
    "                )\n",
    "            else:\n",
    "                of_signal_raw = lucas_kanade.extract_signal_rgb(\n",
    "                    frames,\n",
    "                    roi=chest_area,\n",
    "                    quality_level=parameters['quality_level'],\n",
    "                    quality_level_rv=parameters['quality_level_rv'],\n",
    "                    use_cgof=use_cgof,\n",
    "                )\n",
    "\n",
    "            name = 'lucas_kanade'\n",
    "            if use_cgof:\n",
    "                name += '_cgof'\n",
    "\n",
    "            extracted_signals.append({\n",
    "                'subject': subject,\n",
    "                'setting': setting,\n",
    "                'method': name,\n",
    "                'use_cgof': use_cgof,\n",
    "                'grey': grey,\n",
    "                'duration': datetime.now() - start,\n",
    "                'sampling_rate': params.fps,\n",
    "                'signal': of_signal_raw.tolist(),\n",
    "            })\n",
    "\n",
    "    # Garbage collect the frames\n",
    "    del frames"
   ],
   "outputs": [],
   "execution_count": null
  },
  {
   "metadata": {},
   "cell_type": "code",
   "source": "manifest['timestamp_finish'] = datetime.now()",
   "id": "4361f0aa4df2465",
   "outputs": [],
   "execution_count": null
  },
  {
   "metadata": {},
   "cell_type": "code",
   "source": [
    "import pandas as pd\n",
    "\n",
    "df = pd.DataFrame(extracted_signals)\n",
    "df.head()"
   ],
   "id": "e94ff7cb59c2a3ea",
   "outputs": [],
   "execution_count": null
  },
  {
   "metadata": {},
   "cell_type": "code",
   "source": [
    "import respiration.utils as utils\n",
    "\n",
    "output_dir = utils.dir_path('outputs', 'signals', mkdir=True)\n",
    "\n",
    "# Save the evaluation dataframe\n",
    "csv_path = os.path.join(output_dir, 'lucas_kanade.csv')\n",
    "df.to_csv(csv_path, index=False)\n",
    "\n",
    "# Save the hyperparameters as prettified json\n",
    "json_path = os.path.join(output_dir, 'lucas_kanade.json')\n",
    "utils.write_json(json_path, manifest)"
   ],
   "id": "3806544e615aa349",
   "outputs": [],
   "execution_count": null
  }
 ],
 "metadata": {
  "kernelspec": {
   "display_name": "Python 3",
   "language": "python",
   "name": "python3"
  },
  "language_info": {
   "codemirror_mode": {
    "name": "ipython",
    "version": 2
   },
   "file_extension": ".py",
   "mimetype": "text/x-python",
   "name": "python",
   "nbconvert_exporter": "python",
   "pygments_lexer": "ipython2",
   "version": "2.7.6"
  }
 },
 "nbformat": 4,
 "nbformat_minor": 5
}
