{
 "cells": [
  {
   "metadata": {},
   "cell_type": "markdown",
   "source": "# Show the effect of preprocessing steps",
   "id": "a3fae31ff55ec0bb"
  },
  {
   "metadata": {},
   "cell_type": "code",
   "source": [
    "from respiration.dataset import VitalCamSet\n",
    "from respiration.utils import VitalSigns\n",
    "\n",
    "test_subject = 'Proband16'\n",
    "test_setting = '101_natural_lighting'\n",
    "\n",
    "dataset = VitalCamSet()\n",
    "gt_respiration = dataset.get_breathing_signal(test_subject, test_setting)\n",
    "gt_pleth = dataset.get_vital_sign(test_subject, test_setting, VitalSigns.pleth)"
   ],
   "id": "3a0d238ca05210a9",
   "outputs": [],
   "execution_count": null
  },
  {
   "metadata": {},
   "cell_type": "code",
   "source": [
    "import matplotlib.pyplot as plt\n",
    "\n",
    "fig = plt.figure(figsize=(20, 5))\n",
    "plt.title('Ground Truth')\n",
    "plt.plot(gt_respiration, label='Ground Truth')"
   ],
   "id": "de5ac15274208dff",
   "outputs": [],
   "execution_count": null
  },
  {
   "metadata": {},
   "cell_type": "code",
   "source": [
    "import respiration.analysis as analysis\n",
    "\n",
    "gt_filtered = analysis.butterworth_filter(gt_pleth, 30, 0.08, 0.6)\n",
    "gt_filtered = analysis.normalize_signal(gt_filtered)"
   ],
   "id": "b1c0c2ba3b2bd5ed",
   "outputs": [],
   "execution_count": null
  },
  {
   "metadata": {},
   "cell_type": "code",
   "source": [
    "import matplotlib.pyplot as plt\n",
    "\n",
    "plt.figure(figsize=(20, 5))\n",
    "\n",
    "plt.title('Ground Truth (filtered)')\n",
    "plt.plot(gt_filtered, label='Ground Truth')"
   ],
   "id": "72c2387d6d2a3f1c",
   "outputs": [],
   "execution_count": null
  },
  {
   "metadata": {},
   "cell_type": "code",
   "source": [
    "pleth_freq = analysis.frequency_from_psd(gt_filtered, 30)\n",
    "respiration_freq = analysis.frequency_from_psd(gt_respiration, 30, 0.08, 0.6)\n",
    "\n",
    "print(f'Pleth frequency: {pleth_freq}')\n",
    "print(f'Respiration frequency: {respiration_freq}')"
   ],
   "id": "5be67846b1796c2d",
   "outputs": [],
   "execution_count": null
  }
 ],
 "metadata": {
  "kernelspec": {
   "display_name": "Python 3",
   "language": "python",
   "name": "python3"
  },
  "language_info": {
   "codemirror_mode": {
    "name": "ipython",
    "version": 2
   },
   "file_extension": ".py",
   "mimetype": "text/x-python",
   "name": "python",
   "nbconvert_exporter": "python",
   "pygments_lexer": "ipython2",
   "version": "2.7.6"
  }
 },
 "nbformat": 4,
 "nbformat_minor": 5
}
