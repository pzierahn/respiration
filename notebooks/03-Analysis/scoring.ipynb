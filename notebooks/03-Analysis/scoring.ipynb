{
 "cells": [
  {
   "metadata": {},
   "cell_type": "markdown",
   "source": "# Scoring",
   "id": "6e45dca3ff6fdcfc"
  },
  {
   "cell_type": "code",
   "id": "initial_id",
   "metadata": {
    "collapsed": true
   },
   "source": [
    "import pandas as pd\n",
    "import respiration.utils as utils\n",
    "\n",
    "analysis_dir = utils.dir_path('outputs', 'analysis')\n",
    "\n",
    "frequency_file = utils.file_path(analysis_dir, 'frequency_evaluation.csv')\n",
    "frequency_df = pd.read_csv(frequency_file)\n",
    "\n",
    "distances_file = utils.file_path(analysis_dir, 'distance_evaluation.csv')\n",
    "distances_df = pd.read_csv(distances_file)"
   ],
   "outputs": [],
   "execution_count": null
  },
  {
   "metadata": {},
   "cell_type": "code",
   "source": [
    "# Bigger correlation is better --> 1 - correlation\n",
    "for idx, row in distances_df.iterrows():\n",
    "    if row['metric'] != 'pearson':\n",
    "        continue\n",
    "\n",
    "    distances_df.at[idx, 'mean'] = 1 - row['mean']"
   ],
   "id": "748d516566265dc7",
   "outputs": [],
   "execution_count": null
  },
  {
   "metadata": {},
   "cell_type": "code",
   "source": [
    "import numpy as np\n",
    "\n",
    "# Use the absolute value of the correlation\n",
    "frequency_df['corr'] = frequency_df['corr'].apply(np.abs)"
   ],
   "id": "85b3c689e1d26930",
   "outputs": [],
   "execution_count": null
  },
  {
   "metadata": {},
   "cell_type": "code",
   "source": [
    "frequency_df['mae_rank'] = frequency_df.groupby('metric')['mae'].rank(ascending=True)\n",
    "frequency_df['rmse_rank'] = frequency_df.groupby('metric')['rmse'].rank(ascending=True)\n",
    "frequency_df['corr_rank'] = frequency_df.groupby('metric')['corr'].rank(ascending=False)\n",
    "\n",
    "distances_df['rank'] = distances_df.groupby('metric')['mean'].rank(ascending=True)"
   ],
   "id": "5113d0daa3b318fe",
   "outputs": [],
   "execution_count": null
  },
  {
   "metadata": {},
   "cell_type": "code",
   "source": "distances_df",
   "id": "e0befc622d3152de",
   "outputs": [],
   "execution_count": null
  },
  {
   "metadata": {},
   "cell_type": "code",
   "source": [
    "metric_ranks = []\n",
    "\n",
    "for _, row in frequency_df.iterrows():\n",
    "    model = row['model']\n",
    "    metric = row['metric']\n",
    "\n",
    "    metric_ranks.extend([\n",
    "        {\n",
    "            'model': model,\n",
    "            'metric': f'{metric}-mae',\n",
    "            'rank': row['mae_rank']\n",
    "        },\n",
    "        {\n",
    "            'model': model,\n",
    "            'metric': f'{metric}-rmse',\n",
    "            'rank': row['rmse_rank']\n",
    "        },\n",
    "        {\n",
    "            'model': model,\n",
    "            'metric': f'{metric}-corr',\n",
    "            'rank': row['corr_rank']\n",
    "        },\n",
    "    ])\n",
    "\n",
    "for _, row in distances_df.iterrows():\n",
    "    model = row['model']\n",
    "    metric = row['metric']\n",
    "    \n",
    "    if metric == 'mse':\n",
    "        continue\n",
    "\n",
    "    metric_ranks.append({\n",
    "        'model': model,\n",
    "        'metric': metric,\n",
    "        'rank': row['rank']\n",
    "    })\n",
    "\n",
    "ranks_df = pd.DataFrame(metric_ranks)\n",
    "ranks_df"
   ],
   "id": "e583d7cb06f75",
   "outputs": [],
   "execution_count": null
  },
  {
   "metadata": {},
   "cell_type": "code",
   "source": [
    "# Create a dataframe with the ranks of the models where each rank is a column and the model is the index\n",
    "ranks_df_xxx = ranks_df.pivot(index='model', columns='metric', values='rank')\n",
    "\n",
    "# Store the ranks in a csv file\n",
    "ranks_df_xxx.to_csv(utils.file_path(analysis_dir, 'model_ranks.csv'))"
   ],
   "id": "a9de621bc8cb567e",
   "outputs": [],
   "execution_count": null
  },
  {
   "metadata": {},
   "cell_type": "code",
   "source": [
    "optical_flow_models = [\n",
    "    'FlowNet2',\n",
    "    'FlowNet2C',\n",
    "    'FlowNet2CS',\n",
    "    'FlowNet2CSS',\n",
    "    'FlowNet2S',\n",
    "    'FlowNet2SD',\n",
    "    'lucas_kanade',\n",
    "    'pixel_intensity',\n",
    "    'raft_large',\n",
    "    'raft_small',\n",
    "]\n",
    "\n",
    "other_models = set(ranks_df['model'].unique()) - set(optical_flow_models)\n",
    "other_models"
   ],
   "id": "f11752f31875959c",
   "outputs": [],
   "execution_count": null
  },
  {
   "metadata": {},
   "cell_type": "code",
   "source": [
    "# Get the mean and standard deviation of the ranks for each model\n",
    "mean_ranks = ranks_df.groupby('model')['rank'].mean()\n",
    "std_ranks = ranks_df.groupby('model')['rank'].std()\n",
    "\n",
    "# Rename the columns\n",
    "mean_ranks.name = 'score'\n",
    "std_ranks.name = 'std'\n",
    "\n",
    "# Merge the mean and standard deviation of the ranks\n",
    "scores_df = pd.concat([mean_ranks, std_ranks], axis=1)\n",
    "\n",
    "# Reset the index\n",
    "scores_df.reset_index(inplace=True)\n",
    "scores_df"
   ],
   "id": "79af083ae2576385",
   "outputs": [],
   "execution_count": null
  },
  {
   "metadata": {},
   "cell_type": "code",
   "source": [
    "# Show only the other models\n",
    "scores_df[scores_df['model'].isin(other_models)]"
   ],
   "id": "6b34d0edae71723a",
   "outputs": [],
   "execution_count": null
  },
  {
   "metadata": {},
   "cell_type": "code",
   "source": [
    "# Sort the standard deviation and plot the results\n",
    "scores_df.sort_values('score', inplace=True)\n",
    "scores_df.plot.bar(x='model', y='score', yerr='std', figsize=(20, 5))"
   ],
   "id": "1e66e719498a4471",
   "outputs": [],
   "execution_count": null
  }
 ],
 "metadata": {
  "kernelspec": {
   "display_name": "Python 3",
   "language": "python",
   "name": "python3"
  },
  "language_info": {
   "codemirror_mode": {
    "name": "ipython",
    "version": 2
   },
   "file_extension": ".py",
   "mimetype": "text/x-python",
   "name": "python",
   "nbconvert_exporter": "python",
   "pygments_lexer": "ipython2",
   "version": "2.7.6"
  }
 },
 "nbformat": 4,
 "nbformat_minor": 5
}
