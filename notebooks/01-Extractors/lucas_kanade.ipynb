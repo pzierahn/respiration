{
 "cells": [
  {
   "metadata": {},
   "cell_type": "markdown",
   "source": [
    "# Optical Flow with Lucas-Kanade\n",
    "\n",
    "This notebook demonstrates how to use the Lucas-Kanade optical flow method to extract the breathing signal from a video."
   ],
   "id": "cf3f66d96ef3077"
  },
  {
   "metadata": {},
   "cell_type": "code",
   "source": [
    "from respiration.dataset import VitalCamSet\n",
    "\n",
    "dataset = VitalCamSet()\n",
    "\n",
    "subject = 'Proband16'\n",
    "setting = '101_natural_lighting'\n",
    "\n",
    "subject_frames, params = dataset.get_video_gray(subject, setting, num_frames=30 * 10)"
   ],
   "id": "38877d9593e0b11c",
   "outputs": [],
   "execution_count": null
  },
  {
   "metadata": {},
   "cell_type": "code",
   "source": [
    "quality_level = 0.1\n",
    "quality_level_rv = 0.05"
   ],
   "id": "eb6298885b947e0e",
   "outputs": [],
   "execution_count": null
  },
  {
   "metadata": {},
   "cell_type": "code",
   "source": [
    "import respiration.roi as roi\n",
    "\n",
    "frame1 = subject_frames[0]\n",
    "subject_roi = roi.detect_chest(frame1)"
   ],
   "id": "57541859a60a4401",
   "outputs": [],
   "execution_count": null
  },
  {
   "metadata": {},
   "cell_type": "code",
   "source": [
    "import matplotlib.pyplot as plt\n",
    "import respiration.utils as utils\n",
    "\n",
    "from respiration.extractor import lucas_kanade\n",
    "\n",
    "# Get different feature points for the first frame\n",
    "default_points = lucas_kanade.select_feature_points(frame1)\n",
    "special_points = lucas_kanade.select_feature_points(frame1, fpn=5)\n",
    "roi_points = lucas_kanade.select_feature_points(frame1, roi=subject_roi)\n",
    "special_roi = lucas_kanade.select_feature_points(frame1, roi=subject_roi, fpn=5)\n",
    "\n",
    "# Plot the first frame with the feature points\n",
    "plt.imshow(frame1, cmap='gray')\n",
    "\n",
    "# Draw the region of interest (ROI)\n",
    "# roi_x, roi_y, roi_w, roi_h = subject_roi\n",
    "# plt.gca().add_patch(plt.Rectangle(\n",
    "#     (roi_x, roi_y), roi_w, roi_h,\n",
    "#     linewidth=1, edgecolor='r', facecolor='none'))\n",
    "\n",
    "for iny in range(default_points.shape[0]):\n",
    "    plt.scatter(default_points[iny, 0, 0],\n",
    "                default_points[iny, 0, 1],\n",
    "                c='r', s=2.5)\n",
    "\n",
    "# for iny in range(special_points.shape[0]):\n",
    "#     plt.scatter(special_points[iny, 0, 0],\n",
    "#                 special_points[iny, 0, 1],\n",
    "#                 c='b', s=2.5)\n",
    "\n",
    "# for iny in range(roi_points.shape[0]):\n",
    "#     plt.scatter(roi_points[iny, 0, 0],\n",
    "#                 roi_points[iny, 0, 1],\n",
    "#                 c='#FFFF00', s=2.5)\n",
    "\n",
    "# for iny in range(special_roi.shape[0]):\n",
    "#     plt.scatter(special_roi[iny, 0, 0],\n",
    "#                 special_roi[iny, 0, 1],\n",
    "#                 c='#FF00FF', s=2.5)\n",
    "\n",
    "figure_dir = utils.dir_path('outputs', 'figures', 'lucas_kanade', mkdir=True)\n",
    "utils.savefig(plt.gcf(), figure_dir, 'feature_points')\n",
    "\n",
    "plt.show()"
   ],
   "id": "25fee91e19d2492f",
   "outputs": [],
   "execution_count": null
  },
  {
   "metadata": {},
   "cell_type": "code",
   "source": [
    "# Track the movement of the feature points\n",
    "feature_point_movements = lucas_kanade.track_feature_point_movement(subject_frames, special_points)\n",
    "\n",
    "# Extract the amplitudes of the feature points\n",
    "raw_signal = lucas_kanade.calculate_feature_point_amplitudes(feature_point_movements)"
   ],
   "id": "d4e7ef615d5afdfc",
   "outputs": [],
   "execution_count": null
  },
  {
   "metadata": {},
   "cell_type": "code",
   "source": "feature_point_movements.shape",
   "id": "bc98eac925e3dd43",
   "outputs": [],
   "execution_count": null
  },
  {
   "metadata": {},
   "cell_type": "code",
   "source": [
    "# Plot the raw signal\n",
    "plt.figure(figsize=(20, 6))\n",
    "plt.plot(raw_signal)"
   ],
   "id": "c0ab063585eb2ded",
   "outputs": [],
   "execution_count": null
  },
  {
   "metadata": {},
   "cell_type": "code",
   "source": [
    "preprocessed_unprocessed = lucas_kanade.signal_from_amplitudes(\n",
    "    raw_signal,\n",
    "    use_cgof=False,\n",
    ")\n",
    "\n",
    "signal_cgof = lucas_kanade.signal_from_amplitudes(\n",
    "    raw_signal,\n",
    "    use_cgof=True,\n",
    ")"
   ],
   "id": "7f7b5a3048da95a5",
   "outputs": [],
   "execution_count": null
  },
  {
   "metadata": {},
   "cell_type": "code",
   "source": [
    "import matplotlib.pyplot as plt\n",
    "\n",
    "fig, axs = plt.subplots(2, 1, figsize=(20, 10))\n",
    "\n",
    "# Add some space between the subplots\n",
    "fig.subplots_adjust(hspace=0.5)\n",
    "\n",
    "axs[0].plot(preprocessed_unprocessed)\n",
    "axs[0].set_title('Unprocessed')\n",
    "\n",
    "axs[1].plot(signal_cgof)\n",
    "axs[1].set_title('CGOF')\n",
    "\n",
    "plt.show()"
   ],
   "id": "c0df1e526af5308b",
   "outputs": [],
   "execution_count": null
  },
  {
   "metadata": {},
   "cell_type": "markdown",
   "source": "## Evaluation",
   "id": "ea88ea5338ce601e"
  },
  {
   "metadata": {},
   "cell_type": "code",
   "source": [
    "gt_signal = dataset.get_breathing_signal(subject, setting)\n",
    "\n",
    "# Make sure the ground truth signal has the same length as the predicted signal\n",
    "gt_signal = gt_signal[:len(signal_cgof)]"
   ],
   "id": "d1ffdc8ee4031b85",
   "outputs": [],
   "execution_count": null
  },
  {
   "metadata": {},
   "cell_type": "code",
   "source": [
    "import respiration.analysis as analysis\n",
    "\n",
    "# Calculate the frequencies using the different methods for the ground truth signal\n",
    "compare = analysis.SignalCompare(\n",
    "    signal_cgof,\n",
    "    gt_signal,\n",
    "    params.fps,\n",
    "    detrend_tarvainen=True,\n",
    "    normalize_signal=True,\n",
    "    filter_signal=True,\n",
    ")"
   ],
   "id": "ec52bcb41ebf0536",
   "outputs": [],
   "execution_count": null
  },
  {
   "metadata": {
    "jupyter": {
     "is_executing": true
    }
   },
   "cell_type": "code",
   "source": [
    "fig = plt.figure(figsize=(20, 6))\n",
    "plt.plot(compare.ground_truth, label='Ground Truth Signal')\n",
    "plt.plot(compare.prediction, label='Prediction')\n",
    "plt.legend()\n",
    "plt.show()"
   ],
   "id": "d783fc5c186f6dd8",
   "outputs": [],
   "execution_count": null
  },
  {
   "metadata": {
    "jupyter": {
     "is_executing": true
    }
   },
   "cell_type": "code",
   "source": [
    "# Show the error in beats per minute (BPM) for the different methods\n",
    "compare.bpm_errors()"
   ],
   "id": "76687e6c663db9ff",
   "outputs": [],
   "execution_count": null
  },
  {
   "metadata": {
    "jupyter": {
     "is_executing": true
    }
   },
   "cell_type": "code",
   "source": [
    "# Show the distances between the predicted and ground truth\n",
    "compare.distances()"
   ],
   "id": "a11c12c83c26b055",
   "outputs": [],
   "execution_count": null
  }
 ],
 "metadata": {
  "kernelspec": {
   "display_name": "Python 3",
   "language": "python",
   "name": "python3"
  },
  "language_info": {
   "codemirror_mode": {
    "name": "ipython",
    "version": 2
   },
   "file_extension": ".py",
   "mimetype": "text/x-python",
   "name": "python",
   "nbconvert_exporter": "python",
   "pygments_lexer": "ipython2",
   "version": "2.7.6"
  }
 },
 "nbformat": 4,
 "nbformat_minor": 5
}
