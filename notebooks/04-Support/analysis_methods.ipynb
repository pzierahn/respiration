{
 "cells": [
  {
   "metadata": {},
   "cell_type": "markdown",
   "source": [
    "# Visualise signal analysis\n",
    "\n",
    "This notebook demonstrates the different methods for extracting the frequency from a signal. The signal is a ground truth signal from the dataset. The signal is preprocessed by filtering and normalizing it. The frequency is then extracted using the FFT, peak counting, and crossing point methods. The results are compared to the ground truth frequency."
   ],
   "id": "663ee5e94c15d5e0"
  },
  {
   "metadata": {},
   "cell_type": "code",
   "source": [
    "from respiration.dataset import VitalCamSet\n",
    "\n",
    "dataset = VitalCamSet()\n",
    "\n",
    "subject = 'Proband09'\n",
    "scenario = '101_natural_lighting'"
   ],
   "id": "38877d9593e0b11c",
   "outputs": [],
   "execution_count": null
  },
  {
   "metadata": {},
   "cell_type": "code",
   "source": [
    "hyperparameters = {\n",
    "    'quality_level': 0.1,\n",
    "    'quality_level_rv': 0.05,\n",
    "    'filter_lowpass': 0.1,\n",
    "    'filter_highpass': 0.6,\n",
    "}"
   ],
   "id": "eb6298885b947e0e",
   "outputs": [],
   "execution_count": null
  },
  {
   "metadata": {},
   "cell_type": "code",
   "source": [
    "gt_signal = dataset.get_breathing_signal(subject, scenario)\n",
    "gt_sample_rate = 30"
   ],
   "id": "b29d34f07d1d0e93",
   "outputs": [],
   "execution_count": null
  },
  {
   "metadata": {},
   "cell_type": "markdown",
   "source": "## Signal Preprocessing",
   "id": "fcddf5aad01c0459"
  },
  {
   "metadata": {},
   "cell_type": "code",
   "source": [
    "import respiration.preprocessing as preprocessing\n",
    "\n",
    "signal_filter = preprocessing.butterworth_filter(\n",
    "    gt_signal,\n",
    "    gt_sample_rate,\n",
    "    lowpass=hyperparameters['filter_lowpass'],\n",
    "    highpass=hyperparameters['filter_highpass'],\n",
    ")\n",
    "signal_normalization = preprocessing.normalize_signal(signal_filter)\n",
    "\n",
    "processed_signal = signal_normalization"
   ],
   "id": "7f7b5a3048da95a5",
   "outputs": [],
   "execution_count": null
  },
  {
   "metadata": {},
   "cell_type": "code",
   "source": [
    "import respiration.utils as utils\n",
    "\n",
    "figure_dir = utils.dir_path('outputs', 'figures', 'metrics', mkdir=True)"
   ],
   "id": "5bdf87b5ece22f5e",
   "outputs": [],
   "execution_count": null
  },
  {
   "metadata": {},
   "cell_type": "code",
   "source": [
    "import matplotlib.pyplot as plt\n",
    "\n",
    "fig, axs = plt.subplots(3, 1, figsize=(20, 10))\n",
    "\n",
    "axs[0].plot(gt_signal)\n",
    "axs[0].set_title('Unprocessed')\n",
    "axs[0].set_xlabel('Sample')\n",
    "axs[0].set_ylabel('Amplitude')\n",
    "\n",
    "axs[1].plot(signal_filter)\n",
    "axs[1].set_title('Filtered')\n",
    "axs[1].set_xlabel('Sample')\n",
    "axs[1].set_ylabel('Amplitude')\n",
    "\n",
    "axs[2].plot(signal_normalization)\n",
    "axs[2].set_title('Normalized')\n",
    "axs[2].set_xlabel('Sample')\n",
    "axs[2].set_ylabel('Amplitude')\n",
    "\n",
    "fig.tight_layout()\n",
    "\n",
    "utils.savefig(fig, figure_dir, 'signal_preprocessing')\n",
    "\n",
    "plt.show()"
   ],
   "id": "c0df1e526af5308b",
   "outputs": [],
   "execution_count": null
  },
  {
   "metadata": {},
   "cell_type": "markdown",
   "source": "## Frequency Extraction with FFT",
   "id": "f3335fe61128fb7b"
  },
  {
   "metadata": {},
   "cell_type": "code",
   "source": [
    "from respiration.analysis import *\n",
    "\n",
    "frequencies, fft_result = filtered_periodogram(\n",
    "    processed_signal,\n",
    "    gt_sample_rate,\n",
    "    min_freq=hyperparameters['filter_lowpass'],\n",
    "    max_freq=hyperparameters['filter_highpass']\n",
    ")\n",
    "\n",
    "fig = plt.figure(figsize=(20, 5))\n",
    "\n",
    "# Plot the FFT spectrum\n",
    "plt.plot(frequencies, np.abs(fft_result))\n",
    "plt.title('FFT Spectrum')\n",
    "plt.xlabel('Frequency [Hz]')\n",
    "plt.ylabel('Amplitude')\n",
    "\n",
    "# Mark the max frequency\n",
    "max_freq = frequencies[np.argmax(np.abs(fft_result))]\n",
    "plt.axvline(max_freq, color='r', linestyle='--', label=f'Max Frequency: {max_freq:.2f} Hz')\n",
    "plt.legend()\n",
    "\n",
    "utils.savefig(fig, figure_dir, 'psd')\n",
    "\n",
    "plt.show()"
   ],
   "id": "6e9d698dce252a2",
   "outputs": [],
   "execution_count": null
  },
  {
   "metadata": {},
   "cell_type": "markdown",
   "source": "## Frequency Extraction with Peak Counting",
   "id": "106ff2fbc201b3c"
  },
  {
   "metadata": {},
   "cell_type": "code",
   "source": [
    "peaks = find_peaks(processed_signal, gt_sample_rate)\n",
    "\n",
    "fig = plt.figure(figsize=(20, 5))\n",
    "\n",
    "# Plot the signal with the peaks\n",
    "plt.plot(processed_signal)\n",
    "plt.scatter(peaks, processed_signal[peaks], color='r', label='Peaks')\n",
    "plt.title('Signal with Peaks')\n",
    "plt.xlabel('Sample')\n",
    "plt.ylabel('Amplitude')\n",
    "plt.legend()\n",
    "\n",
    "utils.savefig(fig, figure_dir, 'peaks')\n",
    "\n",
    "plt.show()"
   ],
   "id": "7247438f715dd597",
   "outputs": [],
   "execution_count": null
  },
  {
   "metadata": {},
   "cell_type": "code",
   "source": [
    "print(f'Number of Peaks: {len(peaks)}')\n",
    "pc_frequency = len(peaks) / (len(processed_signal) / gt_sample_rate)\n",
    "print(f'Frequency: {pc_frequency:.2f} Hz')"
   ],
   "id": "dee1c0185ba7880a",
   "outputs": [],
   "execution_count": null
  },
  {
   "metadata": {},
   "cell_type": "markdown",
   "source": "## Frequency Extraction with Crossing Point",
   "id": "7ef10ad63b39297a"
  },
  {
   "metadata": {},
   "cell_type": "code",
   "source": [
    "cross_curve = build_cross_curve(processed_signal, gt_sample_rate)\n",
    "\n",
    "# Plot the signal with the cross curve\n",
    "plt.figure(figsize=(15, 5))\n",
    "plt.plot(processed_signal, label='Signal')\n",
    "plt.plot(cross_curve, label='Cross Curve')\n",
    "plt.title('Signal with Cross Curve')\n",
    "plt.xlabel('Sample')\n",
    "plt.ylabel('Amplitude')\n",
    "plt.legend()"
   ],
   "id": "853b30d0fef35c45",
   "outputs": [],
   "execution_count": null
  },
  {
   "metadata": {},
   "cell_type": "code",
   "source": [
    "cross_points = find_crossing_points(cross_curve)\n",
    "\n",
    "cp_fig, axs = plt.subplots(2, 1, figsize=(20, 5))\n",
    "\n",
    "# Plot the signal with the crossing points\n",
    "signal_ax = axs[0]\n",
    "signal_ax.set_title('Signal with Crossing Points')\n",
    "signal_ax.plot(processed_signal, label='Signal')\n",
    "signal_ax.scatter(cross_points, processed_signal[cross_points], color='r', label='Crossing Points')\n",
    "signal_ax.legend(loc='upper right')\n",
    "\n",
    "# Plot the signal with the crossing points\n",
    "cross_curve_ax = axs[1]\n",
    "cross_curve_ax.set_title('Cross Curve with Crossing Points')\n",
    "cross_curve_ax.plot(cross_curve, label='Cross Curve')\n",
    "cross_curve_ax.scatter(cross_points, cross_curve[cross_points], color='r', label='Crossing Points')\n",
    "cross_curve_ax.legend(loc='upper right')\n",
    "\n",
    "cp_fig.tight_layout()\n",
    "\n",
    "utils.savefig(cp_fig, figure_dir, 'crossing_points')\n",
    "\n",
    "plt.show()"
   ],
   "id": "559c952917f601cc",
   "outputs": [],
   "execution_count": null
  },
  {
   "metadata": {},
   "cell_type": "code",
   "source": [
    "print(f'Number of Crossing Points: {len(cross_points)}')\n",
    "cp_frequency = (len(cross_points) / 2) / (len(processed_signal) / gt_sample_rate)\n",
    "print(f'Frequency: {cp_frequency:.2f} Hz')"
   ],
   "id": "12e09bbcbaf0b669",
   "outputs": [],
   "execution_count": null
  },
  {
   "metadata": {},
   "cell_type": "code",
   "source": [
    "cross_points_nfcp = find_crossing_points_nfcp(cross_curve, gt_sample_rate, quality_level=0.5)\n",
    "\n",
    "nfcp_fig, axs = plt.subplots(2, 1, figsize=(20, 5))\n",
    "\n",
    "# Plot the signal with the crossing points\n",
    "signal_ax = axs[0]\n",
    "signal_ax.set_title('Signal with Crossing Points')\n",
    "signal_ax.plot(processed_signal, label='Signal')\n",
    "signal_ax.scatter(cross_points_nfcp, processed_signal[cross_points_nfcp], color='r', label='Crossing Points')\n",
    "signal_ax.legend(loc='upper right')\n",
    "\n",
    "# Plot the signal with the crossing points\n",
    "cross_curve_ax = axs[1]\n",
    "cross_curve_ax.set_title('Cross Curve with Crossing Points')\n",
    "cross_curve_ax.plot(cross_curve, label='Cross Curve')\n",
    "cross_curve_ax.scatter(cross_points_nfcp, cross_curve[cross_points_nfcp], color='r', label='Crossing Points')\n",
    "cross_curve_ax.legend(loc='upper right')\n",
    "\n",
    "nfcp_fig.tight_layout()\n",
    "\n",
    "utils.savefig(nfcp_fig, figure_dir, 'crossing_points_nfcp')\n",
    "\n",
    "plt.show()"
   ],
   "id": "fbaf73f418917d43",
   "outputs": [],
   "execution_count": null
  },
  {
   "metadata": {},
   "cell_type": "code",
   "source": [
    "print(f'Number of Crossing Points: {len(cross_points_nfcp)}')\n",
    "nfcp_frequency = (len(cross_points_nfcp) / 2) / (len(processed_signal) / gt_sample_rate)\n",
    "print(f'Frequency: {nfcp_frequency:.2f} Hz')"
   ],
   "id": "ae6d6f58e97c73e1",
   "outputs": [],
   "execution_count": null
  },
  {
   "metadata": {},
   "cell_type": "markdown",
   "source": "## Overall Comparison",
   "id": "7f29a1965bd5282f"
  },
  {
   "metadata": {},
   "cell_type": "code",
   "source": [
    "import respiration.utils as utils\n",
    "\n",
    "gt_frequency = {\n",
    "    'unprocessed_signal': {\n",
    "        'PSD': frequency_from_psd(gt_signal, gt_sample_rate),\n",
    "        'PC': frequency_from_peaks(gt_signal, gt_sample_rate),\n",
    "        'CP': frequency_from_crossing_point(gt_signal, gt_sample_rate),\n",
    "        'NFCP': frequency_from_nfcp(gt_signal, gt_sample_rate)\n",
    "    },\n",
    "    'processed_signal': {\n",
    "        'PSD': frequency_from_psd(processed_signal, gt_sample_rate),\n",
    "        'PC': frequency_from_peaks(processed_signal, gt_sample_rate),\n",
    "        'CP': frequency_from_crossing_point(processed_signal, gt_sample_rate),\n",
    "        'NFCP': frequency_from_nfcp(processed_signal, gt_sample_rate)\n",
    "    }\n",
    "}\n",
    "utils.pretty_print(gt_frequency)"
   ],
   "id": "d4018f117e80c968",
   "outputs": [],
   "execution_count": null
  }
 ],
 "metadata": {
  "kernelspec": {
   "display_name": "Python 3",
   "language": "python",
   "name": "python3"
  },
  "language_info": {
   "codemirror_mode": {
    "name": "ipython",
    "version": 2
   },
   "file_extension": ".py",
   "mimetype": "text/x-python",
   "name": "python",
   "nbconvert_exporter": "python",
   "pygments_lexer": "ipython2",
   "version": "2.7.6"
  }
 },
 "nbformat": 4,
 "nbformat_minor": 5
}
