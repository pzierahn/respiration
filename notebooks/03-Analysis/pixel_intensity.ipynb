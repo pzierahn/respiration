{
 "cells": [
  {
   "metadata": {},
   "cell_type": "markdown",
   "source": "# Pixel Intensity Analysis",
   "id": "ab8bdee78031cc65"
  },
  {
   "cell_type": "code",
   "id": "initial_id",
   "metadata": {
    "collapsed": true
   },
   "source": [
    "import numpy as np\n",
    "import pandas as pd\n",
    "import respiration.utils as utils\n",
    "\n",
    "evaluation_dir = utils.dir_path('outputs', 'signals')\n",
    "\n",
    "predictions_file = utils.join_paths(evaluation_dir, 'pixel_intensity.csv')\n",
    "predictions = pd.read_csv(predictions_file)\n",
    "predictions['signal'] = predictions['signal'].apply(eval).apply(np.array)\n",
    "predictions['duration'] = pd.to_timedelta(predictions['duration'])\n",
    "predictions.head()"
   ],
   "outputs": [],
   "execution_count": null
  },
  {
   "metadata": {},
   "cell_type": "markdown",
   "source": "## Compare the predictions to the ground truth",
   "id": "dac9f58f30a88636"
  },
  {
   "metadata": {},
   "cell_type": "code",
   "source": [
    "lowpass = 0.08\n",
    "highpass = 0.5"
   ],
   "id": "6eb285fb4eb8eb1e",
   "outputs": [],
   "execution_count": null
  },
  {
   "metadata": {},
   "cell_type": "code",
   "source": [
    "import tqdm.auto as tqdm\n",
    "import respiration.analysis as analysis\n",
    "\n",
    "from respiration.dataset import VitalCamSet\n",
    "\n",
    "dataset = VitalCamSet()\n",
    "\n",
    "scenario_results = []\n",
    "\n",
    "for index, row in tqdm.tqdm(predictions.iterrows(), total=len(predictions)):\n",
    "    subject, setting = row['subject'], row['setting']\n",
    "\n",
    "    # Get the ground truth signal and sampling rate\n",
    "    gt_signal = dataset.get_breathing_signal(subject, setting)\n",
    "\n",
    "    prediction, sampling_rate = row['signal'], row['sampling_rate']\n",
    "\n",
    "    pred_frequencies = analysis.sliding_window_analysis(prediction, sampling_rate, lowpass, highpass)\n",
    "\n",
    "    min_length = min(len(prediction), len(gt_signal))\n",
    "\n",
    "    gt_signal_cut = gt_signal[:min_length]\n",
    "    gt_frequencies = analysis.sliding_window_analysis(gt_signal_cut, sampling_rate, lowpass, highpass)\n",
    "\n",
    "    for metric in gt_frequencies:\n",
    "        scenario_results.append({\n",
    "            'subject': subject,\n",
    "            'setting': setting,\n",
    "            'model': row['method'],\n",
    "            'metric': metric,\n",
    "            'gt_frequencies': gt_frequencies[metric],\n",
    "            'pred_frequencies': pred_frequencies[metric]\n",
    "        })\n",
    "\n",
    "scenario_results = pd.DataFrame(scenario_results)"
   ],
   "id": "51983551b157c2c1",
   "outputs": [],
   "execution_count": null
  },
  {
   "metadata": {},
   "cell_type": "code",
   "source": [
    "import itertools\n",
    "import scipy.stats as stats\n",
    "\n",
    "models = scenario_results['model'].unique()\n",
    "metrics = scenario_results['metric'].unique()\n",
    "\n",
    "evaluation_frequency = []\n",
    "\n",
    "for (model, metric) in itertools.product(models, metrics):\n",
    "    model_metric_df = scenario_results[\n",
    "        (scenario_results['model'] == model) &\n",
    "        (scenario_results['metric'] == metric)]\n",
    "\n",
    "    # Concatenate the predicted and ground truth frequencies\n",
    "    gt_frequencies = np.concatenate(model_metric_df['gt_frequencies'].values)\n",
    "    pred_frequencies = np.concatenate(model_metric_df['pred_frequencies'].values)\n",
    "\n",
    "    gt_frequencies = gt_frequencies[:len(pred_frequencies)]\n",
    "\n",
    "    mae = np.mean(np.abs(gt_frequencies - pred_frequencies))\n",
    "    rmse = np.sqrt(np.mean((gt_frequencies - pred_frequencies) ** 2))\n",
    "\n",
    "    # Multiply the frequencies by 60 to get the bpm\n",
    "    mae *= 60\n",
    "    rmse *= 60\n",
    "\n",
    "    corr, p = stats.pearsonr(gt_frequencies.flatten(), pred_frequencies.flatten())\n",
    "\n",
    "    evaluation_frequency.append({\n",
    "        'model': model,\n",
    "        'metric': metric,\n",
    "        'mae': mae,\n",
    "        'rmse': rmse,\n",
    "        'corr': corr,\n",
    "        'p': p\n",
    "    })\n",
    "\n",
    "evaluation_frequency = pd.DataFrame(evaluation_frequency)"
   ],
   "id": "84cb9ac8911ea045",
   "outputs": [],
   "execution_count": null
  },
  {
   "metadata": {},
   "cell_type": "code",
   "source": "evaluation_frequency",
   "id": "e312bb326c0564ad",
   "outputs": [],
   "execution_count": null
  }
 ],
 "metadata": {
  "kernelspec": {
   "display_name": "Python 3",
   "language": "python",
   "name": "python3"
  },
  "language_info": {
   "codemirror_mode": {
    "name": "ipython",
    "version": 2
   },
   "file_extension": ".py",
   "mimetype": "text/x-python",
   "name": "python",
   "nbconvert_exporter": "python",
   "pygments_lexer": "ipython2",
   "version": "2.7.6"
  }
 },
 "nbformat": 4,
 "nbformat_minor": 5
}
