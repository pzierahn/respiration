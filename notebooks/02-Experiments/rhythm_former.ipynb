{
 "cells": [
  {
   "metadata": {},
   "cell_type": "markdown",
   "source": "# Extract Respiration Signal with PhysFormer",
   "id": "52f6c1718f03adc8"
  },
  {
   "metadata": {},
   "cell_type": "code",
   "source": [
    "from respiration.dataset import VitalCamSet\n",
    "\n",
    "dataset = VitalCamSet()"
   ],
   "id": "4b78c47457679ff0",
   "outputs": [],
   "execution_count": null
  },
  {
   "metadata": {},
   "cell_type": "code",
   "source": [
    "import torch\n",
    "import respiration.utils as utils\n",
    "from respiration.extractor.rhythm_former import *\n",
    "\n",
    "device = utils.get_torch_device()\n",
    "\n",
    "model_mmpd = utils.file_path('data', 'rhythm_former', 'MMPD_intra_RhythmFormer.pth')\n",
    "model_pure = utils.file_path('data', 'rhythm_former', 'PURE_cross_RhythmFormer.pth')\n",
    "model_ubfc = utils.file_path('data', 'rhythm_former', 'UBFC_cross_RhythmFormer.pth')\n",
    "\n",
    "models = {\n",
    "    'MMPD_intra_RhythmFormer': model_mmpd,\n",
    "    'PURE_cross_RhythmFormer': model_pure,\n",
    "    'UBFC_cross_RhythmFormer': model_ubfc,\n",
    "}"
   ],
   "id": "c4dc5f528d1e36c8",
   "outputs": [],
   "execution_count": null
  },
  {
   "metadata": {},
   "cell_type": "code",
   "source": [
    "import torchvision.transforms as transforms\n",
    "\n",
    "\n",
    "def preprocess_frames(frames):\n",
    "    # Preprocess the frames to be in 128x128 with torch\n",
    "    transform = transforms.Compose([\n",
    "        transforms.ToPILImage(mode='RGB'),\n",
    "        transforms.Resize((128, 128)),\n",
    "        transforms.ToTensor(),\n",
    "    ])\n",
    "\n",
    "    # Transform each frame\n",
    "    transformed_frames = torch.stack([\n",
    "        transform(frame) for frame in frames\n",
    "    ])\n",
    "\n",
    "    return transformed_frames.unsqueeze(0).to(device)"
   ],
   "id": "7d73550aebdd896",
   "outputs": [],
   "execution_count": null
  },
  {
   "metadata": {},
   "cell_type": "code",
   "source": [
    "from datetime import datetime\n",
    "from tqdm.auto import tqdm\n",
    "\n",
    "scenarios = dataset.get_scenarios(['101_natural_lighting'])\n",
    "\n",
    "predictions = []\n",
    "\n",
    "for (subject, setting) in tqdm(scenarios):\n",
    "    frames, params = dataset.get_video_rgb(subject, setting)\n",
    "    frames = preprocess_frames(frames)\n",
    "\n",
    "    for model_name, model_path in models.items():\n",
    "        model = RhythmFormer()\n",
    "        # Fix model loading: Some key have an extra 'module.' prefix\n",
    "        model = torch.nn.DataParallel(model)\n",
    "        model.to(device)\n",
    "\n",
    "        _ = model.load_state_dict(torch.load(model_path, map_location=device))\n",
    "\n",
    "        start_time = datetime.now()\n",
    "        with torch.no_grad():\n",
    "            model.eval()\n",
    "            output = model(frames)\n",
    "\n",
    "        predictions.append({\n",
    "            'subject': subject,\n",
    "            'setting': setting,\n",
    "            'model': model_name,\n",
    "            'time': datetime.now() - start_time,\n",
    "            'signal': output.cpu().numpy().unsqueeze(0).tolist(),\n",
    "        })\n",
    "\n",
    "    del frames, params"
   ],
   "id": "619c4aa8da33150b",
   "outputs": [],
   "execution_count": null
  },
  {
   "metadata": {},
   "cell_type": "code",
   "source": [
    "import pandas as pd\n",
    "import respiration.utils as utils\n",
    "\n",
    "signal_dir = utils.dir_path('outputs', 'signals', mkdir=True)\n",
    "signal_file = utils.file_path(signal_dir, 'rhythm_former.csv')\n",
    "\n",
    "df = pd.DataFrame(predictions)\n",
    "df.to_csv(signal_file, index=False)\n",
    "df.head()"
   ],
   "id": "ac477511edf91e1c",
   "outputs": [],
   "execution_count": null
  }
 ],
 "metadata": {
  "kernelspec": {
   "display_name": "Python 3",
   "language": "python",
   "name": "python3"
  },
  "language_info": {
   "codemirror_mode": {
    "name": "ipython",
    "version": 2
   },
   "file_extension": ".py",
   "mimetype": "text/x-python",
   "name": "python",
   "nbconvert_exporter": "python",
   "pygments_lexer": "ipython2",
   "version": "2.7.6"
  }
 },
 "nbformat": 4,
 "nbformat_minor": 5
}
