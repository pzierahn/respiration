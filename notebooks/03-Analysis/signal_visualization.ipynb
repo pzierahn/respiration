{
 "cells": [
  {
   "metadata": {},
   "cell_type": "markdown",
   "source": [
    "# Evaluation\n",
    "\n",
    "Steps:\n",
    "1. Harmonize the predictions to have the same format\n",
    "2. Extract the frequencies using a sliding window approach\n",
    "3. Evaluate the performance of the models\n",
    "4. Visualize the results"
   ],
   "id": "858d2eaef54d2b36"
  },
  {
   "metadata": {},
   "cell_type": "markdown",
   "source": "## Step 1: Harmonize the predictions",
   "id": "d5de492f4255dbcf"
  },
  {
   "metadata": {},
   "cell_type": "code",
   "source": [
    "from respiration.analysis import PredictionsReader\n",
    "\n",
    "predictions = PredictionsReader().read_all()\n",
    "len(predictions)"
   ],
   "id": "26fd22df832dffa8",
   "outputs": [],
   "execution_count": null
  },
  {
   "metadata": {},
   "cell_type": "code",
   "source": [
    "# Show all models\n",
    "predictions['model'].unique()"
   ],
   "id": "d82d14565cc8fd72",
   "outputs": [],
   "execution_count": null
  },
  {
   "metadata": {},
   "cell_type": "markdown",
   "source": "## Step 2: Extract the frequencies using a sliding window approach",
   "id": "37e70d5e3a50c222"
  },
  {
   "metadata": {},
   "cell_type": "code",
   "source": [
    "from respiration.dataset import VitalCamSet\n",
    "\n",
    "dataset = VitalCamSet()"
   ],
   "id": "42dfbd471b70b5f9",
   "outputs": [],
   "execution_count": null
  },
  {
   "metadata": {},
   "cell_type": "code",
   "source": [
    "subject = 'Proband24'\n",
    "setting = '101_natural_lighting'\n",
    "setting2 = '303_normalized_face'"
   ],
   "id": "23a3569739b6f56e",
   "outputs": [],
   "execution_count": null
  },
  {
   "metadata": {},
   "cell_type": "code",
   "source": [
    "sampling_rate = 30\n",
    "lowpass = 0.1\n",
    "highpass = 0.5"
   ],
   "id": "a447e4d03c48556b",
   "outputs": [],
   "execution_count": null
  },
  {
   "metadata": {},
   "cell_type": "code",
   "source": [
    "from respiration.analysis import (\n",
    "    butterworth_filter,\n",
    "    normalize_signal,\n",
    ")\n",
    "\n",
    "models = [\n",
    "    # 'lucas_kanade',\n",
    "    # 'SimpleViT_20240729_195756',\n",
    "    'RF_20240903_051739',\n",
    "    'RF_20240904_001421',\n",
    "    # 'raft_small',\n",
    "    # 'pixel_intensity_grey',\n",
    "    # 'tf_20240729_195756',\n",
    "    # 'MMPD_intra_RhythmFormer',\n",
    "    # 'mtts_can',\n",
    "    # 'big_small',\n",
    "]\n",
    "\n",
    "signals = []\n",
    "\n",
    "for model in models:\n",
    "    print(f'{model}:')\n",
    "    \n",
    "    if model == 'RF_20240904_001421':\n",
    "        set = setting2\n",
    "    else:\n",
    "        set = setting\n",
    "    \n",
    "    prediction_x = predictions[\n",
    "        (predictions['subject'] == subject) &\n",
    "        (predictions['setting'] == set) &\n",
    "        (predictions['model'] == model)].iloc[0]['signal']\n",
    "\n",
    "    print(f'{model}: {prediction_x.shape}')\n",
    "\n",
    "    # Normalize the signals\n",
    "    prediction = normalize_signal(prediction_x)\n",
    "\n",
    "    # Filter the signals\n",
    "    prediction = butterworth_filter(prediction, sampling_rate, lowpass, highpass)\n",
    "\n",
    "    # Add the signals to the list\n",
    "    signals.append({\n",
    "        'label': model,\n",
    "        'signal': prediction,\n",
    "        'signal_x': prediction_x,\n",
    "    })"
   ],
   "id": "6453d70d837bad2d",
   "outputs": [],
   "execution_count": null
  },
  {
   "metadata": {},
   "cell_type": "code",
   "source": [
    "# Get the ground truth signal\n",
    "gt_signal_xxx = dataset.get_breathing_signal(subject, setting)\n",
    "gt_signal = dataset.get_breathing_signal(subject, setting)\n",
    "gt_signal = normalize_signal(gt_signal)\n",
    "gt_signal = butterworth_filter(gt_signal, sampling_rate, lowpass, highpass)"
   ],
   "id": "159da1bea75c3e7f",
   "outputs": [],
   "execution_count": null
  },
  {
   "metadata": {},
   "cell_type": "code",
   "source": [
    "# Plot the gt_signal_xxx signal\n",
    "import matplotlib.pyplot as plt\n",
    "\n",
    "plt.figure(figsize=(20, 5))\n",
    "plt.plot(gt_signal_xxx)\n",
    "plt.title('Ground truth signal')\n",
    "plt.show()"
   ],
   "id": "462021326677e0c9",
   "outputs": [],
   "execution_count": null
  },
  {
   "metadata": {},
   "cell_type": "code",
   "source": [
    "# Create an interactive plot\n",
    "import numpy as np\n",
    "import plotly.graph_objects as go\n",
    "\n",
    "fig = go.Figure()\n",
    "\n",
    "fig.add_trace(go.Scatter(x=np.arange(len(gt_signal)), y=gt_signal, mode='lines', name='Ground truth'))\n",
    "\n",
    "for signal in signals:\n",
    "    fig.add_trace(\n",
    "        go.Scatter(x=np.arange(len(signal['signal'])), y=signal['signal'], mode='lines', name=signal['label']))\n",
    "\n",
    "fig.show()"
   ],
   "id": "c5c7c171ada335fc",
   "outputs": [],
   "execution_count": null
  },
  {
   "metadata": {},
   "cell_type": "code",
   "source": [
    "from respiration.analysis import frequency_from_psd\n",
    "\n",
    "gt_freq = frequency_from_psd(gt_signal, sampling_rate)\n",
    "print(f'Ground truth signal {gt_freq:.2f} ({gt_freq * 60:.2f} bpm)')"
   ],
   "id": "3f36ed30e2ec9785",
   "outputs": [],
   "execution_count": null
  }
 ],
 "metadata": {
  "kernelspec": {
   "display_name": "Python 3",
   "language": "python",
   "name": "python3"
  },
  "language_info": {
   "codemirror_mode": {
    "name": "ipython",
    "version": 2
   },
   "file_extension": ".py",
   "mimetype": "text/x-python",
   "name": "python",
   "nbconvert_exporter": "python",
   "pygments_lexer": "ipython2",
   "version": "2.7.6"
  }
 },
 "nbformat": 4,
 "nbformat_minor": 5
}
