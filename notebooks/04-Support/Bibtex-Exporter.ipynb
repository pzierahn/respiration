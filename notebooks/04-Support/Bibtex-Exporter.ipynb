{
 "cells": [
  {
   "metadata": {},
   "cell_type": "markdown",
   "source": "# Export References to Bibtex",
   "id": "16d68f9b7349219"
  },
  {
   "cell_type": "code",
   "id": "initial_id",
   "metadata": {
    "collapsed": true
   },
   "source": [
    "import respiration.utils as utils\n",
    "\n",
    "data_dir = utils.dir_path('data', 'notion-export')\n",
    "\n",
    "taxonomy_csv = utils.file_path(data_dir, 'taxonomy.csv')\n",
    "dataset_csv = utils.file_path(data_dir, 'datasets.csv')\n",
    "background_csv = utils.file_path(data_dir, 'background.csv')"
   ],
   "outputs": [],
   "execution_count": null
  },
  {
   "metadata": {},
   "cell_type": "code",
   "source": [
    "import pandas as pd\n",
    "\n",
    "taxonomy = pd.read_csv(taxonomy_csv)\n",
    "datasets = pd.read_csv(dataset_csv)\n",
    "background = pd.read_csv(background_csv)"
   ],
   "id": "f42d7339e148e174",
   "outputs": [],
   "execution_count": null
  },
  {
   "metadata": {},
   "cell_type": "code",
   "source": [
    "# Sort the dataframes by ID column\n",
    "taxonomy = taxonomy.sort_values('ID')\n",
    "datasets = datasets.sort_values('ID')\n",
    "background = background.sort_values('ID')"
   ],
   "id": "b61fd97041818d28",
   "outputs": [],
   "execution_count": null
  },
  {
   "metadata": {},
   "cell_type": "code",
   "source": [
    "import bibtexparser\n",
    "\n",
    "bibtex = ''\n",
    "\n",
    "bibtex += '%\\n% Taxonomy\\n%\\n\\n'\n",
    "for inx, row in taxonomy.iterrows():\n",
    "    library = bibtexparser.loads(row['BibTxt'])\n",
    "    bibtex += bibtexparser.dumps(library) + '\\n'\n",
    "\n",
    "bibtex += '%\\n% Datasets\\n%\\n\\n'\n",
    "for inx, row in datasets.iterrows():\n",
    "    library = bibtexparser.loads(row['BibTxt'])\n",
    "    bibtex += bibtexparser.dumps(library) + '\\n'\n",
    "\n",
    "bibtex += '%\\n% Background\\n%\\n\\n'\n",
    "for inx, row in background.iterrows():\n",
    "    library = bibtexparser.loads(row['BibTxt'])\n",
    "    bibtex += bibtexparser.dumps(library) + '\\n'"
   ],
   "id": "b4a90d156810a868",
   "outputs": [],
   "execution_count": null
  },
  {
   "metadata": {},
   "cell_type": "code",
   "source": [
    "# Save to file in data directory\n",
    "bibtex_file = utils.file_path(data_dir, 'references.bib')\n",
    "with open(bibtex_file, 'w') as file:\n",
    "    file.write(bibtex)"
   ],
   "id": "1b527c24b1d17703",
   "outputs": [],
   "execution_count": null
  }
 ],
 "metadata": {
  "kernelspec": {
   "display_name": "Python 3",
   "language": "python",
   "name": "python3"
  },
  "language_info": {
   "codemirror_mode": {
    "name": "ipython",
    "version": 2
   },
   "file_extension": ".py",
   "mimetype": "text/x-python",
   "name": "python",
   "nbconvert_exporter": "python",
   "pygments_lexer": "ipython2",
   "version": "2.7.6"
  }
 },
 "nbformat": 4,
 "nbformat_minor": 5
}
