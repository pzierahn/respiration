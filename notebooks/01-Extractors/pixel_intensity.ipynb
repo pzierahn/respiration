{
 "cells": [
  {
   "metadata": {},
   "cell_type": "markdown",
   "source": [
    "# Pixel Intensity\n",
    "\n",
    "This notebook demonstrates how to calculate the respiratory rate from the average pixel intensity in the chest region of a video."
   ],
   "id": "d1a950d145ab9d09"
  },
  {
   "metadata": {},
   "cell_type": "code",
   "source": [
    "from respiration.dataset import VitalCamSet\n",
    "\n",
    "dataset = VitalCamSet()\n",
    "\n",
    "subject = 'Proband16'\n",
    "scenario = '101_natural_lighting'\n",
    "\n",
    "frames, video_params = dataset.get_video_gray(subject, scenario, num_frames=30 * 20)"
   ],
   "id": "c2a016b1feb2436c",
   "execution_count": null,
   "outputs": []
  },
  {
   "metadata": {},
   "cell_type": "markdown",
   "source": "",
   "id": "7df52606dd34fea5"
  },
  {
   "metadata": {},
   "cell_type": "markdown",
   "source": "## Calculate the average pixel intensity in the chest region",
   "id": "d8aa5640c525d9f3"
  },
  {
   "metadata": {},
   "cell_type": "code",
   "source": [
    "import respiration.roi as roi\n",
    "import respiration.extractor.pixel_intensity as pixel_intensity\n",
    "\n",
    "chest_roi = roi.detect_chest(frames[0])\n",
    "# Calculate the average pixel intensity in the chest region\n",
    "average_pixels = pixel_intensity.average_pixel_intensity(frames, chest_roi)"
   ],
   "id": "5e5dbfa56a4f39e",
   "execution_count": null,
   "outputs": []
  },
  {
   "metadata": {},
   "cell_type": "code",
   "source": [
    "import matplotlib.pyplot as plt\n",
    "\n",
    "# Plot the average pixel intensity in the chest region with matplotlib\n",
    "plt.figure(figsize=(20, 5))\n",
    "plt.plot(average_pixels)\n",
    "plt.title('Average pixel intensity in the chest region')\n",
    "plt.xlabel('Frame')\n",
    "plt.ylabel('Average pixel intensity')\n",
    "plt.show()"
   ],
   "id": "e1b4f6d5ebba2db0",
   "execution_count": null,
   "outputs": []
  },
  {
   "metadata": {},
   "cell_type": "markdown",
   "source": "## Calculate the respiratory rate",
   "id": "bc9cf3c807268ff4"
  },
  {
   "metadata": {},
   "cell_type": "code",
   "source": [
    "import respiration.analysis as analysis\n",
    "\n",
    "lowpass = 0.08\n",
    "highpass = 0.6\n",
    "\n",
    "# Calculate the fast fourier transform of the average pixel intensity\n",
    "frequencies, pixels_fft = analysis.filtered_periodogram(average_pixels, video_params.fps, lowpass, highpass)"
   ],
   "id": "2285ee0b3b90a1e4",
   "execution_count": null,
   "outputs": []
  },
  {
   "metadata": {},
   "cell_type": "code",
   "source": [
    "import numpy as np\n",
    "\n",
    "# Plot the filtered frequency spectrum\n",
    "plt.figure(figsize=(20, 5))\n",
    "plt.plot(frequencies, np.abs(pixels_fft))\n",
    "plt.title('FFT of the average pixel intensity')\n",
    "plt.xlabel('Frequency (Hz)')\n",
    "plt.ylabel('Amplitude')"
   ],
   "id": "ce90aea6f60da4e3",
   "execution_count": null,
   "outputs": []
  },
  {
   "metadata": {},
   "cell_type": "code",
   "source": "analysis.frequency_from_psd(average_pixels, video_params.fps, lowpass, highpass)",
   "id": "9ad58bbe62c75bb2",
   "execution_count": null,
   "outputs": []
  }
 ],
 "metadata": {
  "kernelspec": {
   "display_name": "Python 3",
   "language": "python",
   "name": "python3"
  },
  "language_info": {
   "codemirror_mode": {
    "name": "ipython",
    "version": 2
   },
   "file_extension": ".py",
   "mimetype": "text/x-python",
   "name": "python",
   "nbconvert_exporter": "python",
   "pygments_lexer": "ipython2",
   "version": "2.7.6"
  }
 },
 "nbformat": 4,
 "nbformat_minor": 5
}
